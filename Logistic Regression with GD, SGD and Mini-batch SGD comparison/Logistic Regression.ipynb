{
 "cells": [
  {
   "cell_type": "markdown",
   "metadata": {},
   "source": [
    "## Numerical Optimization for Logistic Regression."
   ]
  },
  {
   "cell_type": "markdown",
   "metadata": {},
   "source": [
    "#### 1.1. Load the data"
   ]
  },
  {
   "cell_type": "code",
   "execution_count": 1,
   "metadata": {},
   "outputs": [
    {
     "name": "stdout",
     "output_type": "stream",
     "text": [
      "Shape of x: (768, 8)\n",
      "Shape of y: (768,)\n"
     ]
    }
   ],
   "source": [
    "from sklearn import datasets\n",
    "import numpy\n",
    "\n",
    "x_sparse, y = datasets.load_svmlight_file('diabetes')\n",
    "x = x_sparse.todense()\n",
    "\n",
    "print('Shape of x: ' + str(x.shape))\n",
    "print('Shape of y: ' + str(y.shape))"
   ]
  },
  {
   "cell_type": "markdown",
   "metadata": {},
   "source": [
    "#### 1.2. Partition to training and test sets"
   ]
  },
  {
   "cell_type": "code",
   "execution_count": 2,
   "metadata": {},
   "outputs": [
    {
     "name": "stdout",
     "output_type": "stream",
     "text": [
      "Shape of x_train: (640, 8)\n",
      "Shape of x_test: (128, 8)\n",
      "Shape of y_train: (640, 1)\n",
      "Shape of y_test: (128, 1)\n"
     ]
    }
   ],
   "source": [
    "# partition the data to training and test sets\n",
    "n = x.shape[0]\n",
    "n_train = 640\n",
    "n_test = n - n_train\n",
    "\n",
    "rand_indices = numpy.random.permutation(n)\n",
    "train_indices = rand_indices[0:n_train]\n",
    "test_indices = rand_indices[n_train:n]\n",
    "\n",
    "x_train = x[train_indices, :]\n",
    "x_test = x[test_indices, :]\n",
    "y_train = y[train_indices].reshape(n_train, 1)\n",
    "y_test = y[test_indices].reshape(n_test, 1)\n",
    "\n",
    "print('Shape of x_train: ' + str(x_train.shape))\n",
    "print('Shape of x_test: ' + str(x_test.shape))\n",
    "print('Shape of y_train: ' + str(y_train.shape))\n",
    "print('Shape of y_test: ' + str(y_test.shape))"
   ]
  },
  {
   "cell_type": "markdown",
   "metadata": {},
   "source": [
    "#### 1.3. Feature scaling"
   ]
  },
  {
   "cell_type": "code",
   "execution_count": 3,
   "metadata": {},
   "outputs": [
    {
     "name": "stdout",
     "output_type": "stream",
     "text": [
      "test mean = \n",
      "[[ 0.02160114 -0.0045921   0.02427443 -0.14950559 -0.06461667  0.00538388\n",
      "   0.07789117 -0.0967077 ]]\n",
      "test std = \n",
      "[[0.94131385 1.05700898 0.94934615 0.93162485 0.78396497 1.09694917\n",
      "  1.07093478 0.91484109]]\n"
     ]
    }
   ],
   "source": [
    "# Standardization\n",
    "import numpy\n",
    "\n",
    "# calculate mu and sig using the training set\n",
    "d = x_train.shape[1]\n",
    "mu = numpy.mean(x_train, axis=0).reshape(1, d)\n",
    "sig = numpy.std(x_train, axis=0).reshape(1, d)\n",
    "\n",
    "# transform the training features\n",
    "x_train = (x_train - mu) / (sig + 1E-6)\n",
    "\n",
    "# transform the test features\n",
    "x_test = (x_test - mu) / (sig + 1E-6)\n",
    "\n",
    "print('test mean = ')\n",
    "print(numpy.mean(x_test, axis=0))\n",
    "\n",
    "print('test std = ')\n",
    "print(numpy.std(x_test, axis=0))"
   ]
  },
  {
   "cell_type": "markdown",
   "metadata": {},
   "source": [
    "#### 1.4. Add a dimension of all ones"
   ]
  },
  {
   "cell_type": "code",
   "execution_count": 4,
   "metadata": {},
   "outputs": [
    {
     "name": "stdout",
     "output_type": "stream",
     "text": [
      "Shape of x_train: (640, 9)\n",
      "Shape of x_test: (128, 9)\n"
     ]
    }
   ],
   "source": [
    "n_train, d = x_train.shape\n",
    "x_train = numpy.concatenate((x_train, numpy.ones((n_train, 1))), axis=1)\n",
    "\n",
    "n_test, d = x_test.shape\n",
    "x_test = numpy.concatenate((x_test, numpy.ones((n_test, 1))), axis=1)\n",
    "\n",
    "print('Shape of x_train: ' + str(x_train.shape))\n",
    "print('Shape of x_test: ' + str(x_test.shape))"
   ]
  },
  {
   "cell_type": "markdown",
   "metadata": {},
   "source": [
    "#### 2. Logistic regression model"
   ]
  },
  {
   "cell_type": "code",
   "execution_count": 5,
   "metadata": {},
   "outputs": [],
   "source": [
    "# Calculate the objective function value\n",
    "# Inputs:\n",
    "#     w: d-by-1 matrix\n",
    "#     x: n-by-d matrix\n",
    "#     y: n-by-1 matrix\n",
    "#     lam: scalar, the regularization parameter\n",
    "# Return:\n",
    "#     objective function value (scalar)\n",
    "def objective(w, x, y, lam):\n",
    "    n, d = x.shape\n",
    "    yx = numpy.multiply(y, x) # n-by-d matrix\n",
    "    yxw = numpy.dot(yx, w) # n-by-1 matrix\n",
    "    vec1 = numpy.exp(-yxw) # n-by-1 matrix\n",
    "    vec2 = numpy.log(1 + vec1) # n-by-1 matrix\n",
    "    loss = numpy.mean(vec2) # scalar\n",
    "    reg = lam / 2 * numpy.sum(w * w) # scalar\n",
    "    return loss + reg\n",
    "\n"
   ]
  },
  {
   "cell_type": "code",
   "execution_count": 6,
   "metadata": {},
   "outputs": [
    {
     "name": "stdout",
     "output_type": "stream",
     "text": [
      "Initial objective function value = 0.6931471805599453\n"
     ]
    }
   ],
   "source": [
    "# initialize w\n",
    "d = x_train.shape[1]\n",
    "w = numpy.zeros((d, 1))\n",
    "\n",
    "# evaluate the objective function value at w\n",
    "lam = 1E-6\n",
    "objval0 = objective(w, x_train, y_train, lam)\n",
    "print('Initial objective function value = ' + str(objval0))"
   ]
  },
  {
   "cell_type": "markdown",
   "metadata": {},
   "source": [
    "#### 3. Numerical optimization\n",
    "#### 3.1. Gradient descent"
   ]
  },
  {
   "cell_type": "code",
   "execution_count": 7,
   "metadata": {},
   "outputs": [],
   "source": [
    "# Calculate the gradient\n",
    "# Inputs:\n",
    "#     w: d-by-1 matrix\n",
    "#     x: n-by-d matrix\n",
    "#     y: n-by-1 matrix\n",
    "#     lam: scalar, the regularization parameter\n",
    "# Return:\n",
    "#     g: g: d-by-1 matrix, full gradient\n",
    "def gradient(w, x, y, lam):\n",
    "    n, d = x.shape\n",
    "    yx = numpy.multiply(y, x) # n-by-d matrix\n",
    "    yxw = numpy.dot(yx, w) # n-by-1 matrix\n",
    "    vec1 = numpy.exp(yxw) # n-by-1 matrix\n",
    "    vec2 = numpy.divide(yx, 1+vec1) # n-by-d matrix\n",
    "    vec3 = -numpy.mean(vec2, axis=0).reshape(d, 1) # d-by-1 matrix\n",
    "    g = vec3 + lam * w\n",
    "    return g"
   ]
  },
  {
   "cell_type": "code",
   "execution_count": 8,
   "metadata": {},
   "outputs": [],
   "source": [
    "# Gradient descent for solving logistic regression\n",
    "# Inputs:\n",
    "#     x: n-by-d matrix\n",
    "#     y: n-by-1 matrix\n",
    "#     lam: scalar, the regularization parameter\n",
    "#     stepsize: scalar\n",
    "#     max_iter: integer, the maximal iterations\n",
    "#     w: d-by-1 matrix, initialization of w\n",
    "# Return:\n",
    "#     w: d-by-1 matrix, the solution\n",
    "#     objvals: a record of each iteration's objective value\n",
    "def grad_descent(x, y, lam, stepsize, max_iter=100, w=None):\n",
    "    n, d = x.shape\n",
    "    objvals = numpy.zeros(max_iter) # store the objective values\n",
    "    if w is None:\n",
    "        w = numpy.zeros((d, 1)) # zero initialization\n",
    "    \n",
    "    for t in range(max_iter):\n",
    "        objval = objective(w, x, y, lam)\n",
    "        objvals[t] = objval\n",
    "        print('Objective value at t=' + str(t) + ' is ' + str(objval))\n",
    "        g = gradient(w, x, y, lam)\n",
    "        w -= stepsize * g\n",
    "    \n",
    "    return w, objvals"
   ]
  },
  {
   "cell_type": "code",
   "execution_count": 9,
   "metadata": {},
   "outputs": [
    {
     "name": "stdout",
     "output_type": "stream",
     "text": [
      "Objective value at t=0 is 0.6931471805599453\n",
      "Objective value at t=1 is 0.5879224692522423\n",
      "Objective value at t=2 is 0.5454529142222948\n",
      "Objective value at t=3 is 0.522861210866472\n",
      "Objective value at t=4 is 0.5089041308442687\n",
      "Objective value at t=5 is 0.49952807313779013\n",
      "Objective value at t=6 is 0.49289517596166355\n",
      "Objective value at t=7 is 0.48803728523638784\n",
      "Objective value at t=8 is 0.48438960916541596\n",
      "Objective value at t=9 is 0.48159830854518626\n",
      "Objective value at t=10 is 0.479430047377577\n",
      "Objective value at t=11 is 0.47772498363931504\n",
      "Objective value at t=12 is 0.47637036169550323\n",
      "Objective value at t=13 is 0.47528475693256317\n",
      "Objective value at t=14 is 0.47440822473044536\n",
      "Objective value at t=15 is 0.47369590920912164\n",
      "Objective value at t=16 is 0.4731137713872405\n",
      "Objective value at t=17 is 0.47263566293660225\n",
      "Objective value at t=18 is 0.4722412795951464\n",
      "Objective value at t=19 is 0.47191470384888506\n",
      "Objective value at t=20 is 0.4716433506619295\n",
      "Objective value at t=21 is 0.47141719392961845\n",
      "Objective value at t=22 is 0.47122819162573426\n",
      "Objective value at t=23 is 0.47106985363343407\n",
      "Objective value at t=24 is 0.4709369133947921\n",
      "Objective value at t=25 is 0.4708250760157428\n",
      "Objective value at t=26 is 0.4707308233034763\n",
      "Objective value at t=27 is 0.47065126163556664\n",
      "Objective value at t=28 is 0.4705840023600954\n",
      "Objective value at t=29 is 0.47052706712201897\n",
      "Objective value at t=30 is 0.4704788124456981\n",
      "Objective value at t=31 is 0.4704378693067873\n",
      "Objective value at t=32 is 0.4704030944547713\n",
      "Objective value at t=33 is 0.47037353100781104\n",
      "Objective value at t=34 is 0.4703483764089516\n",
      "Objective value at t=35 is 0.47032695625971327\n",
      "Objective value at t=36 is 0.4703087028709339\n",
      "Objective value at t=37 is 0.47029313761822283\n",
      "Objective value at t=38 is 0.470279856379857\n",
      "Objective value at t=39 is 0.470268517482529\n",
      "Objective value at t=40 is 0.47025883169542426\n",
      "Objective value at t=41 is 0.4702505539033563\n",
      "Objective value at t=42 is 0.47024347616088086\n",
      "Objective value at t=43 is 0.4702374218857646\n",
      "Objective value at t=44 is 0.47023224099517064\n",
      "Objective value at t=45 is 0.4702278058239549\n",
      "Objective value at t=46 is 0.47022400769343525\n",
      "Objective value at t=47 is 0.4702207540224043\n",
      "Objective value at t=48 is 0.4702179658911275\n",
      "Objective value at t=49 is 0.47021557598451214\n",
      "Objective value at t=50 is 0.47021352685324835\n",
      "Objective value at t=51 is 0.47021176944205284\n",
      "Objective value at t=52 is 0.4702102618426453\n",
      "Objective value at t=53 is 0.4702089682360782\n",
      "Objective value at t=54 is 0.4702078579948424\n",
      "Objective value at t=55 is 0.4702069049199483\n",
      "Objective value at t=56 is 0.4702060865921765\n",
      "Objective value at t=57 is 0.47020538381999993\n",
      "Objective value at t=58 is 0.4702047801694476\n",
      "Objective value at t=59 is 0.4702042615634896\n",
      "Objective value at t=60 is 0.4702038159404558\n",
      "Objective value at t=61 is 0.47020343296262773\n",
      "Objective value at t=62 is 0.47020310376750335\n",
      "Objective value at t=63 is 0.470202820755381\n",
      "Objective value at t=64 is 0.4702025774078774\n",
      "Objective value at t=65 is 0.4702023681328084\n",
      "Objective value at t=66 is 0.4702021881315491\n",
      "Objective value at t=67 is 0.4702020332855733\n",
      "Objective value at t=68 is 0.4702019000593647\n",
      "Objective value at t=69 is 0.47020178541731045\n",
      "Objective value at t=70 is 0.4702016867525395\n",
      "Objective value at t=71 is 0.4702016018259729\n",
      "Objective value at t=72 is 0.4702015287141052\n",
      "Objective value at t=73 is 0.47020146576425303\n",
      "Objective value at t=74 is 0.47020141155619594\n",
      "Objective value at t=75 is 0.47020136486928743\n",
      "Objective value at t=76 is 0.47020132465424874\n",
      "Objective value at t=77 is 0.47020129000897565\n",
      "Objective value at t=78 is 0.4702012601577808\n",
      "Objective value at t=79 is 0.47020123443358247\n",
      "Objective value at t=80 is 0.47020121226261585\n",
      "Objective value at t=81 is 0.4702011931513106\n",
      "Objective value at t=82 is 0.4702011766750225\n",
      "Objective value at t=83 is 0.47020116246835825\n",
      "Objective value at t=84 is 0.47020115021686487\n",
      "Objective value at t=85 is 0.47020113964989113\n",
      "Objective value at t=86 is 0.4702011305344551\n",
      "Objective value at t=87 is 0.4702011226699738\n",
      "Objective value at t=88 is 0.4702011158837348\n",
      "Objective value at t=89 is 0.47020111002700316\n",
      "Objective value at t=90 is 0.47020110497167616\n",
      "Objective value at t=91 is 0.4702011006074053\n",
      "Objective value at t=92 is 0.47020109683912364\n",
      "Objective value at t=93 is 0.47020109358491785\n",
      "Objective value at t=94 is 0.4702010907741988\n",
      "Objective value at t=95 is 0.47020108834612745\n",
      "Objective value at t=96 is 0.47020108624826096\n",
      "Objective value at t=97 is 0.47020108443538766\n",
      "Objective value at t=98 is 0.47020108286852413\n",
      "Objective value at t=99 is 0.470201081514053\n"
     ]
    }
   ],
   "source": [
    "# Run gradient descent\n",
    "\n",
    "lam = 1E-6\n",
    "stepsize = 1.0\n",
    "w, objvals_gd = grad_descent(x_train, y_train, lam, stepsize)"
   ]
  },
  {
   "cell_type": "markdown",
   "metadata": {},
   "source": [
    "#### 3.2. Stochastic gradient descent (SGD)"
   ]
  },
  {
   "cell_type": "code",
   "execution_count": 10,
   "metadata": {},
   "outputs": [],
   "source": [
    "# Calculate the objective Q_i and the gradient of Q_i\n",
    "# Inputs:\n",
    "#     w: d-by-1 matrix\n",
    "#     xi: 1-by-d matrix\n",
    "#     yi: scalar\n",
    "#     lam: scalar, the regularization parameter\n",
    "# Return:\n",
    "#     obj: scalar, the objective Q_i\n",
    "#     g: d-by-1 matrix, gradient of Q_i\n",
    "def stochastic_objective_gradient(w, xi, yi, lam):\n",
    "    d = xi.shape[0]\n",
    "    yx = yi * xi # 1-by-d matrix\n",
    "    yxw = float(numpy.dot(yx, w)) # scalar\n",
    "    \n",
    "    # calculate objective function Q_i\n",
    "    loss = numpy.log(1 + numpy.exp(-yxw)) # scalar\n",
    "    reg = lam / 2 * numpy.sum(w * w) # scalar\n",
    "    obj = loss + reg\n",
    "    \n",
    "    # calculate stochastic gradient\n",
    "    g_loss = -yx.T / (1 + numpy.exp(yxw)) # d-by-1 matrix\n",
    "    g = g_loss + lam * w # d-by-1 matrix\n",
    "    \n",
    "    return obj, g\n",
    "\n"
   ]
  },
  {
   "cell_type": "code",
   "execution_count": 11,
   "metadata": {},
   "outputs": [],
   "source": [
    "# SGD for solving logistic regression\n",
    "# Inputs:\n",
    "#     x: n-by-d matrix\n",
    "#     y: n-by-1 matrix\n",
    "#     lam: scalar, the regularization parameter\n",
    "#     stepsize: scalar\n",
    "#     max_epoch: integer, the maximal epochs\n",
    "#     w: d-by-1 matrix, initialization of w\n",
    "# Return:\n",
    "#     w: the solution\n",
    "#     objvals: record of each iteration's objective value\n",
    "def sgd(x, y, lam, stepsize, max_epoch=100, w=None):\n",
    "    n, d = x.shape\n",
    "    objvals = numpy.zeros(max_epoch) # store the objective values\n",
    "    if w is None:\n",
    "        w = numpy.zeros((d, 1)) # zero initialization\n",
    "    \n",
    "    for t in range(max_epoch):\n",
    "        # randomly shuffle the samples\n",
    "        rand_indices = numpy.random.permutation(n)\n",
    "        x_rand = x[rand_indices, :]\n",
    "        y_rand = y[rand_indices, :]\n",
    "        \n",
    "        objval = 0 # accumulate the objective values\n",
    "        for i in range(n):\n",
    "            xi = x_rand[i, :] # 1-by-d matrix\n",
    "            yi = float(y_rand[i, :]) # scalar\n",
    "            obj, g = stochastic_objective_gradient(w, xi, yi, lam)\n",
    "            objval += obj\n",
    "            w -= stepsize * g\n",
    "        stepsize *= 0.9 # decrease step size\n",
    "        objval /= n\n",
    "        objvals[t] = objval\n",
    "        print('Objective value at epoch t=' + str(t) + ' is ' + str(objval))\n",
    "    \n",
    "    return w, objvals"
   ]
  },
  {
   "cell_type": "code",
   "execution_count": 12,
   "metadata": {},
   "outputs": [
    {
     "name": "stdout",
     "output_type": "stream",
     "text": [
      "Objective value at epoch t=0 is 0.5278433917926886\n",
      "Objective value at epoch t=1 is 0.5223319583872296\n",
      "Objective value at epoch t=2 is 0.5051039088539289\n",
      "Objective value at epoch t=3 is 0.4955349999692382\n",
      "Objective value at epoch t=4 is 0.4974805976647958\n",
      "Objective value at epoch t=5 is 0.5008472299737258\n",
      "Objective value at epoch t=6 is 0.4931771027957409\n",
      "Objective value at epoch t=7 is 0.49619343565538154\n",
      "Objective value at epoch t=8 is 0.4954731754662641\n",
      "Objective value at epoch t=9 is 0.4920229373331507\n",
      "Objective value at epoch t=10 is 0.48942092573256774\n",
      "Objective value at epoch t=11 is 0.48723068830673755\n",
      "Objective value at epoch t=12 is 0.48338923354428076\n",
      "Objective value at epoch t=13 is 0.4863406656318759\n",
      "Objective value at epoch t=14 is 0.48043996624420726\n",
      "Objective value at epoch t=15 is 0.4815742144239622\n",
      "Objective value at epoch t=16 is 0.48172527238227103\n",
      "Objective value at epoch t=17 is 0.48206682909767523\n",
      "Objective value at epoch t=18 is 0.4793780062964366\n",
      "Objective value at epoch t=19 is 0.47515945200078064\n",
      "Objective value at epoch t=20 is 0.4804071295829585\n",
      "Objective value at epoch t=21 is 0.4770159799101924\n",
      "Objective value at epoch t=22 is 0.47613458432583267\n",
      "Objective value at epoch t=23 is 0.47633325454194286\n",
      "Objective value at epoch t=24 is 0.47576354248459307\n",
      "Objective value at epoch t=25 is 0.474994531491488\n",
      "Objective value at epoch t=26 is 0.47469151284308453\n",
      "Objective value at epoch t=27 is 0.47420980977510424\n",
      "Objective value at epoch t=28 is 0.4737998865147426\n",
      "Objective value at epoch t=29 is 0.47324216113427087\n",
      "Objective value at epoch t=30 is 0.4730363990886232\n",
      "Objective value at epoch t=31 is 0.4729040111642259\n",
      "Objective value at epoch t=32 is 0.47270379107894006\n",
      "Objective value at epoch t=33 is 0.4724386280861811\n",
      "Objective value at epoch t=34 is 0.4722382173671929\n",
      "Objective value at epoch t=35 is 0.4720378473286311\n",
      "Objective value at epoch t=36 is 0.4718334638450016\n",
      "Objective value at epoch t=37 is 0.47170428513102713\n",
      "Objective value at epoch t=38 is 0.47153665633572633\n",
      "Objective value at epoch t=39 is 0.47138948683261156\n",
      "Objective value at epoch t=40 is 0.47127990789330365\n",
      "Objective value at epoch t=41 is 0.47116506925935714\n",
      "Objective value at epoch t=42 is 0.4710798536387945\n",
      "Objective value at epoch t=43 is 0.47099575761822193\n",
      "Objective value at epoch t=44 is 0.4709120514703664\n",
      "Objective value at epoch t=45 is 0.4708353721193482\n",
      "Objective value at epoch t=46 is 0.47077421450347945\n",
      "Objective value at epoch t=47 is 0.47072313941439986\n",
      "Objective value at epoch t=48 is 0.470672280510143\n",
      "Objective value at epoch t=49 is 0.4706250630470789\n",
      "Objective value at epoch t=50 is 0.4705810476245932\n",
      "Objective value at epoch t=51 is 0.4705426040720765\n",
      "Objective value at epoch t=52 is 0.47051009003261324\n",
      "Objective value at epoch t=53 is 0.47047914166168814\n",
      "Objective value at epoch t=54 is 0.4704522101859652\n",
      "Objective value at epoch t=55 is 0.4704266589250968\n",
      "Objective value at epoch t=56 is 0.4704050925975863\n",
      "Objective value at epoch t=57 is 0.4703835488808549\n",
      "Objective value at epoch t=58 is 0.4703663060559545\n",
      "Objective value at epoch t=59 is 0.47034955987641414\n",
      "Objective value at epoch t=60 is 0.47033510703774495\n",
      "Objective value at epoch t=61 is 0.4703216868554138\n",
      "Objective value at epoch t=62 is 0.47030957170131754\n",
      "Objective value at epoch t=63 is 0.4702988193689408\n",
      "Objective value at epoch t=64 is 0.47028906377107277\n",
      "Objective value at epoch t=65 is 0.4702802634391726\n",
      "Objective value at epoch t=66 is 0.4702724549599623\n",
      "Objective value at epoch t=67 is 0.4702653364667423\n",
      "Objective value at epoch t=68 is 0.4702589997845896\n",
      "Objective value at epoch t=69 is 0.4702532427632323\n",
      "Objective value at epoch t=70 is 0.4702480451116452\n",
      "Objective value at epoch t=71 is 0.4702433919640348\n",
      "Objective value at epoch t=72 is 0.4702392062730845\n",
      "Objective value at epoch t=73 is 0.4702354395230944\n",
      "Objective value at epoch t=74 is 0.4702320415128085\n",
      "Objective value at epoch t=75 is 0.4702289661989186\n",
      "Objective value at epoch t=76 is 0.47022620214088484\n",
      "Objective value at epoch t=77 is 0.4702237338821309\n",
      "Objective value at epoch t=78 is 0.4702215080592754\n",
      "Objective value at epoch t=79 is 0.4702195042848335\n",
      "Objective value at epoch t=80 is 0.47021769410864167\n",
      "Objective value at epoch t=81 is 0.47021606679212063\n",
      "Objective value at epoch t=82 is 0.4702145972365762\n",
      "Objective value at epoch t=83 is 0.4702132824858293\n",
      "Objective value at epoch t=84 is 0.4702120994210407\n",
      "Objective value at epoch t=85 is 0.47021102923823327\n",
      "Objective value at epoch t=86 is 0.47021006898226253\n",
      "Objective value at epoch t=87 is 0.47020920437541325\n",
      "Objective value at epoch t=88 is 0.47020842515348554\n",
      "Objective value at epoch t=89 is 0.47020772573306335\n",
      "Objective value at epoch t=90 is 0.470207094744469\n",
      "Objective value at epoch t=91 is 0.4702065273145711\n",
      "Objective value at epoch t=92 is 0.4702060161027755\n",
      "Objective value at epoch t=93 is 0.4702055569704475\n",
      "Objective value at epoch t=94 is 0.4702051432033314\n",
      "Objective value at epoch t=95 is 0.4702047709116884\n",
      "Objective value at epoch t=96 is 0.47020443566287984\n",
      "Objective value at epoch t=97 is 0.4702041339806266\n",
      "Objective value at epoch t=98 is 0.4702038626889792\n",
      "Objective value at epoch t=99 is 0.4702036182896513\n"
     ]
    }
   ],
   "source": [
    "# Run SGD\n",
    "\n",
    "lam = 1E-6\n",
    "stepsize = 0.1\n",
    "w, objvals_sgd = sgd(x_train, y_train, lam, stepsize)"
   ]
  },
  {
   "cell_type": "markdown",
   "metadata": {},
   "source": [
    "#### 4. Compare GD with SGD"
   ]
  },
  {
   "cell_type": "code",
   "execution_count": 13,
   "metadata": {},
   "outputs": [
    {
     "data": {
      "image/png": "[encoded data removed]",
      "text/plain": [
       "<Figure size 432x288 with 1 Axes>"
      ]
     },
     "metadata": {
      "needs_background": "light"
     },
     "output_type": "display_data"
    }
   ],
   "source": [
    "import matplotlib.pyplot as plt\n",
    "%matplotlib inline\n",
    "\n",
    "fig = plt.figure(figsize=(6, 4))\n",
    "\n",
    "epochs_gd = range(len(objvals_gd))\n",
    "epochs_sgd = range(len(objvals_sgd))\n",
    "\n",
    "line0, = plt.plot(epochs_gd, objvals_gd, '--b', LineWidth=4)\n",
    "line1, = plt.plot(epochs_sgd, objvals_sgd, '-r', LineWidth=2)\n",
    "plt.xlabel('Epochs', FontSize=20)\n",
    "plt.ylabel('Objective Value', FontSize=20)\n",
    "plt.xticks(FontSize=16)\n",
    "plt.yticks(FontSize=16)\n",
    "plt.legend([line0, line1], ['GD', 'SGD'], fontsize=20)\n",
    "plt.tight_layout()\n",
    "plt.show()\n",
    "fig.savefig('compare_gd_sgd.pdf', format='pdf', dpi=1200)"
   ]
  },
  {
   "cell_type": "markdown",
   "metadata": {},
   "source": [
    "#### Prediction"
   ]
  },
  {
   "cell_type": "code",
   "execution_count": 14,
   "metadata": {},
   "outputs": [],
   "source": [
    "# Predict class label\n",
    "# Inputs:\n",
    "#     w: d-by-1 matrix\n",
    "#     X: m-by-d matrix\n",
    "# Return:\n",
    "#     f: m-by-1 matrix, the predictions\n",
    "def predict(w, X):\n",
    "    xw = numpy.dot(X, w)\n",
    "    f = numpy.sign(xw)\n",
    "    return f"
   ]
  },
  {
   "cell_type": "code",
   "execution_count": 15,
   "metadata": {},
   "outputs": [
    {
     "name": "stdout",
     "output_type": "stream",
     "text": [
      "Training classification error is 0.2203125\n"
     ]
    }
   ],
   "source": [
    "# evaluate training error\n",
    "f_train = predict(w, x_train)\n",
    "diff = numpy.abs(f_train - y_train) / 2\n",
    "error_train = numpy.mean(diff)\n",
    "print('Training classification error is ' + str(error_train))"
   ]
  },
  {
   "cell_type": "code",
   "execution_count": 16,
   "metadata": {},
   "outputs": [
    {
     "name": "stdout",
     "output_type": "stream",
     "text": [
      "Test classification error is 0.25\n"
     ]
    }
   ],
   "source": [
    "# evaluate test error\n",
    "f_test = predict(w, x_test)\n",
    "diff = numpy.abs(f_test - y_test) / 2\n",
    "error_test = numpy.mean(diff)\n",
    "print('Test classification error is ' + str(error_test))"
   ]
  },
  {
   "cell_type": "markdown",
   "metadata": {},
   "source": [
    "#### 6. Mini-batch SGD"
   ]
  },
  {
   "cell_type": "markdown",
   "metadata": {},
   "source": [
    "#### 6.1 Objective Value and Gradient"
   ]
  },
  {
   "cell_type": "code",
   "execution_count": 17,
   "metadata": {},
   "outputs": [],
   "source": [
    "# Calculate the objective Q_I and the gradient of Q_I\n",
    "# Inputs:\n",
    "#     w: d-by-1 matrix\n",
    "#     xi: b-by-d matrix\n",
    "#     yi: b-by-1 matrix\n",
    "#     lam: scalar, the regularization parameter\n",
    "#     b: integer, the batch size\n",
    "# Return:\n",
    "#     obj: scalar, the objective Q_i\n",
    "#     g: d-by-1 matrix, gradient of Q_i\n",
    "def mb_stochastic_objective_gradient(w, xi, yi, lam, b):\n",
    "    n, d = xi.shape\n",
    "    yx = numpy.multiply(yi, xi) #  b-by-d matrix\n",
    "    yxw = numpy.dot(yx, w) # b-by-1 matrix\n",
    "    \n",
    "    # calculate objective function Q_i\n",
    "    loss = (1/b) * (numpy.sum(numpy.log(1 + numpy.exp(-yxw)))) # scalar\n",
    "    reg = lam / 2 * numpy.sum(w * w) # scalar\n",
    "    obj = loss + reg\n",
    "    \n",
    "    # calculate stochastic gradient\n",
    "    g_loss_vec = -(numpy.divide(yx , (1 + numpy.exp(yxw)))) # b-by-d matrix\n",
    "    g_loss = ((1/b)*(numpy.sum(g_loss_vec, axis=0))).reshape(d,1) # d-by-1 matrix\n",
    "    g = g_loss + lam * w \n",
    "    \n",
    "    return obj, g"
   ]
  },
  {
   "cell_type": "markdown",
   "metadata": {},
   "source": [
    "#### 6.2. Implement mini-batch SGD"
   ]
  },
  {
   "cell_type": "code",
   "execution_count": 20,
   "metadata": {},
   "outputs": [],
   "source": [
    "# Mini-Batch SGD for solving logistic regression\n",
    "# Inputs:\n",
    "#     x: n-by-d matrix\n",
    "#     y: n-by-1 matrix\n",
    "#     lam: scalar, the regularization parameter\n",
    "#     b: integer, the batch size\n",
    "#     stepsize: scalar\n",
    "#     max_epoch: integer, the maximal epochs\n",
    "#     w: d-by-1 matrix, initialization of w\n",
    "# Return:\n",
    "#     w: the solution\n",
    "#     objvals: record of each iteration's objective value\n",
    "def mb_sgd(x, y, lam, b, stepsize, max_epoch=100, w=None):\n",
    "\n",
    "    n, d = x.shape\n",
    "    objvals = numpy.zeros(max_epoch) # store the objective values\n",
    "    if w is None:\n",
    "        w = numpy.zeros((d, 1)) # zero initialization\n",
    "    \n",
    "    for t in range(max_epoch):\n",
    "        # randomly shuffle the samples\n",
    "        rand_indices = numpy.random.permutation(n)\n",
    "        x_rand = x[rand_indices, :]\n",
    "        y_rand = y[rand_indices, :]\n",
    "        \n",
    "        objval = 0 # accumulate the objective values\n",
    "        for i in range(int(n/b)):\n",
    "            xi = x_rand[i*b : (i+1)*b, :] # b-by-d matrix\n",
    "            yi = y_rand[i*b : (i+1)*b, :] # b-by-1 matrix\n",
    "            obj, g = mb_stochastic_objective_gradient(w, xi, yi, lam,b)\n",
    "            objval += obj\n",
    "            w -= stepsize * g\n",
    "        stepsize *= 0.9 # decrease step size\n",
    "        objval /= (n/b)\n",
    "        objvals[t] = objval\n",
    "        print('Objective value at epoch t=' + str(t) + ' is ' + str(objval))\n",
    "    \n",
    "    return w, objvals"
   ]
  },
  {
   "cell_type": "markdown",
   "metadata": {},
   "source": [
    "#### 6.3. Run MB-SGD"
   ]
  },
  {
   "cell_type": "code",
   "execution_count": 21,
   "metadata": {
    "scrolled": true
   },
   "outputs": [
    {
     "name": "stdout",
     "output_type": "stream",
     "text": [
      "Objective value at epoch t=0 is 0.543445995207071\n",
      "Objective value at epoch t=1 is 0.4854778211419905\n",
      "Objective value at epoch t=2 is 0.4782764389444325\n",
      "Objective value at epoch t=3 is 0.47565090559589035\n",
      "Objective value at epoch t=4 is 0.4756687852384661\n",
      "Objective value at epoch t=5 is 0.4742395084946642\n",
      "Objective value at epoch t=6 is 0.47446214696201283\n",
      "Objective value at epoch t=7 is 0.47426643946212466\n",
      "Objective value at epoch t=8 is 0.4738838855671331\n",
      "Objective value at epoch t=9 is 0.47325805468183485\n",
      "Objective value at epoch t=10 is 0.47365250409895837\n",
      "Objective value at epoch t=11 is 0.4729044712353209\n",
      "Objective value at epoch t=12 is 0.4724399312853758\n",
      "Objective value at epoch t=13 is 0.47256423660343866\n",
      "Objective value at epoch t=14 is 0.472079702965457\n",
      "Objective value at epoch t=15 is 0.4718210357883854\n",
      "Objective value at epoch t=16 is 0.47182420084302146\n",
      "Objective value at epoch t=17 is 0.4716828890736446\n",
      "Objective value at epoch t=18 is 0.4714996902304476\n",
      "Objective value at epoch t=19 is 0.4713534095670241\n",
      "Objective value at epoch t=20 is 0.4713391714775142\n",
      "Objective value at epoch t=21 is 0.4711661613324917\n",
      "Objective value at epoch t=22 is 0.4710954952185961\n",
      "Objective value at epoch t=23 is 0.4710628502065096\n",
      "Objective value at epoch t=24 is 0.47103747967439985\n",
      "Objective value at epoch t=25 is 0.47088813098895227\n",
      "Objective value at epoch t=26 is 0.47075858300959866\n",
      "Objective value at epoch t=27 is 0.4707165619340585\n",
      "Objective value at epoch t=28 is 0.4707149679394032\n",
      "Objective value at epoch t=29 is 0.47059849625784356\n",
      "Objective value at epoch t=30 is 0.4705482368609041\n",
      "Objective value at epoch t=31 is 0.47059782241035875\n",
      "Objective value at epoch t=32 is 0.4705010132425792\n",
      "Objective value at epoch t=33 is 0.4704905893436752\n",
      "Objective value at epoch t=34 is 0.4704689080361376\n",
      "Objective value at epoch t=35 is 0.47041028037789534\n",
      "Objective value at epoch t=36 is 0.4704182339286948\n",
      "Objective value at epoch t=37 is 0.470397756561599\n",
      "Objective value at epoch t=38 is 0.4703665985713493\n",
      "Objective value at epoch t=39 is 0.4703497509195177\n",
      "Objective value at epoch t=40 is 0.47035245891713007\n",
      "Objective value at epoch t=41 is 0.47031122552258164\n",
      "Objective value at epoch t=42 is 0.4703069798563339\n",
      "Objective value at epoch t=43 is 0.4702989248152053\n",
      "Objective value at epoch t=44 is 0.47029007651828075\n",
      "Objective value at epoch t=45 is 0.4702816361681916\n",
      "Objective value at epoch t=46 is 0.4702788015359184\n",
      "Objective value at epoch t=47 is 0.47027481979625085\n",
      "Objective value at epoch t=48 is 0.47025942884824623\n",
      "Objective value at epoch t=49 is 0.47025874204275214\n",
      "Objective value at epoch t=50 is 0.4702471740538008\n",
      "Objective value at epoch t=51 is 0.4702475787852518\n",
      "Objective value at epoch t=52 is 0.47024256753962285\n",
      "Objective value at epoch t=53 is 0.470236576374276\n",
      "Objective value at epoch t=54 is 0.470231593700558\n",
      "Objective value at epoch t=55 is 0.4702286426248431\n",
      "Objective value at epoch t=56 is 0.4702262286167116\n",
      "Objective value at epoch t=57 is 0.4702243762448493\n",
      "Objective value at epoch t=58 is 0.47022085031599536\n",
      "Objective value at epoch t=59 is 0.4702202977055478\n",
      "Objective value at epoch t=60 is 0.4702183466798787\n",
      "Objective value at epoch t=61 is 0.47021634267362555\n",
      "Objective value at epoch t=62 is 0.470215004547037\n",
      "Objective value at epoch t=63 is 0.47021518326444234\n",
      "Objective value at epoch t=64 is 0.4702133582964139\n",
      "Objective value at epoch t=65 is 0.47021120498051755\n",
      "Objective value at epoch t=66 is 0.47021089011234246\n",
      "Objective value at epoch t=67 is 0.4702100624433741\n",
      "Objective value at epoch t=68 is 0.4702093438791871\n",
      "Objective value at epoch t=69 is 0.47020861015793275\n",
      "Objective value at epoch t=70 is 0.4702079047193017\n",
      "Objective value at epoch t=71 is 0.4702070924374026\n",
      "Objective value at epoch t=72 is 0.4702063851264426\n",
      "Objective value at epoch t=73 is 0.47020593365269725\n",
      "Objective value at epoch t=74 is 0.4702057977038532\n",
      "Objective value at epoch t=75 is 0.47020528978907095\n",
      "Objective value at epoch t=76 is 0.4702047780206672\n",
      "Objective value at epoch t=77 is 0.4702046184492441\n",
      "Objective value at epoch t=78 is 0.47020427408199\n",
      "Objective value at epoch t=79 is 0.4702041819197862\n",
      "Objective value at epoch t=80 is 0.47020387516782697\n",
      "Objective value at epoch t=81 is 0.47020353079597965\n",
      "Objective value at epoch t=82 is 0.47020347614381064\n",
      "Objective value at epoch t=83 is 0.4702034172449553\n",
      "Objective value at epoch t=84 is 0.4702030480012467\n",
      "Objective value at epoch t=85 is 0.47020294145530467\n",
      "Objective value at epoch t=86 is 0.47020284622738995\n",
      "Objective value at epoch t=87 is 0.47020275779321563\n",
      "Objective value at epoch t=88 is 0.4702027177291496\n",
      "Objective value at epoch t=89 is 0.4702025799739175\n",
      "Objective value at epoch t=90 is 0.47020259373092826\n",
      "Objective value at epoch t=91 is 0.47020244785181864\n",
      "Objective value at epoch t=92 is 0.4702023935871229\n",
      "Objective value at epoch t=93 is 0.47020232364315967\n",
      "Objective value at epoch t=94 is 0.47020230388702694\n",
      "Objective value at epoch t=95 is 0.4702022344678083\n",
      "Objective value at epoch t=96 is 0.4702022127630353\n",
      "Objective value at epoch t=97 is 0.4702021702773279\n",
      "Objective value at epoch t=98 is 0.4702021104843707\n",
      "Objective value at epoch t=99 is 0.4702020905381944\n"
     ]
    }
   ],
   "source": [
    "# MB-SGD with batch size b=8\n",
    "lam = 1E-6 # do not change\n",
    "b = 8 # do not change\n",
    "stepsize = 0.1 # you must tune this parameter\n",
    "\n",
    "w, objvals_mbsgd8 = mb_sgd(x_train, y_train, lam, b, stepsize)"
   ]
  },
  {
   "cell_type": "code",
   "execution_count": 26,
   "metadata": {},
   "outputs": [
    {
     "name": "stdout",
     "output_type": "stream",
     "text": [
      "Objective value at epoch t=0 is 0.5439481786113016\n",
      "Objective value at epoch t=1 is 0.483974142089155\n",
      "Objective value at epoch t=2 is 0.4785135064453444\n",
      "Objective value at epoch t=3 is 0.4752684868144799\n",
      "Objective value at epoch t=4 is 0.47894136836987994\n",
      "Objective value at epoch t=5 is 0.4746792332958115\n",
      "Objective value at epoch t=6 is 0.47474624220425055\n",
      "Objective value at epoch t=7 is 0.47458971351673485\n",
      "Objective value at epoch t=8 is 0.4745727994411098\n",
      "Objective value at epoch t=9 is 0.47407868934856784\n",
      "Objective value at epoch t=10 is 0.4731683470640247\n",
      "Objective value at epoch t=11 is 0.4732049806085225\n",
      "Objective value at epoch t=12 is 0.4730886710152039\n",
      "Objective value at epoch t=13 is 0.47202605527751357\n",
      "Objective value at epoch t=14 is 0.4725316721339879\n",
      "Objective value at epoch t=15 is 0.4718796772186794\n",
      "Objective value at epoch t=16 is 0.4715660746271862\n",
      "Objective value at epoch t=17 is 0.4720040479589221\n",
      "Objective value at epoch t=18 is 0.47169783081876726\n",
      "Objective value at epoch t=19 is 0.47160880976233105\n",
      "Objective value at epoch t=20 is 0.47120185590621644\n",
      "Objective value at epoch t=21 is 0.47129611480591826\n",
      "Objective value at epoch t=22 is 0.4711511983420508\n",
      "Objective value at epoch t=23 is 0.47093384493581103\n",
      "Objective value at epoch t=24 is 0.4709852872321765\n",
      "Objective value at epoch t=25 is 0.4709625579994269\n",
      "Objective value at epoch t=26 is 0.4709208981099784\n",
      "Objective value at epoch t=27 is 0.4707062701228623\n",
      "Objective value at epoch t=28 is 0.47069706386148724\n",
      "Objective value at epoch t=29 is 0.47064156859604145\n",
      "Objective value at epoch t=30 is 0.4706018193245434\n",
      "Objective value at epoch t=31 is 0.4707340870616383\n",
      "Objective value at epoch t=32 is 0.4705517506991351\n",
      "Objective value at epoch t=33 is 0.4704700181360123\n",
      "Objective value at epoch t=34 is 0.4704792994779905\n",
      "Objective value at epoch t=35 is 0.4704115699265011\n",
      "Objective value at epoch t=36 is 0.47040181408202886\n",
      "Objective value at epoch t=37 is 0.47042234851008385\n",
      "Objective value at epoch t=38 is 0.47034272010661143\n",
      "Objective value at epoch t=39 is 0.4703756780577953\n",
      "Objective value at epoch t=40 is 0.47033741091974113\n",
      "Objective value at epoch t=41 is 0.4703056458957445\n",
      "Objective value at epoch t=42 is 0.47028554995893845\n",
      "Objective value at epoch t=43 is 0.4703353147662659\n",
      "Objective value at epoch t=44 is 0.4703138294021173\n",
      "Objective value at epoch t=45 is 0.4702850289638613\n",
      "Objective value at epoch t=46 is 0.4702773017104023\n",
      "Objective value at epoch t=47 is 0.47026284246192696\n",
      "Objective value at epoch t=48 is 0.47027877240488075\n",
      "Objective value at epoch t=49 is 0.4702459719343189\n",
      "Objective value at epoch t=50 is 0.4702573916391307\n",
      "Objective value at epoch t=51 is 0.4702453560226892\n",
      "Objective value at epoch t=52 is 0.47023468183151074\n",
      "Objective value at epoch t=53 is 0.4702376316774761\n",
      "Objective value at epoch t=54 is 0.4702377060367759\n",
      "Objective value at epoch t=55 is 0.4702301992652891\n",
      "Objective value at epoch t=56 is 0.4702263410153115\n",
      "Objective value at epoch t=57 is 0.4702221901691076\n",
      "Objective value at epoch t=58 is 0.4702272062954872\n",
      "Objective value at epoch t=59 is 0.47022051606843374\n",
      "Objective value at epoch t=60 is 0.4702145650021839\n",
      "Objective value at epoch t=61 is 0.470215386385488\n",
      "Objective value at epoch t=62 is 0.47021342484921763\n",
      "Objective value at epoch t=63 is 0.4702129802312336\n",
      "Objective value at epoch t=64 is 0.4702148176153069\n",
      "Objective value at epoch t=65 is 0.47021110007575473\n",
      "Objective value at epoch t=66 is 0.4702103377937232\n",
      "Objective value at epoch t=67 is 0.4702106686072464\n",
      "Objective value at epoch t=68 is 0.47020955508004497\n",
      "Objective value at epoch t=69 is 0.4702063171118933\n",
      "Objective value at epoch t=70 is 0.4702078566060489\n",
      "Objective value at epoch t=71 is 0.47020804607394506\n",
      "Objective value at epoch t=72 is 0.4702058242571063\n",
      "Objective value at epoch t=73 is 0.4702046293461641\n",
      "Objective value at epoch t=74 is 0.4702047729370681\n",
      "Objective value at epoch t=75 is 0.47020509935543997\n",
      "Objective value at epoch t=76 is 0.47020442236410204\n",
      "Objective value at epoch t=77 is 0.4702042035439358\n",
      "Objective value at epoch t=78 is 0.4702037107356783\n",
      "Objective value at epoch t=79 is 0.47020351486508394\n",
      "Objective value at epoch t=80 is 0.4702039117496207\n",
      "Objective value at epoch t=81 is 0.47020286902435765\n",
      "Objective value at epoch t=82 is 0.4702031878246304\n",
      "Objective value at epoch t=83 is 0.4702025706425982\n",
      "Objective value at epoch t=84 is 0.4702030124219919\n",
      "Objective value at epoch t=85 is 0.47020211344012636\n",
      "Objective value at epoch t=86 is 0.4702024073003508\n",
      "Objective value at epoch t=87 is 0.4702021888240283\n",
      "Objective value at epoch t=88 is 0.4702023693699145\n",
      "Objective value at epoch t=89 is 0.470202109925395\n",
      "Objective value at epoch t=90 is 0.47020220980699523\n",
      "Objective value at epoch t=91 is 0.47020193628142853\n",
      "Objective value at epoch t=92 is 0.4702017828555808\n",
      "Objective value at epoch t=93 is 0.47020180087986246\n",
      "Objective value at epoch t=94 is 0.47020167618265285\n",
      "Objective value at epoch t=95 is 0.4702016659259778\n",
      "Objective value at epoch t=96 is 0.4702016528634994\n",
      "Objective value at epoch t=97 is 0.4702015651349603\n",
      "Objective value at epoch t=98 is 0.4702017049863332\n",
      "Objective value at epoch t=99 is 0.47020155732836394\n"
     ]
    }
   ],
   "source": [
    "# MB-SGD with batch size b=64\n",
    "lam = 1E-6 # do not change\n",
    "b = 64 # do not change\n",
    "stepsize = 0.9 # you must tune this parameter\n",
    "\n",
    "w, objvals_mbsgd64 = mb_sgd(x_train, y_train, lam, b, stepsize)"
   ]
  },
  {
   "cell_type": "markdown",
   "metadata": {},
   "source": [
    "#### 7. Plot and compare GD, SGD, and MB-SGD"
   ]
  },
  {
   "cell_type": "code",
   "execution_count": 27,
   "metadata": {},
   "outputs": [
    {
     "data": {
      "image/png": "[encoded data removed]",
      "text/plain": [
       "<Figure size 504x360 with 1 Axes>"
      ]
     },
     "metadata": {
      "needs_background": "light"
     },
     "output_type": "display_data"
    }
   ],
   "source": [
    "import matplotlib.pyplot as plt\n",
    "%matplotlib inline\n",
    "\n",
    "fig = plt.figure(figsize=(7, 5))\n",
    "\n",
    "epochs_gd = range(len(objvals_gd))\n",
    "epochs_sgd = range(len(objvals_sgd))\n",
    "epochs_mbsgd8 = range(len(objvals_mbsgd8))\n",
    "epochs_mbsgd64 = range(len(objvals_mbsgd64))\n",
    "\n",
    "line0, = plt.plot(epochs_gd, objvals_gd, '--b', LineWidth=2)\n",
    "line1, = plt.plot(epochs_sgd, objvals_sgd, '--r', LineWidth=2)\n",
    "line2, = plt.plot(epochs_mbsgd8, objvals_mbsgd8, '--c', LineWidth=2)\n",
    "line3, = plt.plot(epochs_mbsgd64, objvals_mbsgd64, '--m', LineWidth=2)\n",
    "plt.xlabel('Epochs', FontSize=20)\n",
    "plt.ylabel('Objective Value', FontSize=20)\n",
    "plt.xticks(FontSize=16)\n",
    "plt.yticks(FontSize=16)\n",
    "plt.legend([line0, line1, line2, line3], ['GD', 'SGD', 'MBSGD8', 'MBSGD64'], fontsize=20)\n",
    "plt.tight_layout()\n",
    "plt.show()\n",
    "fig.savefig('compare_4_algos.pdf', format='pdf', dpi=1200)"
   ]
  },
  {
   "cell_type": "markdown",
   "metadata": {},
   "source": [
    "### As can be observed from the above plot, the four algorithms converge towards the same objective value. "
   ]
  },
  {
   "cell_type": "code",
   "execution_count": null,
   "metadata": {},
   "outputs": [],
   "source": []
  }
 ],
 "metadata": {
  "kernelspec": {
   "display_name": "Python 3",
   "language": "python",
   "name": "python3"
  },
  "language_info": {
   "codemirror_mode": {
    "name": "ipython",
    "version": 3
   },
   "file_extension": ".py",
   "mimetype": "text/x-python",
   "name": "python",
   "nbconvert_exporter": "python",
   "pygments_lexer": "ipython3",
   "version": "3.8.8"
  }
 },
 "nbformat": 4,
 "nbformat_minor": 4
}
