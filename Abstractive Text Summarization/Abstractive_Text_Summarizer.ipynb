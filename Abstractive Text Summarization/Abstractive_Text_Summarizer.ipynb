{
 "cells": [
  {
   "cell_type": "code",
   "execution_count": 1,
   "metadata": {
    "executionInfo": {
     "elapsed": 199,
     "status": "ok",
     "timestamp": 1638945194092,
     "user": {
      "displayName": "Sneha Kawle",
      "photoUrl": "https://lh3.googleusercontent.com/a/default-user=s64",
      "userId": "12937115658657242277"
     },
     "user_tz": 300
    },
    "id": "yRvotoVIkyd_"
   },
   "outputs": [],
   "source": [
    "#!python --version"
   ]
  },
  {
   "cell_type": "code",
   "execution_count": 1,
   "metadata": {
    "colab": {
     "base_uri": "https://localhost:8080/"
    },
    "executionInfo": {
     "elapsed": 3227,
     "status": "ok",
     "timestamp": 1638945197460,
     "user": {
      "displayName": "Sneha Kawle",
      "photoUrl": "https://lh3.googleusercontent.com/a/default-user=s64",
      "userId": "12937115658657242277"
     },
     "user_tz": 300
    },
    "id": "P6l_Kl8mlU3K",
    "outputId": "79c1654c-4eab-4c2b-adec-2248510e71ba"
   },
   "outputs": [
    {
     "name": "stdout",
     "output_type": "stream",
     "text": [
      "Requirement already satisfied: contractions in /Users/sneha/opt/anaconda3/lib/python3.8/site-packages (0.0.58)\r\n",
      "Requirement already satisfied: textsearch>=0.0.21 in /Users/sneha/opt/anaconda3/lib/python3.8/site-packages (from contractions) (0.0.21)\r\n",
      "Requirement already satisfied: anyascii in /Users/sneha/opt/anaconda3/lib/python3.8/site-packages (from textsearch>=0.0.21->contractions) (0.3.0)\r\n",
      "Requirement already satisfied: pyahocorasick in /Users/sneha/opt/anaconda3/lib/python3.8/site-packages (from textsearch>=0.0.21->contractions) (1.4.2)\r\n"
     ]
    }
   ],
   "source": [
    "!pip install contractions\n",
    "#!pip install numpy==1.19.3"
   ]
  },
  {
   "cell_type": "code",
   "execution_count": 2,
   "metadata": {
    "colab": {
     "base_uri": "https://localhost:8080/"
    },
    "executionInfo": {
     "elapsed": 747,
     "status": "ok",
     "timestamp": 1638945198202,
     "user": {
      "displayName": "Sneha Kawle",
      "photoUrl": "https://lh3.googleusercontent.com/a/default-user=s64",
      "userId": "12937115658657242277"
     },
     "user_tz": 300
    },
    "id": "W__AFvv8mJBY",
    "outputId": "87615370-ec58-4386-e891-53b08d917a43"
   },
   "outputs": [],
   "source": [
    "#from google.colab import drive\n",
    "#drive.mount('/content/drive')"
   ]
  },
  {
   "cell_type": "markdown",
   "metadata": {
    "id": "IEq-oYpmSM5r"
   },
   "source": [
    "# Text Summarization - Encoder Decoder with Attention Mechanism"
   ]
  },
  {
   "cell_type": "markdown",
   "metadata": {
    "id": "4iFfGxm4XgZl"
   },
   "source": [
    "### Importing Basic libraries"
   ]
  },
  {
   "cell_type": "code",
   "execution_count": 3,
   "metadata": {
    "colab": {
     "base_uri": "https://localhost:8080/"
    },
    "execution": {
     "iopub.execute_input": "2021-08-18T19:55:16.897521Z",
     "iopub.status.busy": "2021-08-18T19:55:16.897146Z",
     "iopub.status.idle": "2021-08-18T19:55:21.243979Z",
     "shell.execute_reply": "2021-08-18T19:55:21.243069Z",
     "shell.execute_reply.started": "2021-08-18T19:55:16.897464Z"
    },
    "executionInfo": {
     "elapsed": 3115,
     "status": "ok",
     "timestamp": 1638945201314,
     "user": {
      "displayName": "Sneha Kawle",
      "photoUrl": "https://lh3.googleusercontent.com/a/default-user=s64",
      "userId": "12937115658657242277"
     },
     "user_tz": 300
    },
    "id": "lisXNzYrYOoR",
    "outputId": "71fde49f-3ffa-4bae-eed4-2473472a276c"
   },
   "outputs": [
    {
     "name": "stderr",
     "output_type": "stream",
     "text": [
      "[nltk_data] Downloading package stopwords to /Users/sneha/nltk_data...\n",
      "[nltk_data]   Package stopwords is already up-to-date!\n"
     ]
    }
   ],
   "source": [
    "import re\n",
    "import os\n",
    "import numpy as np\n",
    "import pandas as pd\n",
    "import matplotlib.pyplot as plt\n",
    "\n",
    "import nltk\n",
    "nltk.download('stopwords')\n",
    "from nltk.corpus import stopwords\n",
    "import contractions\n",
    "from keras.preprocessing.text import Tokenizer\n",
    "from keras.preprocessing.sequence import pad_sequences\n",
    "\n",
    "import tensorflow as tf\n",
    "from tensorflow.keras.layers import Input, LSTM, Embedding, Dense, Concatenate, TimeDistributed, Bidirectional\n",
    "from tensorflow.keras.models import Model\n",
    "from tensorflow.keras.callbacks import EarlyStopping\n",
    "from keras import backend as K \n",
    "from tensorflow.python.keras.layers import Layer\n"
   ]
  },
  {
   "cell_type": "markdown",
   "metadata": {
    "id": "GSr24NviXqio"
   },
   "source": [
    "### Importing Data"
   ]
  },
  {
   "cell_type": "code",
   "execution_count": 4,
   "metadata": {
    "colab": {
     "base_uri": "https://localhost:8080/",
     "height": 204
    },
    "execution": {
     "iopub.execute_input": "2021-08-18T19:55:21.246314Z",
     "iopub.status.busy": "2021-08-18T19:55:21.245955Z",
     "iopub.status.idle": "2021-08-18T19:55:22.237538Z",
     "shell.execute_reply": "2021-08-18T19:55:22.23676Z",
     "shell.execute_reply.started": "2021-08-18T19:55:21.246274Z"
    },
    "executionInfo": {
     "elapsed": 664,
     "status": "ok",
     "timestamp": 1638945201972,
     "user": {
      "displayName": "Sneha Kawle",
      "photoUrl": "https://lh3.googleusercontent.com/a/default-user=s64",
      "userId": "12937115658657242277"
     },
     "user_tz": 300
    },
    "id": "XIxwO2WekjEW",
    "outputId": "43ffcc35-7a75-44af-95f5-8f93adc30957"
   },
   "outputs": [
    {
     "data": {
      "text/html": [
       "<div>\n",
       "<style scoped>\n",
       "    .dataframe tbody tr th:only-of-type {\n",
       "        vertical-align: middle;\n",
       "    }\n",
       "\n",
       "    .dataframe tbody tr th {\n",
       "        vertical-align: top;\n",
       "    }\n",
       "\n",
       "    .dataframe thead th {\n",
       "        text-align: right;\n",
       "    }\n",
       "</style>\n",
       "<table border=\"1\" class=\"dataframe\">\n",
       "  <thead>\n",
       "    <tr style=\"text-align: right;\">\n",
       "      <th></th>\n",
       "      <th>headlines</th>\n",
       "      <th>text</th>\n",
       "    </tr>\n",
       "  </thead>\n",
       "  <tbody>\n",
       "    <tr>\n",
       "      <th>0</th>\n",
       "      <td>upGrad learner switches to career in ML &amp; Al w...</td>\n",
       "      <td>Saurav Kant, an alumnus of upGrad and IIIT-B's...</td>\n",
       "    </tr>\n",
       "    <tr>\n",
       "      <th>1</th>\n",
       "      <td>Delhi techie wins free food from Swiggy for on...</td>\n",
       "      <td>Kunal Shah's credit card bill payment platform...</td>\n",
       "    </tr>\n",
       "    <tr>\n",
       "      <th>2</th>\n",
       "      <td>New Zealand end Rohit Sharma-led India's 12-ma...</td>\n",
       "      <td>New Zealand defeated India by 8 wickets in the...</td>\n",
       "    </tr>\n",
       "    <tr>\n",
       "      <th>3</th>\n",
       "      <td>Aegon life iTerm insurance plan helps customer...</td>\n",
       "      <td>With Aegon Life iTerm Insurance plan, customer...</td>\n",
       "    </tr>\n",
       "    <tr>\n",
       "      <th>4</th>\n",
       "      <td>Have known Hirani for yrs, what if MeToo claim...</td>\n",
       "      <td>Speaking about the sexual harassment allegatio...</td>\n",
       "    </tr>\n",
       "  </tbody>\n",
       "</table>\n",
       "</div>"
      ],
      "text/plain": [
       "                                           headlines  \\\n",
       "0  upGrad learner switches to career in ML & Al w...   \n",
       "1  Delhi techie wins free food from Swiggy for on...   \n",
       "2  New Zealand end Rohit Sharma-led India's 12-ma...   \n",
       "3  Aegon life iTerm insurance plan helps customer...   \n",
       "4  Have known Hirani for yrs, what if MeToo claim...   \n",
       "\n",
       "                                                text  \n",
       "0  Saurav Kant, an alumnus of upGrad and IIIT-B's...  \n",
       "1  Kunal Shah's credit card bill payment platform...  \n",
       "2  New Zealand defeated India by 8 wickets in the...  \n",
       "3  With Aegon Life iTerm Insurance plan, customer...  \n",
       "4  Speaking about the sexual harassment allegatio...  "
      ]
     },
     "execution_count": 4,
     "metadata": {},
     "output_type": "execute_result"
    }
   ],
   "source": [
    "#Kaggle\n",
    "data_path = './data/news_summary_more.csv'\n",
    "data = pd.read_csv(data_path)\n",
    "data.head()"
   ]
  },
  {
   "cell_type": "code",
   "execution_count": 5,
   "metadata": {
    "execution": {
     "iopub.execute_input": "2021-08-18T19:55:22.239553Z",
     "iopub.status.busy": "2021-08-18T19:55:22.239182Z",
     "iopub.status.idle": "2021-08-18T19:55:22.283267Z",
     "shell.execute_reply": "2021-08-18T19:55:22.282489Z",
     "shell.execute_reply.started": "2021-08-18T19:55:22.239504Z"
    },
    "executionInfo": {
     "elapsed": 3,
     "status": "ok",
     "timestamp": 1638945201972,
     "user": {
      "displayName": "Sneha Kawle",
      "photoUrl": "https://lh3.googleusercontent.com/a/default-user=s64",
      "userId": "12937115658657242277"
     },
     "user_tz": 300
    },
    "id": "Mis8W95SAZ5_"
   },
   "outputs": [],
   "source": [
    "data.drop_duplicates(subset=['headlines'],inplace=True)\n",
    "data.reset_index(inplace=True, drop=True)"
   ]
  },
  {
   "cell_type": "code",
   "execution_count": 6,
   "metadata": {
    "execution": {
     "iopub.execute_input": "2021-08-18T19:55:22.28491Z",
     "iopub.status.busy": "2021-08-18T19:55:22.28457Z",
     "iopub.status.idle": "2021-08-18T19:55:22.292504Z",
     "shell.execute_reply": "2021-08-18T19:55:22.291649Z",
     "shell.execute_reply.started": "2021-08-18T19:55:22.284875Z"
    },
    "executionInfo": {
     "elapsed": 2,
     "status": "ok",
     "timestamp": 1638945201972,
     "user": {
      "displayName": "Sneha Kawle",
      "photoUrl": "https://lh3.googleusercontent.com/a/default-user=s64",
      "userId": "12937115658657242277"
     },
     "user_tz": 300
    },
    "id": "BV8b6w9YYOoa"
   },
   "outputs": [],
   "source": [
    "stop_words = stopwords.words('english')\n",
    "\n",
    "def preprocess(text):\n",
    "    text = text.lower()\n",
    "    text = ' '.join([contractions.fix(word) for word in text.split(\" \")])    \n",
    "    \n",
    "    tokens = [w for w in text.split() if not w in stop_words]\n",
    "    text = \" \".join(tokens)\n",
    "    text = text.replace(\"'s\",'')\n",
    "    text = text.replace(\".\",'')\n",
    "    text = re.sub(r'\\(.*\\)','',text)\n",
    "    text = re.sub(r'[^a-zA-Z0-9. ]',' ',text)\n",
    "    text = re.sub(r'\\.','. ',text)\n",
    "    text = re.sub(r'\\s+', ' ', text)\n",
    "    return text\n"
   ]
  },
  {
   "cell_type": "code",
   "execution_count": 7,
   "metadata": {
    "colab": {
     "base_uri": "https://localhost:8080/"
    },
    "execution": {
     "iopub.execute_input": "2021-08-18T19:55:22.294693Z",
     "iopub.status.busy": "2021-08-18T19:55:22.294081Z",
     "iopub.status.idle": "2021-08-18T19:56:05.783002Z",
     "shell.execute_reply": "2021-08-18T19:56:05.782121Z",
     "shell.execute_reply.started": "2021-08-18T19:55:22.294656Z"
    },
    "executionInfo": {
     "elapsed": 41025,
     "status": "ok",
     "timestamp": 1638945242995,
     "user": {
      "displayName": "Sneha Kawle",
      "photoUrl": "https://lh3.googleusercontent.com/a/default-user=s64",
      "userId": "12937115658657242277"
     },
     "user_tz": 300
    },
    "id": "ewSx5cepYOob",
    "outputId": "5c467c47-34ec-4fbc-9834-ca755eda32c6"
   },
   "outputs": [
    {
     "name": "stdout",
     "output_type": "stream",
     "text": [
      "Summary:\n",
      "_START_ upgrad learner switches career ml al 90 salary hike _END_\n",
      "Text:\n",
      "saurav kant alumnus upgrad iiit b pg program machine learning artificial intelligence sr systems engineer infosys almost 5 years work experience program upgrad 360 degree career support helped transition data scientist tech mahindra 90 salary hike upgrad online power learning powered 3 lakh careers\n",
      "\n",
      "Summary:\n",
      "_START_ delhi techie wins free food swiggy one year cred _END_\n",
      "Text:\n",
      "kunal shah credit card bill payment platform cred gave users chance win free food swiggy one year pranav kaushik delhi techie bagged reward spending 2000 cred coins users get one cred coin per rupee bill paid used avail rewards brands like ixigo bookmyshow ubereats cultfit more\n",
      "\n"
     ]
    }
   ],
   "source": [
    "data['headlines'] = data['headlines'].apply(preprocess)\n",
    "data['text'] = data['text'].apply(preprocess)\n",
    "data['headlines'] = data['headlines'].apply(lambda x : '_START_ '+ x + ' _END_')\n",
    "\n",
    "for i in range(2):\n",
    "    print('Summary:', data['headlines'][i],'Text:', data['text'][i], sep='\\n')\n",
    "    print()"
   ]
  },
  {
   "cell_type": "code",
   "execution_count": 8,
   "metadata": {
    "execution": {
     "iopub.execute_input": "2021-08-18T19:56:05.78476Z",
     "iopub.status.busy": "2021-08-18T19:56:05.784232Z",
     "iopub.status.idle": "2021-08-18T19:56:06.078879Z",
     "shell.execute_reply": "2021-08-18T19:56:06.078056Z",
     "shell.execute_reply.started": "2021-08-18T19:56:05.784722Z"
    },
    "executionInfo": {
     "elapsed": 365,
     "status": "ok",
     "timestamp": 1638945243356,
     "user": {
      "displayName": "Sneha Kawle",
      "photoUrl": "https://lh3.googleusercontent.com/a/default-user=s64",
      "userId": "12937115658657242277"
     },
     "user_tz": 300
    },
    "id": "Tb68xRjGNP8z"
   },
   "outputs": [],
   "source": [
    "headlines_length = [len(x.split()) for x in data.headlines]\n",
    "text_length = [len(x.split()) for x in data.text]"
   ]
  },
  {
   "cell_type": "code",
   "execution_count": 9,
   "metadata": {
    "colab": {
     "base_uri": "https://localhost:8080/",
     "height": 336
    },
    "execution": {
     "iopub.execute_input": "2021-08-18T19:56:06.082941Z",
     "iopub.status.busy": "2021-08-18T19:56:06.082585Z",
     "iopub.status.idle": "2021-08-18T19:56:07.566651Z",
     "shell.execute_reply": "2021-08-18T19:56:07.565908Z",
     "shell.execute_reply.started": "2021-08-18T19:56:06.082896Z"
    },
    "executionInfo": {
     "elapsed": 773,
     "status": "ok",
     "timestamp": 1638945244124,
     "user": {
      "displayName": "Sneha Kawle",
      "photoUrl": "https://lh3.googleusercontent.com/a/default-user=s64",
      "userId": "12937115658657242277"
     },
     "user_tz": 300
    },
    "id": "4exx0vZpoZDp",
    "outputId": "9530780c-5ba1-4064-ef01-f02852bc682f"
   },
   "outputs": [
    {
     "data": {
      "image/png": "[encoded data removed]",
      "text/plain": [
       "<Figure size 720x360 with 2 Axes>"
      ]
     },
     "metadata": {
      "needs_background": "light"
     },
     "output_type": "display_data"
    }
   ],
   "source": [
    "fig, (ax1, ax2) = plt.subplots(1,2, figsize = (10,5))\n",
    "ax1.hist(headlines_length, bins = 20)\n",
    "ax2.hist(text_length, bins = 20)\n",
    "\n",
    "ax1.title.set_text(\"Words in Headlines\")\n",
    "ax2.title.set_text(\"Words in Text\")\n",
    "plt.show()"
   ]
  },
  {
   "cell_type": "markdown",
   "metadata": {
    "id": "5J6b2-BXoasR"
   },
   "source": [
    "### Embedding Matrix from Glove\n"
   ]
  },
  {
   "cell_type": "code",
   "execution_count": 13,
   "metadata": {
    "execution": {
     "iopub.execute_input": "2021-08-18T19:56:07.568815Z",
     "iopub.status.busy": "2021-08-18T19:56:07.568433Z",
     "iopub.status.idle": "2021-08-18T19:56:07.586166Z",
     "shell.execute_reply": "2021-08-18T19:56:07.585521Z",
     "shell.execute_reply.started": "2021-08-18T19:56:07.568778Z"
    },
    "executionInfo": {
     "elapsed": 3,
     "status": "ok",
     "timestamp": 1638945244124,
     "user": {
      "displayName": "Sneha Kawle",
      "photoUrl": "https://lh3.googleusercontent.com/a/default-user=s64",
      "userId": "12937115658657242277"
     },
     "user_tz": 300
    },
    "id": "7vLovzKr0m5S"
   },
   "outputs": [],
   "source": [
    "glove_size = 300\n",
    "f = open('./data.nosync/glove.42B.300d.txt')"
   ]
  },
  {
   "cell_type": "code",
   "execution_count": 14,
   "metadata": {
    "execution": {
     "iopub.execute_input": "2021-08-18T19:56:07.587729Z",
     "iopub.status.busy": "2021-08-18T19:56:07.587378Z",
     "iopub.status.idle": "2021-08-18T19:59:51.031932Z",
     "shell.execute_reply": "2021-08-18T19:59:51.031014Z",
     "shell.execute_reply.started": "2021-08-18T19:56:07.587696Z"
    },
    "executionInfo": {
     "elapsed": 153253,
     "status": "ok",
     "timestamp": 1638945397375,
     "user": {
      "displayName": "Sneha Kawle",
      "photoUrl": "https://lh3.googleusercontent.com/a/default-user=s64",
      "userId": "12937115658657242277"
     },
     "user_tz": 300
    },
    "id": "KulasZGc0nDp"
   },
   "outputs": [],
   "source": [
    "embeddings_index = dict()\n",
    "for line in f:\n",
    "    values = line.split()\n",
    "    embeddings_index[values[0]] = np.asarray(values[1:], dtype='float32')\n",
    "f.close()"
   ]
  },
  {
   "cell_type": "code",
   "execution_count": 15,
   "metadata": {
    "colab": {
     "base_uri": "https://localhost:8080/"
    },
    "execution": {
     "iopub.execute_input": "2021-08-18T19:59:51.03365Z",
     "iopub.status.busy": "2021-08-18T19:59:51.033289Z",
     "iopub.status.idle": "2021-08-18T19:59:52.30707Z",
     "shell.execute_reply": "2021-08-18T19:59:52.30623Z",
     "shell.execute_reply.started": "2021-08-18T19:59:51.033613Z"
    },
    "executionInfo": {
     "elapsed": 1890,
     "status": "ok",
     "timestamp": 1638945399260,
     "user": {
      "displayName": "Sneha Kawle",
      "photoUrl": "https://lh3.googleusercontent.com/a/default-user=s64",
      "userId": "12937115658657242277"
     },
     "user_tz": 300
    },
    "id": "7JA07ZzL0nhw",
    "outputId": "31ffbba7-e9df-44e5-d5da-bdea02dc1be8"
   },
   "outputs": [
    {
     "name": "stdout",
     "output_type": "stream",
     "text": [
      "all the words in the corpus 3665888\n",
      "the unique words in the corpus 90012\n",
      "The number of words that are present in both glove vectors and our corpus are 70833 which is nearly 79.0% \n",
      "word 2 vec length 70833\n"
     ]
    }
   ],
   "source": [
    "words_source_train = []\n",
    "for i in data['text'] :\n",
    "  words_source_train.extend(i.split(' '))\n",
    "\n",
    "print(\"all the words in the corpus\", len(words_source_train))\n",
    "words_source_train = set(words_source_train)\n",
    "print(\"the unique words in the corpus\", len(words_source_train))\n",
    "inter_words = set(embeddings_index.keys()).intersection(words_source_train)\n",
    "print(\"The number of words that are present in both glove vectors and our corpus are {} which \\\n",
    "is nearly {}% \".format(len(inter_words), np.round((float(len(inter_words))/len(words_source_train))\n",
    "*100)))\n",
    "\n",
    "words_corpus_source_train = {}\n",
    "words_glove = set(embeddings_index.keys())\n",
    "for i in words_source_train:\n",
    "  if i in words_glove:\n",
    "    words_corpus_source_train[i] = embeddings_index[i]\n",
    "print(\"word 2 vec length\", len(words_corpus_source_train))"
   ]
  },
  {
   "cell_type": "code",
   "execution_count": 16,
   "metadata": {
    "colab": {
     "base_uri": "https://localhost:8080/"
    },
    "execution": {
     "iopub.execute_input": "2021-08-18T19:59:52.3087Z",
     "iopub.status.busy": "2021-08-18T19:59:52.308308Z",
     "iopub.status.idle": "2021-08-18T19:59:52.319721Z",
     "shell.execute_reply": "2021-08-18T19:59:52.318697Z",
     "shell.execute_reply.started": "2021-08-18T19:59:52.308662Z"
    },
    "executionInfo": {
     "elapsed": 2,
     "status": "ok",
     "timestamp": 1638945399260,
     "user": {
      "displayName": "Sneha Kawle",
      "photoUrl": "https://lh3.googleusercontent.com/a/default-user=s64",
      "userId": "12937115658657242277"
     },
     "user_tz": 300
    },
    "id": "m85ECclekjEZ",
    "outputId": "f980da33-6a05-4656-ee95-c791d557ec1e"
   },
   "outputs": [
    {
     "name": "stdout",
     "output_type": "stream",
     "text": [
      "['', 'mahhi', 'nachaiye', 'enjoyrespectvenezia', 'healofy', '1crowd', 'mazboot', 'bopdev', 'chudasma', 'katangi', 'bhoopasandra', 'prernaa', 'feltif', 'lovleen', 'toreputation', 'amanjeet', 'pidit', 'afaiwala', 'qc35', 'barvi']\n"
     ]
    }
   ],
   "source": [
    "print(list(words_source_train - inter_words)[:20])"
   ]
  },
  {
   "cell_type": "code",
   "execution_count": 17,
   "metadata": {
    "execution": {
     "iopub.execute_input": "2021-08-18T19:59:52.321634Z",
     "iopub.status.busy": "2021-08-18T19:59:52.321247Z",
     "iopub.status.idle": "2021-08-18T19:59:52.996671Z",
     "shell.execute_reply": "2021-08-18T19:59:52.995832Z",
     "shell.execute_reply.started": "2021-08-18T19:59:52.321586Z"
    },
    "executionInfo": {
     "elapsed": 1003,
     "status": "ok",
     "timestamp": 1638945400261,
     "user": {
      "displayName": "Sneha Kawle",
      "photoUrl": "https://lh3.googleusercontent.com/a/default-user=s64",
      "userId": "12937115658657242277"
     },
     "user_tz": 300
    },
    "id": "hT_Ak7qtkv2_"
   },
   "outputs": [],
   "source": [
    "def num(text):\n",
    "  words = [w for w in text.split() if not w in inter_words]\n",
    "  return len(words)\n",
    "\n",
    "data['unique_words'] = data['text'].apply(num)"
   ]
  },
  {
   "cell_type": "code",
   "execution_count": 18,
   "metadata": {
    "colab": {
     "base_uri": "https://localhost:8080/"
    },
    "execution": {
     "iopub.execute_input": "2021-08-18T19:59:52.998354Z",
     "iopub.status.busy": "2021-08-18T19:59:52.998005Z",
     "iopub.status.idle": "2021-08-18T19:59:53.145008Z",
     "shell.execute_reply": "2021-08-18T19:59:53.144052Z",
     "shell.execute_reply.started": "2021-08-18T19:59:52.998315Z"
    },
    "executionInfo": {
     "elapsed": 5,
     "status": "ok",
     "timestamp": 1638945400262,
     "user": {
      "displayName": "Sneha Kawle",
      "photoUrl": "https://lh3.googleusercontent.com/a/default-user=s64",
      "userId": "12937115658657242277"
     },
     "user_tz": 300
    },
    "id": "dLh6mOOekjEa",
    "outputId": "810d9205-7aec-42fe-cddb-e35a6530f082"
   },
   "outputs": [
    {
     "data": {
      "text/plain": [
       "0    72609\n",
       "1    16367\n",
       "2     6180\n",
       "3     2200\n",
       "4      651\n",
       "5      192\n",
       "6       62\n",
       "7       14\n",
       "8        5\n",
       "Name: unique_words, dtype: int64"
      ]
     },
     "execution_count": 18,
     "metadata": {},
     "output_type": "execute_result"
    }
   ],
   "source": [
    "data['unique_words'].value_counts()"
   ]
  },
  {
   "cell_type": "code",
   "execution_count": 19,
   "metadata": {
    "execution": {
     "iopub.execute_input": "2021-08-18T19:59:53.14702Z",
     "iopub.status.busy": "2021-08-18T19:59:53.146673Z",
     "iopub.status.idle": "2021-08-18T19:59:53.175341Z",
     "shell.execute_reply": "2021-08-18T19:59:53.174533Z",
     "shell.execute_reply.started": "2021-08-18T19:59:53.146983Z"
    },
    "executionInfo": {
     "elapsed": 213,
     "status": "ok",
     "timestamp": 1638945400472,
     "user": {
      "displayName": "Sneha Kawle",
      "photoUrl": "https://lh3.googleusercontent.com/a/default-user=s64",
      "userId": "12937115658657242277"
     },
     "user_tz": 300
    },
    "id": "N4RZLvQ00zBN"
   },
   "outputs": [],
   "source": [
    "data = data[data['unique_words'] < 4]\n",
    "data.reset_index(inplace=True, drop=True)"
   ]
  },
  {
   "cell_type": "code",
   "execution_count": 20,
   "metadata": {
    "colab": {
     "base_uri": "https://localhost:8080/",
     "height": 419
    },
    "execution": {
     "iopub.execute_input": "2021-08-18T19:59:53.176872Z",
     "iopub.status.busy": "2021-08-18T19:59:53.176501Z",
     "iopub.status.idle": "2021-08-18T19:59:53.192331Z",
     "shell.execute_reply": "2021-08-18T19:59:53.191318Z",
     "shell.execute_reply.started": "2021-08-18T19:59:53.176834Z"
    },
    "executionInfo": {
     "elapsed": 174,
     "status": "ok",
     "timestamp": 1638945400645,
     "user": {
      "displayName": "Sneha Kawle",
      "photoUrl": "https://lh3.googleusercontent.com/a/default-user=s64",
      "userId": "12937115658657242277"
     },
     "user_tz": 300
    },
    "id": "uF08PoBm1N78",
    "outputId": "3f6d8110-b627-46aa-b838-04fc4f3f898b"
   },
   "outputs": [
    {
     "data": {
      "text/html": [
       "<div>\n",
       "<style scoped>\n",
       "    .dataframe tbody tr th:only-of-type {\n",
       "        vertical-align: middle;\n",
       "    }\n",
       "\n",
       "    .dataframe tbody tr th {\n",
       "        vertical-align: top;\n",
       "    }\n",
       "\n",
       "    .dataframe thead th {\n",
       "        text-align: right;\n",
       "    }\n",
       "</style>\n",
       "<table border=\"1\" class=\"dataframe\">\n",
       "  <thead>\n",
       "    <tr style=\"text-align: right;\">\n",
       "      <th></th>\n",
       "      <th>headlines</th>\n",
       "      <th>text</th>\n",
       "      <th>unique_words</th>\n",
       "    </tr>\n",
       "  </thead>\n",
       "  <tbody>\n",
       "    <tr>\n",
       "      <th>0</th>\n",
       "      <td>_START_ upgrad learner switches career ml al 9...</td>\n",
       "      <td>saurav kant alumnus upgrad iiit b pg program m...</td>\n",
       "      <td>0</td>\n",
       "    </tr>\n",
       "    <tr>\n",
       "      <th>1</th>\n",
       "      <td>_START_ delhi techie wins free food swiggy one...</td>\n",
       "      <td>kunal shah credit card bill payment platform c...</td>\n",
       "      <td>2</td>\n",
       "    </tr>\n",
       "    <tr>\n",
       "      <th>2</th>\n",
       "      <td>_START_ new zealand end rohit sharma led india...</td>\n",
       "      <td>new zealand defeated india 8 wickets fourth od...</td>\n",
       "      <td>0</td>\n",
       "    </tr>\n",
       "    <tr>\n",
       "      <th>3</th>\n",
       "      <td>_START_ aegon life iterm insurance plan helps ...</td>\n",
       "      <td>aegon life iterm insurance plan customers enjo...</td>\n",
       "      <td>0</td>\n",
       "    </tr>\n",
       "    <tr>\n",
       "      <th>4</th>\n",
       "      <td>_START_ known hirani yrs metoo claims true son...</td>\n",
       "      <td>speaking sexual harassment allegations rajkuma...</td>\n",
       "      <td>1</td>\n",
       "    </tr>\n",
       "    <tr>\n",
       "      <th>...</th>\n",
       "      <td>...</td>\n",
       "      <td>...</td>\n",
       "      <td>...</td>\n",
       "    </tr>\n",
       "    <tr>\n",
       "      <th>97351</th>\n",
       "      <td>_START_ crpf jawan axed death maoists chhattis...</td>\n",
       "      <td>crpf jawan tuesday axed death sharp edged weap...</td>\n",
       "      <td>0</td>\n",
       "    </tr>\n",
       "    <tr>\n",
       "      <th>97352</th>\n",
       "      <td>_START_ first song sonakshi sinha noor titled ...</td>\n",
       "      <td>uff yeh first song sonakshi sinha starrer upc...</td>\n",
       "      <td>2</td>\n",
       "    </tr>\n",
       "    <tr>\n",
       "      <th>97353</th>\n",
       "      <td>_START_  the matrix film get reboot reports _END_</td>\n",
       "      <td>according reports new version 1999 science fic...</td>\n",
       "      <td>0</td>\n",
       "    </tr>\n",
       "    <tr>\n",
       "      <th>97354</th>\n",
       "      <td>_START_ snoop dogg aims gun clown dressed trum...</td>\n",
       "      <td>new music video shows rapper snoop dogg aiming...</td>\n",
       "      <td>0</td>\n",
       "    </tr>\n",
       "    <tr>\n",
       "      <th>97355</th>\n",
       "      <td>_START_ madhesi morcha withdraws support nepal...</td>\n",
       "      <td>madhesi morcha alliance seven political partie...</td>\n",
       "      <td>0</td>\n",
       "    </tr>\n",
       "  </tbody>\n",
       "</table>\n",
       "<p>97356 rows × 3 columns</p>\n",
       "</div>"
      ],
      "text/plain": [
       "                                               headlines  \\\n",
       "0      _START_ upgrad learner switches career ml al 9...   \n",
       "1      _START_ delhi techie wins free food swiggy one...   \n",
       "2      _START_ new zealand end rohit sharma led india...   \n",
       "3      _START_ aegon life iterm insurance plan helps ...   \n",
       "4      _START_ known hirani yrs metoo claims true son...   \n",
       "...                                                  ...   \n",
       "97351  _START_ crpf jawan axed death maoists chhattis...   \n",
       "97352  _START_ first song sonakshi sinha noor titled ...   \n",
       "97353  _START_  the matrix film get reboot reports _END_   \n",
       "97354  _START_ snoop dogg aims gun clown dressed trum...   \n",
       "97355  _START_ madhesi morcha withdraws support nepal...   \n",
       "\n",
       "                                                    text  unique_words  \n",
       "0      saurav kant alumnus upgrad iiit b pg program m...             0  \n",
       "1      kunal shah credit card bill payment platform c...             2  \n",
       "2      new zealand defeated india 8 wickets fourth od...             0  \n",
       "3      aegon life iterm insurance plan customers enjo...             0  \n",
       "4      speaking sexual harassment allegations rajkuma...             1  \n",
       "...                                                  ...           ...  \n",
       "97351  crpf jawan tuesday axed death sharp edged weap...             0  \n",
       "97352   uff yeh first song sonakshi sinha starrer upc...             2  \n",
       "97353  according reports new version 1999 science fic...             0  \n",
       "97354  new music video shows rapper snoop dogg aiming...             0  \n",
       "97355  madhesi morcha alliance seven political partie...             0  \n",
       "\n",
       "[97356 rows x 3 columns]"
      ]
     },
     "execution_count": 20,
     "metadata": {},
     "output_type": "execute_result"
    }
   ],
   "source": [
    "data"
   ]
  },
  {
   "cell_type": "code",
   "execution_count": 21,
   "metadata": {
    "execution": {
     "iopub.execute_input": "2021-08-18T19:59:53.194743Z",
     "iopub.status.busy": "2021-08-18T19:59:53.194129Z",
     "iopub.status.idle": "2021-08-18T19:59:53.223894Z",
     "shell.execute_reply": "2021-08-18T19:59:53.223112Z",
     "shell.execute_reply.started": "2021-08-18T19:59:53.194704Z"
    },
    "executionInfo": {
     "elapsed": 4,
     "status": "ok",
     "timestamp": 1638945400646,
     "user": {
      "displayName": "Sneha Kawle",
      "photoUrl": "https://lh3.googleusercontent.com/a/default-user=s64",
      "userId": "12937115658657242277"
     },
     "user_tz": 300
    },
    "id": "5JaGAWYn7kqR"
   },
   "outputs": [],
   "source": [
    "from sklearn.model_selection import train_test_split\n",
    "X_train, X_val, y_train, y_val = train_test_split(data['text'], data['headlines'], test_size = 0.2, random_state = 20)\n",
    "X_test, X_val, y_test, y_val = train_test_split(X_val, y_val, test_size = 0.5, random_state = 20)"
   ]
  },
  {
   "cell_type": "code",
   "execution_count": 22,
   "metadata": {
    "execution": {
     "iopub.execute_input": "2021-08-18T19:59:53.22547Z",
     "iopub.status.busy": "2021-08-18T19:59:53.225088Z",
     "iopub.status.idle": "2021-08-18T19:59:53.232865Z",
     "shell.execute_reply": "2021-08-18T19:59:53.231819Z",
     "shell.execute_reply.started": "2021-08-18T19:59:53.225396Z"
    },
    "executionInfo": {
     "elapsed": 4,
     "status": "ok",
     "timestamp": 1638945400646,
     "user": {
      "displayName": "Sneha Kawle",
      "photoUrl": "https://lh3.googleusercontent.com/a/default-user=s64",
      "userId": "12937115658657242277"
     },
     "user_tz": 300
    },
    "id": "zhoRlF5L_qwa"
   },
   "outputs": [],
   "source": [
    "max_length_x = max(text_length)\n",
    "max_length_y = max(headlines_length)"
   ]
  },
  {
   "cell_type": "code",
   "execution_count": 23,
   "metadata": {
    "execution": {
     "iopub.execute_input": "2021-08-18T19:59:53.23475Z",
     "iopub.status.busy": "2021-08-18T19:59:53.234166Z",
     "iopub.status.idle": "2021-08-18T20:00:02.078691Z",
     "shell.execute_reply": "2021-08-18T20:00:02.0778Z",
     "shell.execute_reply.started": "2021-08-18T19:59:53.234714Z"
    },
    "executionInfo": {
     "elapsed": 10293,
     "status": "ok",
     "timestamp": 1638945410936,
     "user": {
      "displayName": "Sneha Kawle",
      "photoUrl": "https://lh3.googleusercontent.com/a/default-user=s64",
      "userId": "12937115658657242277"
     },
     "user_tz": 300
    },
    "id": "QXQdLrLK0l5B"
   },
   "outputs": [],
   "source": [
    "x_t = Tokenizer()\n",
    "x_t.fit_on_texts(data['text'] + data['headlines'])\n",
    "x_vocab_size = len(x_t.word_index) + 1\n",
    "\n",
    "encoded_xtrain = x_t.texts_to_sequences(X_train)\n",
    "encoded_xval = x_t.texts_to_sequences(X_val)\n",
    "encoded_xtest = x_t.texts_to_sequences(X_test)\n",
    "\n",
    "padded_xtrain = pad_sequences(encoded_xtrain, maxlen=max_length_x, padding='post')\n",
    "padded_xval = pad_sequences(encoded_xval, maxlen=max_length_x, padding='post')\n",
    "padded_xtest = pad_sequences(encoded_xtest, maxlen=max_length_x, padding='post')"
   ]
  },
  {
   "cell_type": "code",
   "execution_count": 24,
   "metadata": {
    "execution": {
     "iopub.execute_input": "2021-08-18T20:00:02.080399Z",
     "iopub.status.busy": "2021-08-18T20:00:02.080048Z",
     "iopub.status.idle": "2021-08-18T20:00:05.307048Z",
     "shell.execute_reply": "2021-08-18T20:00:05.306219Z",
     "shell.execute_reply.started": "2021-08-18T20:00:02.080365Z"
    },
    "executionInfo": {
     "elapsed": 3643,
     "status": "ok",
     "timestamp": 1638945414576,
     "user": {
      "displayName": "Sneha Kawle",
      "photoUrl": "https://lh3.googleusercontent.com/a/default-user=s64",
      "userId": "12937115658657242277"
     },
     "user_tz": 300
    },
    "id": "n7SVsptTNPtP"
   },
   "outputs": [],
   "source": [
    "y_t = Tokenizer()\n",
    "y_t.fit_on_texts(data['headlines'])\n",
    "y_vocab_size = len(y_t.word_index) + 1\n",
    "\n",
    "encoded_ytrain = y_t.texts_to_sequences(y_train)\n",
    "encoded_yval = y_t.texts_to_sequences(y_val)\n",
    "encoded_ytest = y_t.texts_to_sequences(y_test)\n",
    "\n",
    "padded_ytrain = pad_sequences(encoded_ytrain, maxlen=max_length_y, padding='post')\n",
    "padded_yval = pad_sequences(encoded_yval, maxlen=max_length_y, padding='post')\n",
    "padded_ytest = pad_sequences(encoded_ytest, maxlen=max_length_y, padding='post')"
   ]
  },
  {
   "cell_type": "code",
   "execution_count": 25,
   "metadata": {
    "colab": {
     "base_uri": "https://localhost:8080/"
    },
    "execution": {
     "iopub.execute_input": "2021-08-18T20:00:05.30858Z",
     "iopub.status.busy": "2021-08-18T20:00:05.308231Z",
     "iopub.status.idle": "2021-08-18T20:00:05.594122Z",
     "shell.execute_reply": "2021-08-18T20:00:05.5933Z",
     "shell.execute_reply.started": "2021-08-18T20:00:05.308545Z"
    },
    "executionInfo": {
     "elapsed": 362,
     "status": "ok",
     "timestamp": 1638945414936,
     "user": {
      "displayName": "Sneha Kawle",
      "photoUrl": "https://lh3.googleusercontent.com/a/default-user=s64",
      "userId": "12937115658657242277"
     },
     "user_tz": 300
    },
    "id": "rM-974HV0nKo",
    "outputId": "8c0e17f9-ac1c-4a9d-ddee-ca2d44405ade"
   },
   "outputs": [
    {
     "name": "stdout",
     "output_type": "stream",
     "text": [
      "Loaded 1917494 word vectors.\n"
     ]
    }
   ],
   "source": [
    "print('Loaded %s word vectors.' % len(embeddings_index))\n",
    "\n",
    "embedding_matrix = np.zeros((x_vocab_size, glove_size))\n",
    "for word, i in x_t.word_index.items():\n",
    "    embedding_vector = embeddings_index.get(word)\n",
    "    if embedding_vector is not None:\n",
    "        embedding_matrix[i] = embedding_vector"
   ]
  },
  {
   "cell_type": "markdown",
   "metadata": {
    "id": "99aPNL7dqnfh"
   },
   "source": [
    "### Building Model"
   ]
  },
  {
   "cell_type": "code",
   "execution_count": 26,
   "metadata": {
    "colab": {
     "base_uri": "https://localhost:8080/"
    },
    "execution": {
     "iopub.execute_input": "2021-08-18T20:00:05.617121Z",
     "iopub.status.busy": "2021-08-18T20:00:05.616696Z",
     "iopub.status.idle": "2021-08-18T20:00:10.754003Z",
     "shell.execute_reply": "2021-08-18T20:00:10.753148Z",
     "shell.execute_reply.started": "2021-08-18T20:00:05.617058Z"
    },
    "executionInfo": {
     "elapsed": 3004,
     "status": "ok",
     "timestamp": 1638945417937,
     "user": {
      "displayName": "Sneha Kawle",
      "photoUrl": "https://lh3.googleusercontent.com/a/default-user=s64",
      "userId": "12937115658657242277"
     },
     "user_tz": 300
    },
    "id": "wTukjl0hpPgo",
    "outputId": "60e85c90-bff9-4afc-e39a-5ea0e3b29511"
   },
   "outputs": [
    {
     "name": "stdout",
     "output_type": "stream",
     "text": [
      "Model: \"model\"\n",
      "__________________________________________________________________________________________________\n",
      "Layer (type)                    Output Shape         Param #     Connected to                     \n",
      "==================================================================================================\n",
      "input_1 (InputLayer)            [(None, 57)]         0                                            \n",
      "__________________________________________________________________________________________________\n",
      "embedding (Embedding)           (None, 57, 300)      26975400    input_1[0][0]                    \n",
      "__________________________________________________________________________________________________\n",
      "input_2 (InputLayer)            [(None, None)]       0                                            \n",
      "__________________________________________________________________________________________________\n",
      "lstm (LSTM)                     [(None, 57, 100), (N 160400      embedding[0][0]                  \n",
      "__________________________________________________________________________________________________\n",
      "embedding_1 (Embedding)         (None, None, 300)    26975400    input_2[0][0]                    \n",
      "__________________________________________________________________________________________________\n",
      "lstm_1 (LSTM)                   [(None, 57, 100), (N 80400       lstm[0][0]                       \n",
      "__________________________________________________________________________________________________\n",
      "lstm_2 (LSTM)                   [(None, None, 100),  160400      embedding_1[0][0]                \n",
      "                                                                 lstm_1[0][1]                     \n",
      "                                                                 lstm_1[0][2]                     \n",
      "__________________________________________________________________________________________________\n",
      "concat_layer (Concatenate)      (None, None, 100)    0           lstm_2[0][0]                     \n",
      "__________________________________________________________________________________________________\n",
      "time_distributed (TimeDistribut (None, None, 34779)  3512679     concat_layer[0][0]               \n",
      "==================================================================================================\n",
      "Total params: 57,864,679\n",
      "Trainable params: 3,913,879\n",
      "Non-trainable params: 53,950,800\n",
      "__________________________________________________________________________________________________\n",
      "None\n"
     ]
    }
   ],
   "source": [
    "latent_dim=100\n",
    "\n",
    "K.clear_session() \n",
    "\n",
    "encoder_inputs = Input(shape=(max_length_x,)) \n",
    "enc_emb = Embedding(x_vocab_size, glove_size, weights=[embedding_matrix],input_length=max_length_x, trainable=False)(encoder_inputs) \n",
    "\n",
    "#LSTM \n",
    "encoder_lstm1 = LSTM(latent_dim,return_sequences=True,return_state=True) \n",
    "encoder_output1, state_h1, state_c1 = encoder_lstm1(enc_emb) \n",
    "#encoder_lstm2 = LSTM(latent_dim,return_sequences=True,return_state=True) \n",
    "#encoder_output2, state_h2, state_c2 = encoder_lstm2(encoder_output1) \n",
    "encoder_lstm3 = LSTM(latent_dim, return_state=True, return_sequences=True) \n",
    "encoder_outputs, state_h, state_c= encoder_lstm3(encoder_output1) \n",
    "\n",
    "# Decoder. \n",
    "decoder_inputs = Input(shape=(None,)) \n",
    "dec_emb_layer = Embedding(x_vocab_size, glove_size, weights=[embedding_matrix],input_length=max_length_x, trainable=False) \n",
    "dec_emb = dec_emb_layer(decoder_inputs) \n",
    "\n",
    "#LSTM using encoder_states as initial state\n",
    "decoder_lstm = LSTM(latent_dim, return_sequences=True, return_state=True) \n",
    "decoder_outputs,decoder_fwd_state, decoder_back_state = decoder_lstm(dec_emb,initial_state=[state_h, state_c]) \n",
    "\n",
    "#Attention Layer\n",
    "#attn_layer = AttentionLayer(name='attention_layer') \n",
    "#attn_out, attn_states = attn_layer([encoder_outputs, decoder_outputs]) \n",
    "\n",
    "decoder_concat_input = Concatenate(axis=-1, name='concat_layer')([decoder_outputs])\n",
    "decoder_dense = TimeDistributed(Dense(y_vocab_size, activation='softmax')) \n",
    "decoder_outputs = decoder_dense(decoder_concat_input) \n",
    "\n",
    "model = Model([encoder_inputs, decoder_inputs], decoder_outputs) \n",
    "print(model.summary())"
   ]
  },
  {
   "cell_type": "code",
   "execution_count": 27,
   "metadata": {
    "colab": {
     "base_uri": "https://localhost:8080/"
    },
    "execution": {
     "iopub.execute_input": "2021-08-18T20:00:10.755925Z",
     "iopub.status.busy": "2021-08-18T20:00:10.755591Z",
     "iopub.status.idle": "2021-08-18T20:19:02.357241Z",
     "shell.execute_reply": "2021-08-18T20:19:02.356023Z",
     "shell.execute_reply.started": "2021-08-18T20:00:10.75589Z"
    },
    "id": "4fUJoaFAiwUb",
    "outputId": "37d0c004-fa5f-4991-eb05-4ccc70e412bb"
   },
   "outputs": [
    {
     "name": "stdout",
     "output_type": "stream",
     "text": [
      "Epoch 1/10\n",
      "609/609 [==============================] - 827s 1s/step - loss: 4.9821 - val_loss: 4.4973\n",
      "Epoch 2/10\n",
      "609/609 [==============================] - 806s 1s/step - loss: 4.3782 - val_loss: 4.3224\n",
      "Epoch 3/10\n",
      "609/609 [==============================] - 798s 1s/step - loss: 4.1630 - val_loss: 4.1371\n",
      "Epoch 4/10\n",
      "609/609 [==============================] - 803s 1s/step - loss: 3.9568 - val_loss: 3.9758\n",
      "Epoch 5/10\n",
      "609/609 [==============================] - 801s 1s/step - loss: 3.7737 - val_loss: 3.8463\n",
      "Epoch 6/10\n",
      "609/609 [==============================] - 795s 1s/step - loss: 3.6135 - val_loss: 3.7527\n",
      "Epoch 7/10\n",
      "609/609 [==============================] - 798s 1s/step - loss: 3.4763 - val_loss: 3.6680\n",
      "Epoch 8/10\n",
      "609/609 [==============================] - 805s 1s/step - loss: 3.3543 - val_loss: 3.6036\n",
      "Epoch 9/10\n",
      "609/609 [==============================] - 804s 1s/step - loss: 3.2459 - val_loss: 3.5578\n",
      "Epoch 10/10\n",
      "609/609 [==============================] - 792s 1s/step - loss: 3.1492 - val_loss: 3.5169\n"
     ]
    }
   ],
   "source": [
    "model.compile(optimizer='adam', loss='sparse_categorical_crossentropy')\n",
    "#checkpoint_filepath = './model.{epoch:02d}-{val_loss:.2f}.h5'\n",
    "#model_checkpoint_callback = tf.keras.callbacks.ModelCheckpoint(filepath=checkpoint_filepath,save_weights_only=True,monitor='val_loss',mode='min',save_best_only=True, save_freq = \"epoch\")\n",
    "#es = EarlyStopping(monitor='val_loss', mode='min', verbose=1, patience=1)\n",
    "#history=model.fit([padded_xtrain,padded_ytrain[:,:-1]], padded_ytrain.reshape(padded_ytrain.shape[0],padded_ytrain.shape[1], 1)[:,1:] ,epochs=10,batch_size=512, validation_data=([padded_xval,padded_yval[:,:-1]], padded_yval.reshape(padded_yval.shape[0],padded_yval.shape[1], 1)[:,1:]), callbacks=[es, model_checkpoint_callback])\n",
    "history=model.fit([padded_xtrain,padded_ytrain[:,:-1]], padded_ytrain.reshape(padded_ytrain.shape[0],padded_ytrain.shape[1], 1)[:,1:] ,epochs=10,batch_size=128, validation_data=([padded_xval,padded_yval[:,:-1]], padded_yval.reshape(padded_yval.shape[0],padded_yval.shape[1], 1)[:,1:]))"
   ]
  },
  {
   "cell_type": "code",
   "execution_count": 29,
   "metadata": {
    "execution": {
     "iopub.execute_input": "2021-08-18T17:52:15.168513Z",
     "iopub.status.busy": "2021-08-18T17:52:15.168176Z",
     "iopub.status.idle": "2021-08-18T17:52:15.648228Z",
     "shell.execute_reply": "2021-08-18T17:52:15.647054Z",
     "shell.execute_reply.started": "2021-08-18T17:52:15.168479Z"
    },
    "id": "LTv_l6rEkjEd"
   },
   "outputs": [],
   "source": [
    "model = Model([encoder_inputs, decoder_inputs], decoder_outputs)\n",
    "#model.load_weights(\"./data/model.27-3.27.h5\")\n",
    "model.compile(optimizer='adam', loss='sparse_categorical_crossentropy')"
   ]
  },
  {
   "cell_type": "markdown",
   "metadata": {
    "id": "0CULXhQiGpvO"
   },
   "source": []
  },
  {
   "cell_type": "code",
   "execution_count": 30,
   "metadata": {
    "execution": {
     "iopub.execute_input": "2021-08-18T20:19:17.42026Z",
     "iopub.status.busy": "2021-08-18T20:19:17.419931Z",
     "iopub.status.idle": "2021-08-18T20:19:17.554756Z",
     "shell.execute_reply": "2021-08-18T20:19:17.553986Z",
     "shell.execute_reply.started": "2021-08-18T20:19:17.420227Z"
    },
    "id": "JQf1v5WhqLLg"
   },
   "outputs": [
    {
     "data": {
      "image/png": "[encoded data removed]",
      "text/plain": [
       "<Figure size 432x288 with 1 Axes>"
      ]
     },
     "metadata": {
      "needs_background": "light"
     },
     "output_type": "display_data"
    }
   ],
   "source": [
    "from matplotlib import pyplot \n",
    "pyplot.plot(history.history['loss'], label='train') \n",
    "pyplot.plot(history.history['val_loss'], label='test') \n",
    "pyplot.legend() \n",
    "pyplot.show()"
   ]
  },
  {
   "cell_type": "markdown",
   "metadata": {
    "id": "PZ0W3VZorHVK"
   },
   "source": [
    "### Inference"
   ]
  },
  {
   "cell_type": "code",
   "execution_count": 31,
   "metadata": {
    "execution": {
     "iopub.execute_input": "2021-08-18T20:19:28.693891Z",
     "iopub.status.busy": "2021-08-18T20:19:28.693573Z",
     "iopub.status.idle": "2021-08-18T20:19:28.698122Z",
     "shell.execute_reply": "2021-08-18T20:19:28.697161Z",
     "shell.execute_reply.started": "2021-08-18T20:19:28.693861Z"
    },
    "id": "UlSTzEbnskcd"
   },
   "outputs": [],
   "source": [
    "reverse_target_word_index = y_t.index_word \n",
    "reverse_source_word_index = x_t.index_word \n",
    "target_word_index = y_t.word_index"
   ]
  },
  {
   "cell_type": "code",
   "execution_count": 32,
   "metadata": {
    "execution": {
     "iopub.execute_input": "2021-08-18T20:19:30.2685Z",
     "iopub.status.busy": "2021-08-18T20:19:30.268172Z",
     "iopub.status.idle": "2021-08-18T20:19:30.559818Z",
     "shell.execute_reply": "2021-08-18T20:19:30.559003Z",
     "shell.execute_reply.started": "2021-08-18T20:19:30.26847Z"
    },
    "id": "thX0Ep0Ssnd1"
   },
   "outputs": [],
   "source": [
    "encoder_model = Model(inputs=encoder_inputs,outputs=[encoder_outputs, state_h, state_c])\n",
    "decoder_state_input_h = Input(shape=(latent_dim,))\n",
    "decoder_state_input_c = Input(shape=(latent_dim,))\n",
    "decoder_hidden_state_input = Input(shape=(max_length_x,latent_dim))\n",
    "\n",
    "dec_emb2= dec_emb_layer(decoder_inputs)\n",
    "decoder_outputs2, state_h2, state_c2 = decoder_lstm(dec_emb2, initial_state=[decoder_state_input_h, decoder_state_input_c])\n",
    "\n",
    "#attn_out_inf, attn_states_inf = attn_layer([decoder_hidden_state_input, decoder_outputs2])\n",
    "decoder_inf_concat = Concatenate(axis=-1, name='concat')([decoder_outputs2])\n",
    "\n",
    "decoder_outputs2 = decoder_dense(decoder_inf_concat)\n",
    "\n",
    "decoder_model = Model(\n",
    "[decoder_inputs] + [decoder_hidden_state_input,decoder_state_input_h, decoder_state_input_c],\n",
    "[decoder_outputs2] + [state_h2, state_c2])"
   ]
  },
  {
   "cell_type": "code",
   "execution_count": 33,
   "metadata": {
    "execution": {
     "iopub.execute_input": "2021-08-18T20:19:30.658452Z",
     "iopub.status.busy": "2021-08-18T20:19:30.658155Z",
     "iopub.status.idle": "2021-08-18T20:19:30.665195Z",
     "shell.execute_reply": "2021-08-18T20:19:30.664427Z",
     "shell.execute_reply.started": "2021-08-18T20:19:30.658418Z"
    },
    "id": "wtU0wU8gsuz1"
   },
   "outputs": [],
   "source": [
    "def decode_sequence(input_seq):\n",
    "    input_seq= input_seq.reshape(1,max_length_x)\n",
    "    e_out, e_h, e_c = encoder_model.predict(input_seq)\n",
    "    target_seq = np.zeros((1,1))\n",
    "    target_seq[0, 0] = target_word_index['start']\n",
    "\n",
    "    stop_condition = False\n",
    "    decoded_sentence = ''\n",
    "    while not stop_condition:\n",
    "        output_tokens, h, c = decoder_model.predict([target_seq] + [e_out, e_h, e_c])\n",
    "\n",
    "        sampled_token_index = np.argmax(output_tokens[0, -1, :])\n",
    "        sampled_token = reverse_target_word_index[sampled_token_index]\n",
    "  \n",
    "        if(sampled_token!='end'):\n",
    "            decoded_sentence += ' '+sampled_token\n",
    " \n",
    "        if (sampled_token == 'end' or len(decoded_sentence.split()) >= (max_length_y-1)):\n",
    "                stop_condition = True\n",
    "\n",
    "        target_seq = np.zeros((1,1))\n",
    "        target_seq[0, 0] = sampled_token_index\n",
    "        e_h, e_c = h, c\n",
    "\n",
    "    return decoded_sentence"
   ]
  },
  {
   "cell_type": "code",
   "execution_count": 34,
   "metadata": {
    "execution": {
     "iopub.execute_input": "2021-08-18T20:19:31.669275Z",
     "iopub.status.busy": "2021-08-18T20:19:31.66896Z",
     "iopub.status.idle": "2021-08-18T20:19:31.674601Z",
     "shell.execute_reply": "2021-08-18T20:19:31.673603Z",
     "shell.execute_reply.started": "2021-08-18T20:19:31.669245Z"
    },
    "id": "cLyRVENRs2Ay"
   },
   "outputs": [],
   "source": [
    "def seq2summary(input_seq):\n",
    "    newString=''\n",
    "    for i in input_seq:\n",
    "      if((i!=0 and i!=target_word_index['start']) and i!=target_word_index['end']):\n",
    "        newString=newString+reverse_target_word_index[i]+' '\n",
    "    return newString\n",
    "\n",
    "def seq2text(input_seq):\n",
    "    newString=''\n",
    "    for i in input_seq:\n",
    "      if(i!=0):\n",
    "        newString=newString+reverse_source_word_index[i]+' '\n",
    "    return newString"
   ]
  },
  {
   "cell_type": "code",
   "execution_count": 35,
   "metadata": {
    "execution": {
     "iopub.execute_input": "2021-08-18T20:29:52.311568Z",
     "iopub.status.busy": "2021-08-18T20:29:52.311192Z",
     "iopub.status.idle": "2021-08-18T20:29:56.133385Z",
     "shell.execute_reply": "2021-08-18T20:29:56.132541Z",
     "shell.execute_reply.started": "2021-08-18T20:29:52.31153Z"
    },
    "id": "bXrWSc9Es5Qr"
   },
   "outputs": [
    {
     "name": "stdout",
     "output_type": "stream",
     "text": [
      "Review: spanish government introduce legislation criminalise sex without consent legislation consent would explicit states yes means yes anything else including silence means no move follows rape case verdict judges interpreted woman silence consent dropped rape charges accused \n",
      "Original summary: spain introduce law criminalise sex without consent \n",
      "Predicted summary:  us court allows ban women muslim women\n",
      "\n",
      "\n",
      "Review: 10th anniversary 26 11 mumbai terror attacks monday us president donald trump said the us stands people india quest justicewe never let terrorists win earlier us announced reward 5 million information leading arrest conviction individual involved attacks \n",
      "Original summary: us stands people india trump 10th anniversary 26 11 \n",
      "Predicted summary:  us pm modi us us pak pak us\n",
      "\n",
      "\n",
      "Review: yuvraj singh took social media share picture sachin tendulkar former india pacer ajit agarkar pre new year party picture sachin seen wearing wig glittering silver hat thanks sachintendulkar lovely night great fun monster agarkar yuvraj captioned picture \n",
      "Original summary: yuvraj shares pre new year party pic sachin agarkar \n",
      "Predicted summary:  sachin tendulkar shares pic sachin tendulkar\n",
      "\n",
      "\n",
      "Review: home affairs ministry wednesday said prime minister narendra modi expressed strong disapproval incidents toppling statues reported certain parts country adding ministry asked states take necessary measures prevent incidents said persons indulging acts must booked relevant provisions law \n",
      "Original summary: pm expressed disapproval statue toppling incidents mha \n",
      "Predicted summary:  pm modi govt give pm modi\n",
      "\n",
      "\n",
      "Review: congress leader abhishek singhvi friday said congress leader sonia gandhi daughter priyanka gandhi vadra plays important role within party dismissing speculation priyanka contesting 2019 elections added priyanka role visible everyone comes congress leader salman khurshid reportedly said priyanka play a big role ahead 2019 elections \n",
      "Original summary: priyanka gandhi plays important role within party congress \n",
      "Predicted summary:  rahul gandhi slams bjp leader\n",
      "\n",
      "\n",
      "Review: us based startup safkan developed headphone like wearable device claims remove excess earwax 35 seconds automated device called otoset uses suction clean ears comes disposable nozzle tips startup claims device designed reduce complications hearing loss membrane perforation \n",
      "Original summary: headphone like device clean ear wax 35 secs made \n",
      "Predicted summary:  startup makes users device device\n",
      "\n",
      "\n",
      "Review: sweden released feminist foreign policy manual government claimed launched 2014 in response discrimination systematic subordination faced women policy aims fight sexual violence women enhance political participation among others claims gender equality essential achieve peace security sustainable development \n",
      "Original summary: sweden releases feminist foreign policy manual \n",
      "Predicted summary:  uk bans bans women safety\n",
      "\n",
      "\n",
      "Review: infosys reportedly made 100 crore counterclaim former cfo rajiv bansal breach trust non fulfilment obligations bansal moved court infosys withholding 1738 crore severance package infosys paid bansal 5 crore suspended remaining amount founder narayana murthy objected package claiming hush money \n",
      "Original summary: infosys files 100 crore claim ex cfo bansal report \n",
      "Predicted summary:  infosys ceo pay crore pay crore\n",
      "\n",
      "\n",
      "Review: india women team wicketkeeper sushma verma offered post deputy superintendent police himachal pradesh government cm virbhadra singh made announcement tuesday saying state proud achievement international cricket arena sushma hails shimla 15 dismissals keeper women world cup \n",
      "Original summary: india women keeper sushma verma offered dsp post hp govt \n",
      "Predicted summary:  punjab cm manohar punjab cm india\n",
      "\n",
      "\n",
      "Review: 17 lakh french nationals signed online petition president emmanuel macron plans give wife brigitte macron official first lady role move would give office staff allowance public purse with status first lady use role sees fit petition read \n",
      "Original summary: petition opposes official first lady role macron wife \n",
      "Predicted summary:  uk pm modi offers women pay us\n",
      "\n",
      "\n"
     ]
    }
   ],
   "source": [
    "for i in range(10):\n",
    "  print(\"Review:\",seq2text(padded_xtest[i]))\n",
    "  print(\"Original summary:\",seq2summary(padded_ytest[i]))\n",
    "  print(\"Predicted summary:\",decode_sequence(padded_xtest[i]))\n",
    "  print(\"\\n\")"
   ]
  },
  {
   "cell_type": "markdown",
   "metadata": {
    "id": "v3Sfc9a422Rg"
   },
   "source": [
    "### Evaluation"
   ]
  },
  {
   "cell_type": "markdown",
   "metadata": {
    "id": "km13viOn2P4t"
   },
   "source": []
  },
  {
   "cell_type": "code",
   "execution_count": 36,
   "metadata": {
    "execution": {
     "iopub.execute_input": "2021-08-18T20:20:58.514889Z",
     "iopub.status.busy": "2021-08-18T20:20:58.514456Z",
     "iopub.status.idle": "2021-08-18T20:20:58.519962Z",
     "shell.execute_reply": "2021-08-18T20:20:58.51883Z",
     "shell.execute_reply.started": "2021-08-18T20:20:58.514845Z"
    },
    "id": "Gmtt5cQGkjEj"
   },
   "outputs": [],
   "source": [
    "def BLEU_Score(y_test, y_pred):\n",
    "    references = [[seq2summary(y_test).split(\" \")]]\n",
    "    candidates = [decode_sequence(y_pred.reshape(1,max_length_x)).split(\" \")]\n",
    "    return corpus_bleu(references, candidates)\n"
   ]
  },
  {
   "cell_type": "code",
   "execution_count": 37,
   "metadata": {
    "execution": {
     "iopub.execute_input": "2021-08-18T20:33:00.986651Z",
     "iopub.status.busy": "2021-08-18T20:33:00.986297Z",
     "iopub.status.idle": "2021-08-18T20:33:05.297008Z",
     "shell.execute_reply": "2021-08-18T20:33:05.296122Z",
     "shell.execute_reply.started": "2021-08-18T20:33:00.986619Z"
    },
    "id": "LHhcz7WNkjEk"
   },
   "outputs": [
    {
     "name": "stderr",
     "output_type": "stream",
     "text": [
      "/Users/sneha/opt/anaconda3/lib/python3.8/site-packages/nltk/translate/bleu_score.py:516: UserWarning: \n",
      "The hypothesis contains 0 counts of 2-gram overlaps.\n",
      "Therefore the BLEU score evaluates to 0, independently of\n",
      "how many N-gram overlaps of lower order it contains.\n",
      "Consider using lower n-gram order or use SmoothingFunction()\n",
      "  warnings.warn(_msg)\n",
      "/Users/sneha/opt/anaconda3/lib/python3.8/site-packages/nltk/translate/bleu_score.py:516: UserWarning: \n",
      "The hypothesis contains 0 counts of 3-gram overlaps.\n",
      "Therefore the BLEU score evaluates to 0, independently of\n",
      "how many N-gram overlaps of lower order it contains.\n",
      "Consider using lower n-gram order or use SmoothingFunction()\n",
      "  warnings.warn(_msg)\n",
      "/Users/sneha/opt/anaconda3/lib/python3.8/site-packages/nltk/translate/bleu_score.py:516: UserWarning: \n",
      "The hypothesis contains 0 counts of 4-gram overlaps.\n",
      "Therefore the BLEU score evaluates to 0, independently of\n",
      "how many N-gram overlaps of lower order it contains.\n",
      "Consider using lower n-gram order or use SmoothingFunction()\n",
      "  warnings.warn(_msg)\n"
     ]
    },
    {
     "name": "stdout",
     "output_type": "stream",
     "text": [
      "3.606357358052858e-80\n"
     ]
    }
   ],
   "source": [
    "from nltk.translate.bleu_score import corpus_bleu\n",
    "scores=[]\n",
    "for i in range(0,500):\n",
    "    scores.append(BLEU_Score(padded_ytest[i],padded_xtest[i]))\n",
    "    \n",
    "print(np.mean(scores))"
   ]
  },
  {
   "cell_type": "code",
   "execution_count": 39,
   "metadata": {},
   "outputs": [
    {
     "name": "stdout",
     "output_type": "stream",
     "text": [
      "Collecting tensorflow_hub\n",
      "  Downloading tensorflow_hub-0.12.0-py2.py3-none-any.whl (108 kB)\n",
      "\u001b[K     |████████████████████████████████| 108 kB 5.4 MB/s eta 0:00:01\n",
      "\u001b[?25hRequirement already satisfied: protobuf>=3.8.0 in /Users/sneha/opt/anaconda3/lib/python3.8/site-packages (from tensorflow_hub) (3.19.0)\n",
      "Requirement already satisfied: numpy>=1.12.0 in /Users/sneha/opt/anaconda3/lib/python3.8/site-packages (from tensorflow_hub) (1.19.5)\n",
      "Installing collected packages: tensorflow-hub\n",
      "Successfully installed tensorflow-hub-0.12.0\n"
     ]
    }
   ],
   "source": [
    "!pip install tensorflow_hub"
   ]
  },
  {
   "cell_type": "code",
   "execution_count": 40,
   "metadata": {
    "execution": {
     "iopub.execute_input": "2021-08-18T20:30:34.79086Z",
     "iopub.status.busy": "2021-08-18T20:30:34.790487Z",
     "iopub.status.idle": "2021-08-18T20:30:58.270279Z",
     "shell.execute_reply": "2021-08-18T20:30:58.269454Z",
     "shell.execute_reply.started": "2021-08-18T20:30:34.79083Z"
    },
    "id": "Z516n1wQSgn1"
   },
   "outputs": [
    {
     "name": "stdout",
     "output_type": "stream",
     "text": [
      "module https://tfhub.dev/google/universal-sentence-encoder/4 loaded\n"
     ]
    }
   ],
   "source": [
    "import tensorflow_hub as hub\n",
    "from scipy import spatial\n",
    "module_url = \"https://tfhub.dev/google/universal-sentence-encoder/4\" \n",
    "sentence_encoder = hub.load(module_url)\n",
    "print (\"module %s loaded\" % module_url)"
   ]
  },
  {
   "cell_type": "code",
   "execution_count": 41,
   "metadata": {
    "execution": {
     "iopub.execute_input": "2021-08-18T20:30:58.27389Z",
     "iopub.status.busy": "2021-08-18T20:30:58.273625Z",
     "iopub.status.idle": "2021-08-18T20:30:58.282078Z",
     "shell.execute_reply": "2021-08-18T20:30:58.281245Z",
     "shell.execute_reply.started": "2021-08-18T20:30:58.273864Z"
    },
    "id": "phm5tVv6yCZ9"
   },
   "outputs": [],
   "source": [
    "def cosine_similarity(padded_xval, padded_yval):\n",
    "  scores = []\n",
    "  for i in range(len(padded_xval)):\n",
    "    \n",
    "    str1 = seq2summary(padded_yval[i])\n",
    "    str2 = decode_sequence(padded_xval[i])\n",
    "    embeddings = sentence_encoder([str1, str2]).numpy()\n",
    "    result = 1 - spatial.distance.cosine(embeddings[0], embeddings[1])\n",
    "    scores.append(result)\n",
    "  return scores"
   ]
  },
  {
   "cell_type": "code",
   "execution_count": 42,
   "metadata": {
    "execution": {
     "iopub.execute_input": "2021-08-18T20:34:02.172881Z",
     "iopub.status.busy": "2021-08-18T20:34:02.172554Z",
     "iopub.status.idle": "2021-08-18T20:34:06.793937Z",
     "shell.execute_reply": "2021-08-18T20:34:06.793153Z",
     "shell.execute_reply.started": "2021-08-18T20:34:02.172851Z"
    },
    "id": "SoB-bWnvcNC9"
   },
   "outputs": [
    {
     "data": {
      "text/plain": [
       "0.3769802543660626"
      ]
     },
     "execution_count": 42,
     "metadata": {},
     "output_type": "execute_result"
    }
   ],
   "source": [
    "scores = cosine_similarity(padded_xtest[:500],padded_ytest[:500] )\n",
    "np.mean(scores)"
   ]
  },
  {
   "cell_type": "code",
   "execution_count": 43,
   "metadata": {
    "id": "ESLNWeSIkjEl"
   },
   "outputs": [
    {
     "name": "stdout",
     "output_type": "stream",
     "text": [
      "Collecting rouge\n",
      "  Downloading rouge-1.0.1-py3-none-any.whl (13 kB)\n",
      "Requirement already satisfied: six in /Users/sneha/opt/anaconda3/lib/python3.8/site-packages (from rouge) (1.15.0)\n",
      "Installing collected packages: rouge\n",
      "Successfully installed rouge-1.0.1\n"
     ]
    }
   ],
   "source": [
    "!pip install rouge"
   ]
  },
  {
   "cell_type": "code",
   "execution_count": 44,
   "metadata": {},
   "outputs": [],
   "source": [
    "from rouge import Rouge"
   ]
  },
  {
   "cell_type": "code",
   "execution_count": 45,
   "metadata": {},
   "outputs": [],
   "source": [
    "rouge = Rouge()"
   ]
  },
  {
   "cell_type": "code",
   "execution_count": 60,
   "metadata": {},
   "outputs": [],
   "source": [
    "y_test_text_2 = []\n",
    "y_pred_text_2 = []\n",
    "\n",
    "for i in range(500):\n",
    "    y_test_text_2.append(seq2summary(padded_ytest[i]))\n",
    "    y_pred_text_2.append(decode_sequence(padded_xtest[i]))\n"
   ]
  },
  {
   "cell_type": "code",
   "execution_count": 61,
   "metadata": {},
   "outputs": [
    {
     "data": {
      "text/plain": [
       "{'rouge-1': {'r': 0.11683809523809545,\n",
       "  'p': 0.19707063492063526,\n",
       "  'f': 0.14272035917411177},\n",
       " 'rouge-2': {'r': 0.017322294372294374,\n",
       "  'p': 0.02692142857142857,\n",
       "  'f': 0.020670240351475584},\n",
       " 'rouge-l': {'r': 0.11082128427128447,\n",
       "  'p': 0.18762063492063527,\n",
       "  'f': 0.13545235887375845}}"
      ]
     },
     "execution_count": 61,
     "metadata": {},
     "output_type": "execute_result"
    }
   ],
   "source": [
    "rouge.get_scores(y_pred_text_2, y_test_text_2, avg=True)"
   ]
  },
  {
   "cell_type": "code",
   "execution_count": null,
   "metadata": {},
   "outputs": [],
   "source": []
  }
 ],
 "metadata": {
  "colab": {
   "name": "abstractive-text-summariser 8th dec v1.2.ipynb",
   "provenance": []
  },
  "kernelspec": {
   "display_name": "Python 3",
   "language": "python",
   "name": "python3"
  },
  "language_info": {
   "codemirror_mode": {
    "name": "ipython",
    "version": 3
   },
   "file_extension": ".py",
   "mimetype": "text/x-python",
   "name": "python",
   "nbconvert_exporter": "python",
   "pygments_lexer": "ipython3",
   "version": "3.8.8"
  }
 },
 "nbformat": 4,
 "nbformat_minor": 1
}
