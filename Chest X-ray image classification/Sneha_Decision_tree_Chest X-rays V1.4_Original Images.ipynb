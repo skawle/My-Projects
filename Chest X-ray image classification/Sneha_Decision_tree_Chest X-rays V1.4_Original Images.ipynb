{
 "cells": [
  {
   "cell_type": "code",
   "execution_count": 8,
   "metadata": {},
   "outputs": [],
   "source": [
    "import pandas as pd\n",
    "import numpy as np\n",
    "import tensorflow as tf\n",
    "import matplotlib.pyplot as plt\n",
    "from keras.models import Sequential\n",
    "from keras.layers import Convolution2D, MaxPooling2D, Flatten, Dense, Dropout, GlobalAveragePooling2D\n",
    "from keras.applications import VGG16\n",
    "from sklearn.tree import DecisionTreeClassifier\n",
    "from sklearn.model_selection import train_test_split\n",
    "from sklearn.metrics import classification_report, confusion_matrix\n",
    "from sklearn.model_selection import GridSearchCV\n",
    "import os, shutil\n",
    "from keras.preprocessing.image import ImageDataGenerator\n",
    "from sklearn.metrics import accuracy_score\n",
    "import seaborn as sns"
   ]
  },
  {
   "cell_type": "code",
   "execution_count": 2,
   "metadata": {},
   "outputs": [],
   "source": [
    "images = '../Project Code/Original Images'\n",
    "\n",
    "img_width, img_height = 224, 224  # Default input size for VGG16\n",
    "\n",
    "batch_size=12"
   ]
  },
  {
   "cell_type": "code",
   "execution_count": 3,
   "metadata": {},
   "outputs": [
    {
     "name": "stdout",
     "output_type": "stream",
     "text": [
      "WARNING:tensorflow:From /Users/sneha/opt/anaconda3/lib/python3.7/site-packages/keras/backend/tensorflow_backend.py:4070: The name tf.nn.max_pool is deprecated. Please use tf.nn.max_pool2d instead.\n",
      "\n",
      "Model: \"vgg16\"\n",
      "_________________________________________________________________\n",
      "Layer (type)                 Output Shape              Param #   \n",
      "=================================================================\n",
      "input_1 (InputLayer)         (None, 224, 224, 3)       0         \n",
      "_________________________________________________________________\n",
      "block1_conv1 (Conv2D)        (None, 224, 224, 64)      1792      \n",
      "_________________________________________________________________\n",
      "block1_conv2 (Conv2D)        (None, 224, 224, 64)      36928     \n",
      "_________________________________________________________________\n",
      "block1_pool (MaxPooling2D)   (None, 112, 112, 64)      0         \n",
      "_________________________________________________________________\n",
      "block2_conv1 (Conv2D)        (None, 112, 112, 128)     73856     \n",
      "_________________________________________________________________\n",
      "block2_conv2 (Conv2D)        (None, 112, 112, 128)     147584    \n",
      "_________________________________________________________________\n",
      "block2_pool (MaxPooling2D)   (None, 56, 56, 128)       0         \n",
      "_________________________________________________________________\n",
      "block3_conv1 (Conv2D)        (None, 56, 56, 256)       295168    \n",
      "_________________________________________________________________\n",
      "block3_conv2 (Conv2D)        (None, 56, 56, 256)       590080    \n",
      "_________________________________________________________________\n",
      "block3_conv3 (Conv2D)        (None, 56, 56, 256)       590080    \n",
      "_________________________________________________________________\n",
      "block3_pool (MaxPooling2D)   (None, 28, 28, 256)       0         \n",
      "_________________________________________________________________\n",
      "block4_conv1 (Conv2D)        (None, 28, 28, 512)       1180160   \n",
      "_________________________________________________________________\n",
      "block4_conv2 (Conv2D)        (None, 28, 28, 512)       2359808   \n",
      "_________________________________________________________________\n",
      "block4_conv3 (Conv2D)        (None, 28, 28, 512)       2359808   \n",
      "_________________________________________________________________\n",
      "block4_pool (MaxPooling2D)   (None, 14, 14, 512)       0         \n",
      "_________________________________________________________________\n",
      "block5_conv1 (Conv2D)        (None, 14, 14, 512)       2359808   \n",
      "_________________________________________________________________\n",
      "block5_conv2 (Conv2D)        (None, 14, 14, 512)       2359808   \n",
      "_________________________________________________________________\n",
      "block5_conv3 (Conv2D)        (None, 14, 14, 512)       2359808   \n",
      "_________________________________________________________________\n",
      "block5_pool (MaxPooling2D)   (None, 7, 7, 512)         0         \n",
      "=================================================================\n",
      "Total params: 14,714,688\n",
      "Trainable params: 14,714,688\n",
      "Non-trainable params: 0\n",
      "_________________________________________________________________\n"
     ]
    }
   ],
   "source": [
    "# Instantiate convolutional base\n",
    "\n",
    "conv_base = VGG16(weights='imagenet', \n",
    "                  include_top=False,\n",
    "                  input_shape=(img_width, img_height, 3))\n",
    "\n",
    "# Show architecture\n",
    "conv_base.summary()"
   ]
  },
  {
   "cell_type": "code",
   "execution_count": 4,
   "metadata": {},
   "outputs": [],
   "source": [
    "datagen = ImageDataGenerator(rescale=1./255,\n",
    "                             shear_range=0.2,\n",
    "                             zoom_range=0.2,\n",
    "                             horizontal_flip=True,\n",
    "                             validation_split=0.2)"
   ]
  },
  {
   "cell_type": "code",
   "execution_count": 5,
   "metadata": {},
   "outputs": [
    {
     "name": "stdout",
     "output_type": "stream",
     "text": [
      "Found 304 images belonging to 3 classes.\n"
     ]
    }
   ],
   "source": [
    "train_generator = datagen.flow_from_directory(images,\n",
    "                                                    target_size=(img_height, img_width),\n",
    "                                                    batch_size=batch_size,\n",
    "                                                    class_mode='categorical',\n",
    "                                                    subset='training')"
   ]
  },
  {
   "cell_type": "code",
   "execution_count": 6,
   "metadata": {},
   "outputs": [
    {
     "name": "stdout",
     "output_type": "stream",
     "text": [
      "Found 76 images belonging to 3 classes.\n"
     ]
    }
   ],
   "source": [
    "validation_generator = datagen.flow_from_directory(images,\n",
    "                                                         target_size=(img_height, img_width),\n",
    "                                                         batch_size=batch_size,\n",
    "                                                         class_mode='categorical',\n",
    "                                                         subset='validation')"
   ]
  },
  {
   "cell_type": "code",
   "execution_count": 7,
   "metadata": {},
   "outputs": [
    {
     "name": "stdout",
     "output_type": "stream",
     "text": [
      "WARNING:tensorflow:From /Users/sneha/opt/anaconda3/lib/python3.7/site-packages/keras/backend/tensorflow_backend.py:422: The name tf.global_variables is deprecated. Please use tf.compat.v1.global_variables instead.\n",
      "\n"
     ]
    }
   ],
   "source": [
    "# Extract features from the train generator using VGG16\n",
    "train_features = np.zeros(shape=(304, 7, 7, 512))\n",
    "train_labels = np.zeros(shape=(304, 3))\n",
    "\n",
    "# Pass through pre-trained convolution base\n",
    "i = 0\n",
    "for inputs_batch, labels_batch in train_generator:\n",
    "    features_batch = conv_base.predict(inputs_batch)\n",
    "    train_features[i * batch_size: (i+1) * batch_size] = features_batch\n",
    "    train_labels[i * batch_size: (i+1) * batch_size] = labels_batch\n",
    "    i += 1\n",
    "    if i*batch_size >= 304:\n",
    "        break"
   ]
  },
  {
   "cell_type": "code",
   "execution_count": 9,
   "metadata": {},
   "outputs": [
    {
     "name": "stdout",
     "output_type": "stream",
     "text": [
      "(304, 7, 7, 512)\n",
      "(304, 3)\n"
     ]
    }
   ],
   "source": [
    "print(train_features.shape)\n",
    "print(train_labels.shape)"
   ]
  },
  {
   "cell_type": "code",
   "execution_count": 10,
   "metadata": {},
   "outputs": [],
   "source": [
    "# Extract features from validation generator using VGG16\n",
    "val_features = np.zeros(shape=(76, 7, 7, 512))\n",
    "val_labels = np.zeros(shape=(76, 3))\n",
    "\n",
    "# Pass through pre-trained convolution base\n",
    "i = 0\n",
    "for inputs_batch, labels_batch in validation_generator:\n",
    "    features_batch = conv_base.predict(inputs_batch)\n",
    "    val_features[i * batch_size: (i+1) * batch_size] = features_batch\n",
    "    val_labels[i * batch_size: (i+1) * batch_size] = labels_batch\n",
    "    i += 1\n",
    "    if i*batch_size >= 76:\n",
    "        break"
   ]
  },
  {
   "cell_type": "code",
   "execution_count": 11,
   "metadata": {},
   "outputs": [
    {
     "name": "stdout",
     "output_type": "stream",
     "text": [
      "(76, 7, 7, 512)\n",
      "(76, 3)\n"
     ]
    }
   ],
   "source": [
    "print(val_features.shape)\n",
    "print(val_labels.shape)"
   ]
  },
  {
   "cell_type": "code",
   "execution_count": 12,
   "metadata": {},
   "outputs": [],
   "source": [
    "#Flattening the features extraction to train the DT as it expects array of <= 2 dimensions\n",
    "train_features_flatten = train_features.reshape((train_features.shape[0], 7 * 7 * 512))\n",
    "val_features_flatten = val_features.reshape((val_features.shape[0], 7 * 7 * 512))"
   ]
  },
  {
   "cell_type": "code",
   "execution_count": 13,
   "metadata": {},
   "outputs": [],
   "source": [
    "dt = DecisionTreeClassifier(random_state=42)"
   ]
  },
  {
   "cell_type": "code",
   "execution_count": 14,
   "metadata": {},
   "outputs": [
    {
     "data": {
      "text/plain": [
       "DecisionTreeClassifier(ccp_alpha=0.0, class_weight=None, criterion='gini',\n",
       "                       max_depth=None, max_features=None, max_leaf_nodes=None,\n",
       "                       min_impurity_decrease=0.0, min_impurity_split=None,\n",
       "                       min_samples_leaf=1, min_samples_split=2,\n",
       "                       min_weight_fraction_leaf=0.0, presort='deprecated',\n",
       "                       random_state=42, splitter='best')"
      ]
     },
     "execution_count": 14,
     "metadata": {},
     "output_type": "execute_result"
    }
   ],
   "source": [
    "dt.fit(train_features_flatten, train_labels)"
   ]
  },
  {
   "cell_type": "markdown",
   "metadata": {},
   "source": [
    "train_labels_pred = dt.predict(train_features_flatten)\n",
    "print(\"\\nAccuracy on Training Data: \", accuracy_score(train_labels, train_labels_pred))\n",
    "print(\"\\n\\nClassification Matrix on Training Data:\\n\\n\",classification_report(train_labels, train_labels_pred))"
   ]
  },
  {
   "cell_type": "markdown",
   "metadata": {},
   "source": [
    "val_labels_pred = dt.predict(val_features_flatten)\n",
    "print(\"\\nAccuracy on Testing Data: \", accuracy_score(val_labels, val_labels_pred))\n",
    "print(\"\\n\\nClassification Matrix on Testing Data:\\n\\n\",classification_report(val_labels, val_labels_pred))"
   ]
  },
  {
   "cell_type": "code",
   "execution_count": 15,
   "metadata": {},
   "outputs": [],
   "source": [
    "#Initializing gridsearch1 for DT to find the optimum parameters\n",
    "\n",
    "dt_GS = GridSearchCV(dt, param_grid={\"max_leaf_nodes\":[10,20,30,50,70,90,100,110,115]}, cv=5)"
   ]
  },
  {
   "cell_type": "code",
   "execution_count": 16,
   "metadata": {},
   "outputs": [
    {
     "data": {
      "text/plain": [
       "GridSearchCV(cv=5, error_score=nan,\n",
       "             estimator=DecisionTreeClassifier(ccp_alpha=0.0, class_weight=None,\n",
       "                                              criterion='gini', max_depth=None,\n",
       "                                              max_features=None,\n",
       "                                              max_leaf_nodes=None,\n",
       "                                              min_impurity_decrease=0.0,\n",
       "                                              min_impurity_split=None,\n",
       "                                              min_samples_leaf=1,\n",
       "                                              min_samples_split=2,\n",
       "                                              min_weight_fraction_leaf=0.0,\n",
       "                                              presort='deprecated',\n",
       "                                              random_state=42,\n",
       "                                              splitter='best'),\n",
       "             iid='deprecated', n_jobs=None,\n",
       "             param_grid={'max_leaf_nodes': [10, 20, 30, 50, 70, 90, 100, 110,\n",
       "                                            115]},\n",
       "             pre_dispatch='2*n_jobs', refit=True, return_train_score=False,\n",
       "             scoring=None, verbose=0)"
      ]
     },
     "execution_count": 16,
     "metadata": {},
     "output_type": "execute_result"
    }
   ],
   "source": [
    "dt_GS.fit(train_features_flatten, train_labels)"
   ]
  },
  {
   "cell_type": "code",
   "execution_count": 17,
   "metadata": {},
   "outputs": [],
   "source": [
    "results = pd.DataFrame(dt_GS.cv_results_)"
   ]
  },
  {
   "cell_type": "code",
   "execution_count": 19,
   "metadata": {},
   "outputs": [
    {
     "name": "stdout",
     "output_type": "stream",
     "text": [
      "Best parameters of Grid Search 1:  {'max_leaf_nodes': 20} \n",
      "\n",
      "\n",
      "  param_max_leaf_nodes  mean_test_score  rank_test_score\n",
      "0                   10         0.848689                9\n",
      "1                   20         0.851967                1\n",
      "2                   30         0.851967                1\n",
      "3                   50         0.851967                1\n",
      "4                   70         0.851967                1\n",
      "5                   90         0.851967                1\n",
      "6                  100         0.851967                1\n",
      "7                  110         0.851967                1\n",
      "8                  115         0.851967                1\n"
     ]
    }
   ],
   "source": [
    "print(\"Best parameters of Grid Search 1: \", dt_GS.best_params_,'\\n\\n')\n",
    "print(results[['param_max_leaf_nodes','mean_test_score','rank_test_score']])"
   ]
  },
  {
   "cell_type": "code",
   "execution_count": 20,
   "metadata": {},
   "outputs": [],
   "source": [
    "max_leaf_nodes=([10,20,30,50,70,90,100,110,115])"
   ]
  },
  {
   "cell_type": "code",
   "execution_count": 21,
   "metadata": {},
   "outputs": [],
   "source": [
    "acc_score_train = []\n",
    "acc_score_val = []"
   ]
  },
  {
   "cell_type": "code",
   "execution_count": 22,
   "metadata": {},
   "outputs": [
    {
     "name": "stdout",
     "output_type": "stream",
     "text": [
      "[0.9736842105263158, 1.0, 1.0, 1.0, 1.0, 1.0, 1.0, 1.0, 1.0] \n",
      " [0.7236842105263158, 0.7105263157894737, 0.7105263157894737, 0.7105263157894737, 0.7105263157894737, 0.7105263157894737, 0.7105263157894737, 0.7105263157894737, 0.7105263157894737]\n"
     ]
    }
   ],
   "source": [
    "for item in max_leaf_nodes:\n",
    "    dt_prune = DecisionTreeClassifier(max_leaf_nodes = item, random_state = 42)\n",
    "    dt_prune.fit(train_features_flatten, train_labels)\n",
    "    train_labels_pred_prune = dt_prune.predict(train_features_flatten)\n",
    "    acc_score_train.append(accuracy_score(train_labels, train_labels_pred_prune))\n",
    "    val_labels_pred_prune = dt_prune.predict(val_features_flatten)\n",
    "    acc_score_val.append(accuracy_score(val_labels, val_labels_pred_prune))\n",
    "print(acc_score_train,'\\n',acc_score_val)"
   ]
  },
  {
   "cell_type": "code",
   "execution_count": 23,
   "metadata": {},
   "outputs": [
    {
     "data": {
      "image/png": "[encoded data removed]",
      "text/plain": [
       "<Figure size 432x288 with 1 Axes>"
      ]
     },
     "metadata": {
      "needs_background": "light"
     },
     "output_type": "display_data"
    }
   ],
   "source": [
    "plt.plot(max_leaf_nodes,acc_score_train,'b-',max_leaf_nodes,acc_score_val,'r-')\n",
    "plt.xlabel('No. of maximum leaf nodes')\n",
    "plt.ylabel('Accuracy Score')\n",
    "plt.legend((\"Training data set\",\"Testing data set\",))\n",
    "plt.show()"
   ]
  },
  {
   "cell_type": "code",
   "execution_count": 24,
   "metadata": {},
   "outputs": [
    {
     "name": "stdout",
     "output_type": "stream",
     "text": [
      "[1.0, 0.2236842105263158, 0.8914473684210527, 0.9342105263157895, 0.9572368421052632, 0.9736842105263158, 0.9802631578947368, 0.9868421052631579, 0.993421052631579, 1.0, 1.0, 1.0, 1.0, 1.0, 1.0, 1.0] \n",
      " [0.6973684210526315, 0.21052631578947367, 0.7368421052631579, 0.7236842105263158, 0.7368421052631579, 0.7236842105263158, 0.7105263157894737, 0.7105263157894737, 0.7105263157894737, 0.7105263157894737, 0.7105263157894737, 0.7105263157894737, 0.7105263157894737, 0.7105263157894737, 0.7105263157894737, 0.7105263157894737]\n"
     ]
    }
   ],
   "source": [
    "max_leaf_nodes1=([None,2,4,6,8,10,12,14,16,18,20,22,24,26,28,30])\n",
    "acc_score_train1 = []\n",
    "acc_score_val1 = []\n",
    "for item in max_leaf_nodes1:\n",
    "    dt_prune = DecisionTreeClassifier(max_leaf_nodes = item, random_state = 42)\n",
    "    dt_prune.fit(train_features_flatten, train_labels)\n",
    "    train_labels_pred_prune = dt_prune.predict(train_features_flatten)\n",
    "    acc_score_train1.append(accuracy_score(train_labels, train_labels_pred_prune))\n",
    "    val_labels_pred_prune = dt_prune.predict(val_features_flatten)\n",
    "    acc_score_val1.append(accuracy_score(val_labels, val_labels_pred_prune))\n",
    "print(acc_score_train1,'\\n',acc_score_val1)"
   ]
  },
  {
   "cell_type": "code",
   "execution_count": 25,
   "metadata": {},
   "outputs": [
    {
     "data": {
      "image/png": "[encoded data removed]",
      "text/plain": [
       "<Figure size 432x288 with 1 Axes>"
      ]
     },
     "metadata": {
      "needs_background": "light"
     },
     "output_type": "display_data"
    }
   ],
   "source": [
    "plt.plot(max_leaf_nodes1,acc_score_train1,'b-',max_leaf_nodes1,acc_score_val1,'r-')\n",
    "plt.xlabel('No. of maximum leaf nodes')\n",
    "plt.ylabel('Accuracy Score')\n",
    "plt.legend((\"Training data set\",\"Testing data set\",))\n",
    "plt.show()"
   ]
  },
  {
   "cell_type": "code",
   "execution_count": 26,
   "metadata": {},
   "outputs": [],
   "source": [
    "dt_GS1 = GridSearchCV(dt, param_grid={\"max_leaf_nodes\":[None,2,4,6,8,10,12,14,16,18,20,25,30]}, cv=5)\n",
    "dt_GS1.fit(train_features_flatten, train_labels)\n",
    "results1 = pd.DataFrame(dt_GS1.cv_results_)"
   ]
  },
  {
   "cell_type": "code",
   "execution_count": 27,
   "metadata": {},
   "outputs": [
    {
     "name": "stdout",
     "output_type": "stream",
     "text": [
      "Best parameters:  {'max_leaf_nodes': 6} \n",
      "\n",
      "\n",
      "   param_max_leaf_nodes  mean_test_score  rank_test_score\n",
      "0                  None         0.832240               12\n",
      "1                     2         0.351639               13\n",
      "2                     4         0.852077                4\n",
      "3                     6         0.868525                1\n",
      "4                     8         0.861913                2\n",
      "5                    10         0.848689               11\n",
      "6                    12         0.855246                3\n",
      "7                    14         0.851967                5\n",
      "8                    16         0.851967                5\n",
      "9                    18         0.851967                5\n",
      "10                   20         0.851967                5\n",
      "11                   25         0.851967                5\n",
      "12                   30         0.851967                5\n"
     ]
    }
   ],
   "source": [
    "print(\"Best parameters: \", dt_GS1.best_params_,'\\n\\n')\n",
    "print(results1[['param_max_leaf_nodes','mean_test_score','rank_test_score']])"
   ]
  },
  {
   "cell_type": "code",
   "execution_count": 28,
   "metadata": {},
   "outputs": [],
   "source": [
    "#Using GridSearch1's best results to predict training dataset\n",
    "train_labels_pred_GS = dt_GS.predict(train_features_flatten)\n",
    "val_labels_pred_GS = dt_GS.predict(val_features_flatten)"
   ]
  },
  {
   "cell_type": "code",
   "execution_count": 44,
   "metadata": {},
   "outputs": [
    {
     "name": "stdout",
     "output_type": "stream",
     "text": [
      "\n",
      "\n",
      "Classification Matrix on Training Data:\n",
      "\n",
      "               precision    recall  f1-score   support\n",
      "\n",
      "           0       1.00      1.00      1.00       112\n",
      "           1       1.00      1.00      1.00        80\n",
      "           2       1.00      1.00      1.00       112\n",
      "\n",
      "   micro avg       1.00      1.00      1.00       304\n",
      "   macro avg       1.00      1.00      1.00       304\n",
      "weighted avg       1.00      1.00      1.00       304\n",
      " samples avg       1.00      1.00      1.00       304\n",
      "\n",
      "\n",
      "\n",
      "Accuracy on Training Data:  1.0\n",
      "\n",
      "\n",
      "Classification Matrix on Testing Data:\n",
      "\n",
      "               precision    recall  f1-score   support\n",
      "\n",
      "           0       0.69      0.86      0.76        28\n",
      "           1       0.68      0.75      0.71        20\n",
      "           2       0.79      0.54      0.64        28\n",
      "\n",
      "   micro avg       0.71      0.71      0.71        76\n",
      "   macro avg       0.72      0.71      0.70        76\n",
      "weighted avg       0.72      0.71      0.70        76\n",
      " samples avg       0.71      0.71      0.71        76\n",
      "\n",
      "\n",
      "\n",
      "Accuracy on Testing Data:  0.7105263157894737\n"
     ]
    }
   ],
   "source": [
    "#Classification Report & Accuracy Scores on Grid Search 1 training and testing data\n",
    "print(\"\\n\\nClassification Matrix on Training Data:\\n\\n\",classification_report(train_labels, train_labels_pred_GS))\n",
    "\n",
    "print(\"\\n\\nAccuracy on Training Data: \", accuracy_score(train_labels, train_labels_pred_GS))\n",
    "\n",
    "print(\"\\n\\nClassification Matrix on Testing Data:\\n\\n\",classification_report(val_labels, val_labels_pred_GS))\n",
    "\n",
    "print(\"\\n\\nAccuracy on Testing Data: \", accuracy_score(val_labels, val_labels_pred_GS))"
   ]
  },
  {
   "cell_type": "code",
   "execution_count": 32,
   "metadata": {},
   "outputs": [
    {
     "data": {
      "text/plain": [
       "<matplotlib.axes._subplots.AxesSubplot at 0x7ffd2712f0d0>"
      ]
     },
     "execution_count": 32,
     "metadata": {},
     "output_type": "execute_result"
    },
    {
     "data": {
      "image/png": "[encoded data removed]",
      "text/plain": [
       "<Figure size 432x288 with 2 Axes>"
      ]
     },
     "metadata": {
      "needs_background": "light"
     },
     "output_type": "display_data"
    }
   ],
   "source": [
    "#Confusion matrix plot for GridSearch1's best results on training data set\n",
    "#fig100 = plt.figure()\n",
    "# fig100 = plt.figure(figsize=(10,10))\n",
    "categories = ['COVID-19','Normal','Pneumonia']\n",
    "cm = confusion_matrix(train_labels.argmax(axis=1), train_labels_pred_GS.argmax(axis=1))\n",
    "#print(cm)\n",
    "sns.heatmap(cm, xticklabels =categories , yticklabels =categories, annot=True, fmt='d')"
   ]
  },
  {
   "cell_type": "code",
   "execution_count": 37,
   "metadata": {},
   "outputs": [
    {
     "data": {
      "text/plain": [
       "<matplotlib.axes._subplots.AxesSubplot at 0x7ffd2af61490>"
      ]
     },
     "execution_count": 37,
     "metadata": {},
     "output_type": "execute_result"
    },
    {
     "data": {
      "image/png": "[encoded data removed]",
      "text/plain": [
       "<Figure size 432x288 with 2 Axes>"
      ]
     },
     "metadata": {
      "needs_background": "light"
     },
     "output_type": "display_data"
    }
   ],
   "source": [
    "#Confusion matrix plot for GridSearch1's best results on testing data set\n",
    "#fig100 = plt.figure()\n",
    "# fig100 = plt.figure(figsize=(10,10))\n",
    "categories = ['COVID-19','Normal','Pneumonia']\n",
    "cm1 = confusion_matrix(val_labels.argmax(axis=1), val_labels_pred_GS.argmax(axis=1))\n",
    "#print(cm)\n",
    "sns.heatmap(cm, xticklabels =categories , yticklabels =categories, annot=True, fmt='d')"
   ]
  },
  {
   "cell_type": "code",
   "execution_count": 33,
   "metadata": {},
   "outputs": [],
   "source": [
    "#Using GridSearch2's best results to predict testing dataset\n",
    "train_labels_pred_GS1 = dt_GS1.predict(train_features_flatten)\n",
    "val_labels_pred_GS1 = dt_GS1.predict(val_features_flatten)"
   ]
  },
  {
   "cell_type": "code",
   "execution_count": 38,
   "metadata": {},
   "outputs": [
    {
     "data": {
      "text/plain": [
       "<matplotlib.axes._subplots.AxesSubplot at 0x7ffd25c2f450>"
      ]
     },
     "execution_count": 38,
     "metadata": {},
     "output_type": "execute_result"
    },
    {
     "data": {
      "image/png": "[encoded data removed]",
      "text/plain": [
       "<Figure size 432x288 with 2 Axes>"
      ]
     },
     "metadata": {
      "needs_background": "light"
     },
     "output_type": "display_data"
    }
   ],
   "source": [
    "#Confusion matrix plot for GridSearch2's best results on training dataset\n",
    "#fig100 = plt.figure()\n",
    "# fig100 = plt.figure(figsize=(10,10))\n",
    "categories = ['COVID-19','Normal','Pneumonia']\n",
    "cm = confusion_matrix(train_labels.argmax(axis=1), train_labels_pred_GS1.argmax(axis=1))\n",
    "#print(cm)\n",
    "sns.heatmap(cm, xticklabels =categories , yticklabels =categories, annot=True, fmt='d')"
   ]
  },
  {
   "cell_type": "code",
   "execution_count": 39,
   "metadata": {},
   "outputs": [
    {
     "data": {
      "text/plain": [
       "<matplotlib.axes._subplots.AxesSubplot at 0x7ffd26025310>"
      ]
     },
     "execution_count": 39,
     "metadata": {},
     "output_type": "execute_result"
    },
    {
     "data": {
      "image/png": "[encoded data removed]",
      "text/plain": [
       "<Figure size 432x288 with 2 Axes>"
      ]
     },
     "metadata": {
      "needs_background": "light"
     },
     "output_type": "display_data"
    }
   ],
   "source": [
    "#Confusion matrix plot for GridSearch2's best results on testing dataset\n",
    "#fig100 = plt.figure()\n",
    "# fig100 = plt.figure(figsize=(10,10))\n",
    "categories = ['COVID-19','Normal','Pneumonia']\n",
    "cm = confusion_matrix(val_labels.argmax(axis=1), val_labels_pred_GS1.argmax(axis=1))\n",
    "#print(cm)\n",
    "sns.heatmap(cm, xticklabels =categories , yticklabels =categories, annot=True, fmt='d')"
   ]
  },
  {
   "cell_type": "code",
   "execution_count": 45,
   "metadata": {},
   "outputs": [
    {
     "name": "stdout",
     "output_type": "stream",
     "text": [
      "\n",
      "\n",
      "Classification Matrix on Training Data:\n",
      "\n",
      "               precision    recall  f1-score   support\n",
      "\n",
      "           0       0.95      0.94      0.95       112\n",
      "           1       0.90      0.96      0.93        80\n",
      "           2       0.94      0.91      0.93       112\n",
      "\n",
      "   micro avg       0.93      0.93      0.93       304\n",
      "   macro avg       0.93      0.94      0.93       304\n",
      "weighted avg       0.94      0.93      0.93       304\n",
      " samples avg       0.93      0.93      0.93       304\n",
      "\n",
      "\n",
      "\n",
      "Accuracy on Training Data:  0.9342105263157895\n",
      "\n",
      "\n",
      "Classification Matrix on Testing Data:\n",
      "\n",
      "               precision    recall  f1-score   support\n",
      "\n",
      "           0       0.71      0.86      0.77        28\n",
      "           1       0.71      0.85      0.77        20\n",
      "           2       0.78      0.50      0.61        28\n",
      "\n",
      "   micro avg       0.72      0.72      0.72        76\n",
      "   macro avg       0.73      0.74      0.72        76\n",
      "weighted avg       0.73      0.72      0.71        76\n",
      " samples avg       0.72      0.72      0.72        76\n",
      "\n",
      "\n",
      "\n",
      "Accuracy on Testing Data:  0.7236842105263158\n"
     ]
    }
   ],
   "source": [
    "#Classification Report on Grid Search 2 training and testing data\n",
    "print(\"\\n\\nClassification Matrix on Training Data:\\n\\n\",classification_report(train_labels, train_labels_pred_GS1))\n",
    "\n",
    "print(\"\\n\\nAccuracy on Training Data: \", accuracy_score(train_labels, train_labels_pred_GS1))\n",
    "\n",
    "print(\"\\n\\nClassification Matrix on Testing Data:\\n\\n\",classification_report(val_labels, val_labels_pred_GS1))\n",
    "\n",
    "print(\"\\n\\nAccuracy on Testing Data: \", accuracy_score(val_labels, val_labels_pred_GS1))"
   ]
  },
  {
   "cell_type": "code",
   "execution_count": null,
   "metadata": {},
   "outputs": [],
   "source": []
  }
 ],
 "metadata": {
  "kernelspec": {
   "display_name": "Python 3",
   "language": "python",
   "name": "python3"
  },
  "language_info": {
   "codemirror_mode": {
    "name": "ipython",
    "version": 3
   },
   "file_extension": ".py",
   "mimetype": "text/x-python",
   "name": "python",
   "nbconvert_exporter": "python",
   "pygments_lexer": "ipython3",
   "version": "3.8.8"
  }
 },
 "nbformat": 4,
 "nbformat_minor": 4
}
