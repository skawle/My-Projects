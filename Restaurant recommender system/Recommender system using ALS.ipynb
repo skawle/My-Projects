{
 "cells": [
  {
   "cell_type": "code",
   "execution_count": 1,
   "metadata": {
    "id": "XwYjGH-nm2iZ"
   },
   "outputs": [],
   "source": [
    "import pandas as pd"
   ]
  },
  {
   "cell_type": "code",
   "execution_count": 2,
   "metadata": {
    "colab": {
     "base_uri": "https://localhost:8080/"
    },
    "id": "MhLP4CeZy5hl",
    "outputId": "7effe107-6ca4-4ea5-b081-7f2c62433fcd"
   },
   "outputs": [
    {
     "name": "stderr",
     "output_type": "stream",
     "text": [
      "/usr/local/lib/python3.7/dist-packages/IPython/core/interactiveshell.py:2718: DtypeWarning: Columns (1) have mixed types.Specify dtype option on import or set low_memory=False.\n",
      "  interactivity=interactivity, compiler=compiler, result=result)\n"
     ]
    }
   ],
   "source": [
    "#Load data\n",
    "train_ratings = pd.read_csv(\"/content/drive/MyDrive/BIA project/data/train_full.csv\")"
   ]
  },
  {
   "cell_type": "code",
   "execution_count": 3,
   "metadata": {
    "colab": {
     "base_uri": "https://localhost:8080/",
     "height": 343
    },
    "id": "kfA7UmJG0U60",
    "outputId": "14326c01-4c7e-47f1-c226-4c03700b5a7b"
   },
   "outputs": [
    {
     "data": {
      "text/html": [
       "<div>\n",
       "<style scoped>\n",
       "    .dataframe tbody tr th:only-of-type {\n",
       "        vertical-align: middle;\n",
       "    }\n",
       "\n",
       "    .dataframe tbody tr th {\n",
       "        vertical-align: top;\n",
       "    }\n",
       "\n",
       "    .dataframe thead th {\n",
       "        text-align: right;\n",
       "    }\n",
       "</style>\n",
       "<table border=\"1\" class=\"dataframe\">\n",
       "  <thead>\n",
       "    <tr style=\"text-align: right;\">\n",
       "      <th></th>\n",
       "      <th>customer_id</th>\n",
       "      <th>gender</th>\n",
       "      <th>status_x</th>\n",
       "      <th>verified_x</th>\n",
       "      <th>created_at_x</th>\n",
       "      <th>updated_at_x</th>\n",
       "      <th>location_number</th>\n",
       "      <th>location_type</th>\n",
       "      <th>latitude_x</th>\n",
       "      <th>longitude_x</th>\n",
       "      <th>id</th>\n",
       "      <th>authentication_id</th>\n",
       "      <th>latitude_y</th>\n",
       "      <th>longitude_y</th>\n",
       "      <th>vendor_category_en</th>\n",
       "      <th>vendor_category_id</th>\n",
       "      <th>delivery_charge</th>\n",
       "      <th>serving_distance</th>\n",
       "      <th>is_open</th>\n",
       "      <th>OpeningTime</th>\n",
       "      <th>OpeningTime2</th>\n",
       "      <th>prepration_time</th>\n",
       "      <th>commission</th>\n",
       "      <th>is_akeed_delivering</th>\n",
       "      <th>discount_percentage</th>\n",
       "      <th>status_y</th>\n",
       "      <th>verified_y</th>\n",
       "      <th>rank</th>\n",
       "      <th>language</th>\n",
       "      <th>vendor_rating</th>\n",
       "      <th>sunday_from_time1</th>\n",
       "      <th>sunday_to_time1</th>\n",
       "      <th>sunday_from_time2</th>\n",
       "      <th>sunday_to_time2</th>\n",
       "      <th>monday_from_time1</th>\n",
       "      <th>monday_to_time1</th>\n",
       "      <th>monday_from_time2</th>\n",
       "      <th>monday_to_time2</th>\n",
       "      <th>tuesday_from_time1</th>\n",
       "      <th>tuesday_to_time1</th>\n",
       "      <th>tuesday_from_time2</th>\n",
       "      <th>tuesday_to_time2</th>\n",
       "      <th>wednesday_from_time1</th>\n",
       "      <th>wednesday_to_time1</th>\n",
       "      <th>wednesday_from_time2</th>\n",
       "      <th>wednesday_to_time2</th>\n",
       "      <th>thursday_from_time1</th>\n",
       "      <th>thursday_to_time1</th>\n",
       "      <th>thursday_from_time2</th>\n",
       "      <th>thursday_to_time2</th>\n",
       "      <th>friday_from_time1</th>\n",
       "      <th>friday_to_time1</th>\n",
       "      <th>friday_from_time2</th>\n",
       "      <th>friday_to_time2</th>\n",
       "      <th>saturday_from_time1</th>\n",
       "      <th>saturday_to_time1</th>\n",
       "      <th>saturday_from_time2</th>\n",
       "      <th>saturday_to_time2</th>\n",
       "      <th>primary_tags</th>\n",
       "      <th>open_close_flags</th>\n",
       "      <th>vendor_tag</th>\n",
       "      <th>vendor_tag_name</th>\n",
       "      <th>one_click_vendor</th>\n",
       "      <th>country_id</th>\n",
       "      <th>city_id</th>\n",
       "      <th>created_at_y</th>\n",
       "      <th>updated_at_y</th>\n",
       "      <th>device_type</th>\n",
       "      <th>display_orders</th>\n",
       "      <th>location_number_obj</th>\n",
       "      <th>id_obj</th>\n",
       "      <th>CID X LOC_NUM X VENDOR</th>\n",
       "      <th>target</th>\n",
       "    </tr>\n",
       "  </thead>\n",
       "  <tbody>\n",
       "    <tr>\n",
       "      <th>0</th>\n",
       "      <td>TCHWPBT</td>\n",
       "      <td>Male</td>\n",
       "      <td>1</td>\n",
       "      <td>1</td>\n",
       "      <td>2018-02-07 19:16:23</td>\n",
       "      <td>2018-02-07 19:16:23</td>\n",
       "      <td>0</td>\n",
       "      <td>Work</td>\n",
       "      <td>-96.44</td>\n",
       "      <td>-67.2</td>\n",
       "      <td>4</td>\n",
       "      <td>118597.0</td>\n",
       "      <td>-0.5884</td>\n",
       "      <td>0.7544</td>\n",
       "      <td>Restaurants</td>\n",
       "      <td>2.0</td>\n",
       "      <td>0.0</td>\n",
       "      <td>6.0</td>\n",
       "      <td>1.0</td>\n",
       "      <td>11:00AM-11:30PM</td>\n",
       "      <td>-</td>\n",
       "      <td>15</td>\n",
       "      <td>0.0</td>\n",
       "      <td>Yes</td>\n",
       "      <td>0.0</td>\n",
       "      <td>1.0</td>\n",
       "      <td>1</td>\n",
       "      <td>11</td>\n",
       "      <td>EN</td>\n",
       "      <td>4.4</td>\n",
       "      <td>00:00:00</td>\n",
       "      <td>00:30:00</td>\n",
       "      <td>08:00:00</td>\n",
       "      <td>23:59:00</td>\n",
       "      <td>00:00:00</td>\n",
       "      <td>00:30:00</td>\n",
       "      <td>08:00:00</td>\n",
       "      <td>23:59:00</td>\n",
       "      <td>00:00:00</td>\n",
       "      <td>00:30:00</td>\n",
       "      <td>08:00:00</td>\n",
       "      <td>23:59:00</td>\n",
       "      <td>00:00:00</td>\n",
       "      <td>00:30:00</td>\n",
       "      <td>08:00:00</td>\n",
       "      <td>23:59:00</td>\n",
       "      <td>00:00:00</td>\n",
       "      <td>00:30:00</td>\n",
       "      <td>08:00:00</td>\n",
       "      <td>23:59:00</td>\n",
       "      <td>00:00:00</td>\n",
       "      <td>00:30:00</td>\n",
       "      <td>10:00:00</td>\n",
       "      <td>23:59:00</td>\n",
       "      <td>00:00:00</td>\n",
       "      <td>00:30:00</td>\n",
       "      <td>10:00:00</td>\n",
       "      <td>23:59:00</td>\n",
       "      <td>{\"primary_tags\":\"4\"}</td>\n",
       "      <td>1.0</td>\n",
       "      <td>2,4,5,8,91,22,12,24,16,23</td>\n",
       "      <td>Arabic,Breakfast,Burgers,Desserts,Free Deliver...</td>\n",
       "      <td>Y</td>\n",
       "      <td>1.0</td>\n",
       "      <td>1.0</td>\n",
       "      <td>2018-01-30 14:42:04</td>\n",
       "      <td>2020-04-07 15:12:43</td>\n",
       "      <td>3</td>\n",
       "      <td>1</td>\n",
       "      <td>0</td>\n",
       "      <td>4</td>\n",
       "      <td>TCHWPBT X 0 X 4</td>\n",
       "      <td>0</td>\n",
       "    </tr>\n",
       "    <tr>\n",
       "      <th>1</th>\n",
       "      <td>TCHWPBT</td>\n",
       "      <td>Male</td>\n",
       "      <td>1</td>\n",
       "      <td>1</td>\n",
       "      <td>2018-02-07 19:16:23</td>\n",
       "      <td>2018-02-07 19:16:23</td>\n",
       "      <td>0</td>\n",
       "      <td>Work</td>\n",
       "      <td>-96.44</td>\n",
       "      <td>-67.2</td>\n",
       "      <td>13</td>\n",
       "      <td>118608.0</td>\n",
       "      <td>-0.4717</td>\n",
       "      <td>0.7446</td>\n",
       "      <td>Restaurants</td>\n",
       "      <td>2.0</td>\n",
       "      <td>0.7</td>\n",
       "      <td>5.0</td>\n",
       "      <td>1.0</td>\n",
       "      <td>08:30AM-10:30PM</td>\n",
       "      <td>-</td>\n",
       "      <td>14</td>\n",
       "      <td>0.0</td>\n",
       "      <td>Yes</td>\n",
       "      <td>0.0</td>\n",
       "      <td>1.0</td>\n",
       "      <td>1</td>\n",
       "      <td>11</td>\n",
       "      <td>EN</td>\n",
       "      <td>4.7</td>\n",
       "      <td>00:00:00</td>\n",
       "      <td>01:30:00</td>\n",
       "      <td>08:00:00</td>\n",
       "      <td>23:59:00</td>\n",
       "      <td>00:00:00</td>\n",
       "      <td>01:30:00</td>\n",
       "      <td>08:00:00</td>\n",
       "      <td>23:59:00</td>\n",
       "      <td>00:00:00</td>\n",
       "      <td>01:30:00</td>\n",
       "      <td>08:00:00</td>\n",
       "      <td>23:59:00</td>\n",
       "      <td>00:00:00</td>\n",
       "      <td>01:30:00</td>\n",
       "      <td>08:00:00</td>\n",
       "      <td>19:30:00</td>\n",
       "      <td>00:00:00</td>\n",
       "      <td>01:30:00</td>\n",
       "      <td>08:00:00</td>\n",
       "      <td>19:30:00</td>\n",
       "      <td>00:00:00</td>\n",
       "      <td>01:30:00</td>\n",
       "      <td>08:00:00</td>\n",
       "      <td>23:59:00</td>\n",
       "      <td>00:00:00</td>\n",
       "      <td>01:30:00</td>\n",
       "      <td>08:00:00</td>\n",
       "      <td>23:59:00</td>\n",
       "      <td>{\"primary_tags\":\"7\"}</td>\n",
       "      <td>1.0</td>\n",
       "      <td>4,41,51,34,27,15,24,16,28</td>\n",
       "      <td>Breakfast,Cakes,Crepes,Italian,Pasta,Pizzas,Sa...</td>\n",
       "      <td>Y</td>\n",
       "      <td>1.0</td>\n",
       "      <td>1.0</td>\n",
       "      <td>2018-05-03 12:32:06</td>\n",
       "      <td>2020-04-05 20:46:03</td>\n",
       "      <td>3</td>\n",
       "      <td>1</td>\n",
       "      <td>0</td>\n",
       "      <td>13</td>\n",
       "      <td>TCHWPBT X 0 X 13</td>\n",
       "      <td>0</td>\n",
       "    </tr>\n",
       "    <tr>\n",
       "      <th>2</th>\n",
       "      <td>TCHWPBT</td>\n",
       "      <td>Male</td>\n",
       "      <td>1</td>\n",
       "      <td>1</td>\n",
       "      <td>2018-02-07 19:16:23</td>\n",
       "      <td>2018-02-07 19:16:23</td>\n",
       "      <td>0</td>\n",
       "      <td>Work</td>\n",
       "      <td>-96.44</td>\n",
       "      <td>-67.2</td>\n",
       "      <td>20</td>\n",
       "      <td>118616.0</td>\n",
       "      <td>-0.4075</td>\n",
       "      <td>0.6436</td>\n",
       "      <td>Restaurants</td>\n",
       "      <td>2.0</td>\n",
       "      <td>0.0</td>\n",
       "      <td>8.0</td>\n",
       "      <td>1.0</td>\n",
       "      <td>08:00AM-10:45PM</td>\n",
       "      <td>-</td>\n",
       "      <td>19</td>\n",
       "      <td>0.0</td>\n",
       "      <td>Yes</td>\n",
       "      <td>0.0</td>\n",
       "      <td>1.0</td>\n",
       "      <td>1</td>\n",
       "      <td>1</td>\n",
       "      <td>EN</td>\n",
       "      <td>4.5</td>\n",
       "      <td>08:00:00</td>\n",
       "      <td>22:45:00</td>\n",
       "      <td>NaN</td>\n",
       "      <td>NaN</td>\n",
       "      <td>08:00:00</td>\n",
       "      <td>22:45:00</td>\n",
       "      <td>NaN</td>\n",
       "      <td>NaN</td>\n",
       "      <td>08:00:00</td>\n",
       "      <td>22:45:00</td>\n",
       "      <td>NaN</td>\n",
       "      <td>NaN</td>\n",
       "      <td>08:00:00</td>\n",
       "      <td>22:45:00</td>\n",
       "      <td>NaN</td>\n",
       "      <td>NaN</td>\n",
       "      <td>08:00:00</td>\n",
       "      <td>22:45:00</td>\n",
       "      <td>NaN</td>\n",
       "      <td>NaN</td>\n",
       "      <td>08:00:00</td>\n",
       "      <td>22:45:00</td>\n",
       "      <td>NaN</td>\n",
       "      <td>NaN</td>\n",
       "      <td>08:00:00</td>\n",
       "      <td>22:45:00</td>\n",
       "      <td>NaN</td>\n",
       "      <td>NaN</td>\n",
       "      <td>{\"primary_tags\":\"71\"}</td>\n",
       "      <td>1.0</td>\n",
       "      <td>4,8,91,10</td>\n",
       "      <td>Breakfast,Desserts,Free Delivery,Indian</td>\n",
       "      <td>Y</td>\n",
       "      <td>1.0</td>\n",
       "      <td>1.0</td>\n",
       "      <td>2018-05-04 22:28:22</td>\n",
       "      <td>2020-04-07 16:35:55</td>\n",
       "      <td>3</td>\n",
       "      <td>1</td>\n",
       "      <td>0</td>\n",
       "      <td>20</td>\n",
       "      <td>TCHWPBT X 0 X 20</td>\n",
       "      <td>0</td>\n",
       "    </tr>\n",
       "    <tr>\n",
       "      <th>3</th>\n",
       "      <td>TCHWPBT</td>\n",
       "      <td>Male</td>\n",
       "      <td>1</td>\n",
       "      <td>1</td>\n",
       "      <td>2018-02-07 19:16:23</td>\n",
       "      <td>2018-02-07 19:16:23</td>\n",
       "      <td>0</td>\n",
       "      <td>Work</td>\n",
       "      <td>-96.44</td>\n",
       "      <td>-67.2</td>\n",
       "      <td>23</td>\n",
       "      <td>118619.0</td>\n",
       "      <td>-0.5854</td>\n",
       "      <td>0.7540</td>\n",
       "      <td>Restaurants</td>\n",
       "      <td>2.0</td>\n",
       "      <td>0.0</td>\n",
       "      <td>5.0</td>\n",
       "      <td>1.0</td>\n",
       "      <td>10:59AM-10:30PM</td>\n",
       "      <td>-</td>\n",
       "      <td>16</td>\n",
       "      <td>0.0</td>\n",
       "      <td>Yes</td>\n",
       "      <td>0.0</td>\n",
       "      <td>1.0</td>\n",
       "      <td>1</td>\n",
       "      <td>11</td>\n",
       "      <td>EN</td>\n",
       "      <td>4.5</td>\n",
       "      <td>09:00:00</td>\n",
       "      <td>23:30:00</td>\n",
       "      <td>NaN</td>\n",
       "      <td>NaN</td>\n",
       "      <td>09:00:00</td>\n",
       "      <td>23:30:00</td>\n",
       "      <td>NaN</td>\n",
       "      <td>NaN</td>\n",
       "      <td>09:00:00</td>\n",
       "      <td>23:30:00</td>\n",
       "      <td>NaN</td>\n",
       "      <td>NaN</td>\n",
       "      <td>09:00:00</td>\n",
       "      <td>23:30:00</td>\n",
       "      <td>NaN</td>\n",
       "      <td>NaN</td>\n",
       "      <td>09:00:00</td>\n",
       "      <td>23:45:00</td>\n",
       "      <td>NaN</td>\n",
       "      <td>NaN</td>\n",
       "      <td>09:00:00</td>\n",
       "      <td>23:45:00</td>\n",
       "      <td>NaN</td>\n",
       "      <td>NaN</td>\n",
       "      <td>09:00:00</td>\n",
       "      <td>23:45:00</td>\n",
       "      <td>NaN</td>\n",
       "      <td>NaN</td>\n",
       "      <td>{\"primary_tags\":\"46\"}</td>\n",
       "      <td>1.0</td>\n",
       "      <td>5,8,30,24</td>\n",
       "      <td>Burgers,Desserts,Fries,Salads</td>\n",
       "      <td>Y</td>\n",
       "      <td>1.0</td>\n",
       "      <td>1.0</td>\n",
       "      <td>2018-05-06 19:20:48</td>\n",
       "      <td>2020-04-02 00:56:17</td>\n",
       "      <td>3</td>\n",
       "      <td>1</td>\n",
       "      <td>0</td>\n",
       "      <td>23</td>\n",
       "      <td>TCHWPBT X 0 X 23</td>\n",
       "      <td>0</td>\n",
       "    </tr>\n",
       "    <tr>\n",
       "      <th>4</th>\n",
       "      <td>TCHWPBT</td>\n",
       "      <td>Male</td>\n",
       "      <td>1</td>\n",
       "      <td>1</td>\n",
       "      <td>2018-02-07 19:16:23</td>\n",
       "      <td>2018-02-07 19:16:23</td>\n",
       "      <td>0</td>\n",
       "      <td>Work</td>\n",
       "      <td>-96.44</td>\n",
       "      <td>-67.2</td>\n",
       "      <td>28</td>\n",
       "      <td>118624.0</td>\n",
       "      <td>0.4807</td>\n",
       "      <td>0.5527</td>\n",
       "      <td>Restaurants</td>\n",
       "      <td>2.0</td>\n",
       "      <td>0.7</td>\n",
       "      <td>15.0</td>\n",
       "      <td>1.0</td>\n",
       "      <td>11:00AM-11:45PM</td>\n",
       "      <td>-</td>\n",
       "      <td>10</td>\n",
       "      <td>0.0</td>\n",
       "      <td>Yes</td>\n",
       "      <td>0.0</td>\n",
       "      <td>1.0</td>\n",
       "      <td>1</td>\n",
       "      <td>11</td>\n",
       "      <td>EN</td>\n",
       "      <td>4.4</td>\n",
       "      <td>00:01:00</td>\n",
       "      <td>00:30:00</td>\n",
       "      <td>11:00:00</td>\n",
       "      <td>23:59:00</td>\n",
       "      <td>00:01:00</td>\n",
       "      <td>00:30:00</td>\n",
       "      <td>11:00:00</td>\n",
       "      <td>23:59:00</td>\n",
       "      <td>00:01:00</td>\n",
       "      <td>00:30:00</td>\n",
       "      <td>11:00:00</td>\n",
       "      <td>23:59:00</td>\n",
       "      <td>00:01:00</td>\n",
       "      <td>00:30:00</td>\n",
       "      <td>11:00:00</td>\n",
       "      <td>23:59:00</td>\n",
       "      <td>00:01:00</td>\n",
       "      <td>00:30:00</td>\n",
       "      <td>11:00:00</td>\n",
       "      <td>23:59:00</td>\n",
       "      <td>00:01:00</td>\n",
       "      <td>01:30:00</td>\n",
       "      <td>17:45:00</td>\n",
       "      <td>23:59:00</td>\n",
       "      <td>00:01:00</td>\n",
       "      <td>01:30:00</td>\n",
       "      <td>17:45:00</td>\n",
       "      <td>23:59:00</td>\n",
       "      <td>{\"primary_tags\":\"32\"}</td>\n",
       "      <td>1.0</td>\n",
       "      <td>5</td>\n",
       "      <td>Burgers</td>\n",
       "      <td>Y</td>\n",
       "      <td>1.0</td>\n",
       "      <td>1.0</td>\n",
       "      <td>2018-05-17 22:12:38</td>\n",
       "      <td>2020-04-05 15:57:41</td>\n",
       "      <td>3</td>\n",
       "      <td>1</td>\n",
       "      <td>0</td>\n",
       "      <td>28</td>\n",
       "      <td>TCHWPBT X 0 X 28</td>\n",
       "      <td>0</td>\n",
       "    </tr>\n",
       "  </tbody>\n",
       "</table>\n",
       "</div>"
      ],
      "text/plain": [
       "  customer_id gender  status_x  ...  id_obj CID X LOC_NUM X VENDOR target\n",
       "0     TCHWPBT   Male         1  ...       4        TCHWPBT X 0 X 4      0\n",
       "1     TCHWPBT   Male         1  ...      13       TCHWPBT X 0 X 13      0\n",
       "2     TCHWPBT   Male         1  ...      20       TCHWPBT X 0 X 20      0\n",
       "3     TCHWPBT   Male         1  ...      23       TCHWPBT X 0 X 23      0\n",
       "4     TCHWPBT   Male         1  ...      28       TCHWPBT X 0 X 28      0\n",
       "\n",
       "[5 rows x 73 columns]"
      ]
     },
     "execution_count": 3,
     "metadata": {},
     "output_type": "execute_result"
    }
   ],
   "source": [
    "train_ratings.head()"
   ]
  },
  {
   "cell_type": "code",
   "execution_count": 4,
   "metadata": {
    "colab": {
     "base_uri": "https://localhost:8080/"
    },
    "id": "QyQ983xbEbBt",
    "outputId": "1e87e222-2da4-4f65-d3da-fd352b3e160e"
   },
   "outputs": [
    {
     "name": "stdout",
     "output_type": "stream",
     "text": [
      "<class 'pandas.core.frame.DataFrame'>\n",
      "RangeIndex: 5802400 entries, 0 to 5802399\n",
      "Data columns (total 73 columns):\n",
      " #   Column                  Dtype  \n",
      "---  ------                  -----  \n",
      " 0   customer_id             object \n",
      " 1   gender                  object \n",
      " 2   status_x                int64  \n",
      " 3   verified_x              int64  \n",
      " 4   created_at_x            object \n",
      " 5   updated_at_x            object \n",
      " 6   location_number         int64  \n",
      " 7   location_type           object \n",
      " 8   latitude_x              float64\n",
      " 9   longitude_x             float64\n",
      " 10  id                      int64  \n",
      " 11  authentication_id       float64\n",
      " 12  latitude_y              float64\n",
      " 13  longitude_y             float64\n",
      " 14  vendor_category_en      object \n",
      " 15  vendor_category_id      float64\n",
      " 16  delivery_charge         float64\n",
      " 17  serving_distance        float64\n",
      " 18  is_open                 float64\n",
      " 19  OpeningTime             object \n",
      " 20  OpeningTime2            object \n",
      " 21  prepration_time         int64  \n",
      " 22  commission              float64\n",
      " 23  is_akeed_delivering     object \n",
      " 24  discount_percentage     float64\n",
      " 25  status_y                float64\n",
      " 26  verified_y              int64  \n",
      " 27  rank                    int64  \n",
      " 28  language                object \n",
      " 29  vendor_rating           float64\n",
      " 30  sunday_from_time1       object \n",
      " 31  sunday_to_time1         object \n",
      " 32  sunday_from_time2       object \n",
      " 33  sunday_to_time2         object \n",
      " 34  monday_from_time1       object \n",
      " 35  monday_to_time1         object \n",
      " 36  monday_from_time2       object \n",
      " 37  monday_to_time2         object \n",
      " 38  tuesday_from_time1      object \n",
      " 39  tuesday_to_time1        object \n",
      " 40  tuesday_from_time2      object \n",
      " 41  tuesday_to_time2        object \n",
      " 42  wednesday_from_time1    object \n",
      " 43  wednesday_to_time1      object \n",
      " 44  wednesday_from_time2    object \n",
      " 45  wednesday_to_time2      object \n",
      " 46  thursday_from_time1     object \n",
      " 47  thursday_to_time1       object \n",
      " 48  thursday_from_time2     object \n",
      " 49  thursday_to_time2       object \n",
      " 50  friday_from_time1       object \n",
      " 51  friday_to_time1         object \n",
      " 52  friday_from_time2       object \n",
      " 53  friday_to_time2         object \n",
      " 54  saturday_from_time1     object \n",
      " 55  saturday_to_time1       object \n",
      " 56  saturday_from_time2     object \n",
      " 57  saturday_to_time2       object \n",
      " 58  primary_tags            object \n",
      " 59  open_close_flags        float64\n",
      " 60  vendor_tag              object \n",
      " 61  vendor_tag_name         object \n",
      " 62  one_click_vendor        object \n",
      " 63  country_id              float64\n",
      " 64  city_id                 float64\n",
      " 65  created_at_y            object \n",
      " 66  updated_at_y            object \n",
      " 67  device_type             int64  \n",
      " 68  display_orders          int64  \n",
      " 69  location_number_obj     int64  \n",
      " 70  id_obj                  int64  \n",
      " 71  CID X LOC_NUM X VENDOR  object \n",
      " 72  target                  int64  \n",
      "dtypes: float64(16), int64(12), object(45)\n",
      "memory usage: 3.2+ GB\n"
     ]
    }
   ],
   "source": [
    "train_ratings.info()"
   ]
  },
  {
   "cell_type": "code",
   "execution_count": 5,
   "metadata": {
    "id": "71qNS4GQ0cdO"
   },
   "outputs": [],
   "source": [
    "#creating new df with customer_id, id, vendor_rating\n",
    "\n",
    "train_df = train_ratings[['customer_id','id','vendor_rating']]"
   ]
  },
  {
   "cell_type": "code",
   "execution_count": 6,
   "metadata": {
    "colab": {
     "base_uri": "https://localhost:8080/",
     "height": 204
    },
    "id": "JHBRSyKk7vb7",
    "outputId": "bb5da470-fd1f-4766-a6c5-a785a665fb54"
   },
   "outputs": [
    {
     "data": {
      "text/html": [
       "<div>\n",
       "<style scoped>\n",
       "    .dataframe tbody tr th:only-of-type {\n",
       "        vertical-align: middle;\n",
       "    }\n",
       "\n",
       "    .dataframe tbody tr th {\n",
       "        vertical-align: top;\n",
       "    }\n",
       "\n",
       "    .dataframe thead th {\n",
       "        text-align: right;\n",
       "    }\n",
       "</style>\n",
       "<table border=\"1\" class=\"dataframe\">\n",
       "  <thead>\n",
       "    <tr style=\"text-align: right;\">\n",
       "      <th></th>\n",
       "      <th>customer_id</th>\n",
       "      <th>id</th>\n",
       "      <th>vendor_rating</th>\n",
       "    </tr>\n",
       "  </thead>\n",
       "  <tbody>\n",
       "    <tr>\n",
       "      <th>0</th>\n",
       "      <td>TCHWPBT</td>\n",
       "      <td>4</td>\n",
       "      <td>4.4</td>\n",
       "    </tr>\n",
       "    <tr>\n",
       "      <th>1</th>\n",
       "      <td>TCHWPBT</td>\n",
       "      <td>13</td>\n",
       "      <td>4.7</td>\n",
       "    </tr>\n",
       "    <tr>\n",
       "      <th>2</th>\n",
       "      <td>TCHWPBT</td>\n",
       "      <td>20</td>\n",
       "      <td>4.5</td>\n",
       "    </tr>\n",
       "    <tr>\n",
       "      <th>3</th>\n",
       "      <td>TCHWPBT</td>\n",
       "      <td>23</td>\n",
       "      <td>4.5</td>\n",
       "    </tr>\n",
       "    <tr>\n",
       "      <th>4</th>\n",
       "      <td>TCHWPBT</td>\n",
       "      <td>28</td>\n",
       "      <td>4.4</td>\n",
       "    </tr>\n",
       "  </tbody>\n",
       "</table>\n",
       "</div>"
      ],
      "text/plain": [
       "  customer_id  id  vendor_rating\n",
       "0     TCHWPBT   4            4.4\n",
       "1     TCHWPBT  13            4.7\n",
       "2     TCHWPBT  20            4.5\n",
       "3     TCHWPBT  23            4.5\n",
       "4     TCHWPBT  28            4.4"
      ]
     },
     "execution_count": 6,
     "metadata": {},
     "output_type": "execute_result"
    }
   ],
   "source": [
    "train_df.head()"
   ]
  },
  {
   "cell_type": "code",
   "execution_count": 7,
   "metadata": {
    "colab": {
     "base_uri": "https://localhost:8080/"
    },
    "id": "yZUtx0fj72-N",
    "outputId": "d3d29ec5-c254-4542-8f55-e1a6ead6607c"
   },
   "outputs": [
    {
     "name": "stdout",
     "output_type": "stream",
     "text": [
      "<class 'pandas.core.frame.DataFrame'>\n",
      "RangeIndex: 5802400 entries, 0 to 5802399\n",
      "Data columns (total 3 columns):\n",
      " #   Column         Dtype  \n",
      "---  ------         -----  \n",
      " 0   customer_id    object \n",
      " 1   id             int64  \n",
      " 2   vendor_rating  float64\n",
      "dtypes: float64(1), int64(1), object(1)\n",
      "memory usage: 132.8+ MB\n"
     ]
    }
   ],
   "source": [
    "train_df.info()"
   ]
  },
  {
   "cell_type": "code",
   "execution_count": 8,
   "metadata": {
    "colab": {
     "base_uri": "https://localhost:8080/"
    },
    "id": "PA4bf4Yj_KOv",
    "outputId": "612fc923-57e1-4999-9bad-36270897041e"
   },
   "outputs": [
    {
     "name": "stdout",
     "output_type": "stream",
     "text": [
      "customer_id      0\n",
      "id               0\n",
      "vendor_rating    0\n",
      "dtype: int64\n"
     ]
    }
   ],
   "source": [
    "#check for NA or inf values \n",
    "print(train_df.isna().sum())\n"
   ]
  },
  {
   "cell_type": "code",
   "execution_count": 9,
   "metadata": {
    "colab": {
     "base_uri": "https://localhost:8080/"
    },
    "id": "2UgAttEy8kEm",
    "outputId": "1f371449-8dab-4e1d-925b-5120263377b1"
   },
   "outputs": [
    {
     "name": "stderr",
     "output_type": "stream",
     "text": [
      "/usr/local/lib/python3.7/dist-packages/ipykernel_launcher.py:3: SettingWithCopyWarning: \n",
      "A value is trying to be set on a copy of a slice from a DataFrame.\n",
      "Try using .loc[row_indexer,col_indexer] = value instead\n",
      "\n",
      "See the caveats in the documentation: https://pandas.pydata.org/pandas-docs/stable/user_guide/indexing.html#returning-a-view-versus-a-copy\n",
      "  This is separate from the ipykernel package so we can avoid doing imports until\n"
     ]
    }
   ],
   "source": [
    "#create new column all for new key to delete duplicate rows\n",
    "cols = ['customer_id', 'id']\n",
    "train_df['all'] = train_df[cols].apply(lambda row: '_'.join(row.values.astype(str)), axis=1)\n",
    "\n"
   ]
  },
  {
   "cell_type": "code",
   "execution_count": 10,
   "metadata": {
    "colab": {
     "base_uri": "https://localhost:8080/"
    },
    "id": "Ix92tI_HB-ly",
    "outputId": "17121a61-c216-406e-833c-9e97d81bb245"
   },
   "outputs": [
    {
     "name": "stderr",
     "output_type": "stream",
     "text": [
      "/usr/local/lib/python3.7/dist-packages/ipykernel_launcher.py:1: SettingWithCopyWarning: \n",
      "A value is trying to be set on a copy of a slice from a DataFrame\n",
      "\n",
      "See the caveats in the documentation: https://pandas.pydata.org/pandas-docs/stable/user_guide/indexing.html#returning-a-view-versus-a-copy\n",
      "  \"\"\"Entry point for launching an IPython kernel.\n"
     ]
    }
   ],
   "source": [
    "train_df.drop_duplicates(['all'], inplace=True)"
   ]
  },
  {
   "cell_type": "code",
   "execution_count": 11,
   "metadata": {
    "colab": {
     "base_uri": "https://localhost:8080/"
    },
    "id": "j0SbPKlHFmTe",
    "outputId": "ac6e5188-e8cb-49ad-8fe8-58ea4b3ef595"
   },
   "outputs": [
    {
     "name": "stdout",
     "output_type": "stream",
     "text": [
      "<class 'pandas.core.frame.DataFrame'>\n",
      "Int64Index: 3452300 entries, 0 to 5802399\n",
      "Data columns (total 4 columns):\n",
      " #   Column         Dtype  \n",
      "---  ------         -----  \n",
      " 0   customer_id    object \n",
      " 1   id             int64  \n",
      " 2   vendor_rating  float64\n",
      " 3   all            object \n",
      "dtypes: float64(1), int64(1), object(2)\n",
      "memory usage: 131.7+ MB\n"
     ]
    }
   ],
   "source": [
    "train_df.info()"
   ]
  },
  {
   "cell_type": "code",
   "execution_count": 12,
   "metadata": {
    "colab": {
     "base_uri": "https://localhost:8080/"
    },
    "id": "gWL516Is1qkZ",
    "outputId": "4c9409e3-1851-4f63-dc87-edd3eaf2c2cb"
   },
   "outputs": [
    {
     "name": "stdout",
     "output_type": "stream",
     "text": [
      "Number of unique customers:  34523\n",
      "Number of unique vendors:  100\n"
     ]
    }
   ],
   "source": [
    "#One hot encoding of customer id\n",
    "from sklearn import preprocessing\n",
    "\n",
    "customer_id_1e = preprocessing.LabelEncoder()\n",
    "\n",
    "customer_id_1e.fit(train_df['customer_id'])\n",
    "\n",
    "print(\"Number of unique customers: \", str(len(customer_id_1e.classes_)))\n",
    "print(\"Number of unique vendors: \", str(train_df['id'].nunique()))\n"
   ]
  },
  {
   "cell_type": "code",
   "execution_count": 13,
   "metadata": {
    "colab": {
     "base_uri": "https://localhost:8080/",
     "height": 306
    },
    "id": "mt4qoyAv2TTO",
    "outputId": "5fd50040-0d8a-4ed9-df4d-8220cc64ecb5"
   },
   "outputs": [
    {
     "name": "stderr",
     "output_type": "stream",
     "text": [
      "/usr/local/lib/python3.7/dist-packages/pandas/core/generic.py:5170: SettingWithCopyWarning: \n",
      "A value is trying to be set on a copy of a slice from a DataFrame.\n",
      "Try using .loc[row_indexer,col_indexer] = value instead\n",
      "\n",
      "See the caveats in the documentation: https://pandas.pydata.org/pandas-docs/stable/user_guide/indexing.html#returning-a-view-versus-a-copy\n",
      "  self[name] = value\n"
     ]
    },
    {
     "data": {
      "text/html": [
       "<div>\n",
       "<style scoped>\n",
       "    .dataframe tbody tr th:only-of-type {\n",
       "        vertical-align: middle;\n",
       "    }\n",
       "\n",
       "    .dataframe tbody tr th {\n",
       "        vertical-align: top;\n",
       "    }\n",
       "\n",
       "    .dataframe thead th {\n",
       "        text-align: right;\n",
       "    }\n",
       "</style>\n",
       "<table border=\"1\" class=\"dataframe\">\n",
       "  <thead>\n",
       "    <tr style=\"text-align: right;\">\n",
       "      <th></th>\n",
       "      <th>customer_id</th>\n",
       "      <th>id</th>\n",
       "      <th>vendor_rating</th>\n",
       "      <th>all</th>\n",
       "    </tr>\n",
       "  </thead>\n",
       "  <tbody>\n",
       "    <tr>\n",
       "      <th>0</th>\n",
       "      <td>28177</td>\n",
       "      <td>4</td>\n",
       "      <td>4.4</td>\n",
       "      <td>TCHWPBT_4</td>\n",
       "    </tr>\n",
       "    <tr>\n",
       "      <th>1</th>\n",
       "      <td>28177</td>\n",
       "      <td>13</td>\n",
       "      <td>4.7</td>\n",
       "      <td>TCHWPBT_13</td>\n",
       "    </tr>\n",
       "    <tr>\n",
       "      <th>2</th>\n",
       "      <td>28177</td>\n",
       "      <td>20</td>\n",
       "      <td>4.5</td>\n",
       "      <td>TCHWPBT_20</td>\n",
       "    </tr>\n",
       "    <tr>\n",
       "      <th>3</th>\n",
       "      <td>28177</td>\n",
       "      <td>23</td>\n",
       "      <td>4.5</td>\n",
       "      <td>TCHWPBT_23</td>\n",
       "    </tr>\n",
       "    <tr>\n",
       "      <th>4</th>\n",
       "      <td>28177</td>\n",
       "      <td>28</td>\n",
       "      <td>4.4</td>\n",
       "      <td>TCHWPBT_28</td>\n",
       "    </tr>\n",
       "  </tbody>\n",
       "</table>\n",
       "</div>"
      ],
      "text/plain": [
       "   customer_id  id  vendor_rating         all\n",
       "0        28177   4            4.4   TCHWPBT_4\n",
       "1        28177  13            4.7  TCHWPBT_13\n",
       "2        28177  20            4.5  TCHWPBT_20\n",
       "3        28177  23            4.5  TCHWPBT_23\n",
       "4        28177  28            4.4  TCHWPBT_28"
      ]
     },
     "execution_count": 13,
     "metadata": {},
     "output_type": "execute_result"
    }
   ],
   "source": [
    "#Translate customer id to number form\n",
    "\n",
    "train_df_1 = train_df\n",
    "train_df_1.customer_id = customer_id_1e.transform(train_df.customer_id)\n",
    "train_df_1.head()"
   ]
  },
  {
   "cell_type": "code",
   "execution_count": 14,
   "metadata": {
    "colab": {
     "base_uri": "https://localhost:8080/",
     "height": 419
    },
    "id": "Tt4-Dlr0HQat",
    "outputId": "fd32c6a5-328d-40e7-e06c-2331c60408d7"
   },
   "outputs": [
    {
     "data": {
      "text/html": [
       "<div>\n",
       "<style scoped>\n",
       "    .dataframe tbody tr th:only-of-type {\n",
       "        vertical-align: middle;\n",
       "    }\n",
       "\n",
       "    .dataframe tbody tr th {\n",
       "        vertical-align: top;\n",
       "    }\n",
       "\n",
       "    .dataframe thead th {\n",
       "        text-align: right;\n",
       "    }\n",
       "</style>\n",
       "<table border=\"1\" class=\"dataframe\">\n",
       "  <thead>\n",
       "    <tr style=\"text-align: right;\">\n",
       "      <th></th>\n",
       "      <th>customer_id</th>\n",
       "      <th>id</th>\n",
       "      <th>vendor_rating</th>\n",
       "    </tr>\n",
       "  </thead>\n",
       "  <tbody>\n",
       "    <tr>\n",
       "      <th>0</th>\n",
       "      <td>28177</td>\n",
       "      <td>4</td>\n",
       "      <td>4.4</td>\n",
       "    </tr>\n",
       "    <tr>\n",
       "      <th>1</th>\n",
       "      <td>28177</td>\n",
       "      <td>13</td>\n",
       "      <td>4.7</td>\n",
       "    </tr>\n",
       "    <tr>\n",
       "      <th>2</th>\n",
       "      <td>28177</td>\n",
       "      <td>20</td>\n",
       "      <td>4.5</td>\n",
       "    </tr>\n",
       "    <tr>\n",
       "      <th>3</th>\n",
       "      <td>28177</td>\n",
       "      <td>23</td>\n",
       "      <td>4.5</td>\n",
       "    </tr>\n",
       "    <tr>\n",
       "      <th>4</th>\n",
       "      <td>28177</td>\n",
       "      <td>28</td>\n",
       "      <td>4.4</td>\n",
       "    </tr>\n",
       "    <tr>\n",
       "      <th>...</th>\n",
       "      <td>...</td>\n",
       "      <td>...</td>\n",
       "      <td>...</td>\n",
       "    </tr>\n",
       "    <tr>\n",
       "      <th>5802395</th>\n",
       "      <td>20387</td>\n",
       "      <td>849</td>\n",
       "      <td>4.1</td>\n",
       "    </tr>\n",
       "    <tr>\n",
       "      <th>5802396</th>\n",
       "      <td>20387</td>\n",
       "      <td>855</td>\n",
       "      <td>4.2</td>\n",
       "    </tr>\n",
       "    <tr>\n",
       "      <th>5802397</th>\n",
       "      <td>20387</td>\n",
       "      <td>856</td>\n",
       "      <td>4.3</td>\n",
       "    </tr>\n",
       "    <tr>\n",
       "      <th>5802398</th>\n",
       "      <td>20387</td>\n",
       "      <td>858</td>\n",
       "      <td>4.2</td>\n",
       "    </tr>\n",
       "    <tr>\n",
       "      <th>5802399</th>\n",
       "      <td>20387</td>\n",
       "      <td>907</td>\n",
       "      <td>4.3</td>\n",
       "    </tr>\n",
       "  </tbody>\n",
       "</table>\n",
       "<p>3452300 rows × 3 columns</p>\n",
       "</div>"
      ],
      "text/plain": [
       "         customer_id   id  vendor_rating\n",
       "0              28177    4            4.4\n",
       "1              28177   13            4.7\n",
       "2              28177   20            4.5\n",
       "3              28177   23            4.5\n",
       "4              28177   28            4.4\n",
       "...              ...  ...            ...\n",
       "5802395        20387  849            4.1\n",
       "5802396        20387  855            4.2\n",
       "5802397        20387  856            4.3\n",
       "5802398        20387  858            4.2\n",
       "5802399        20387  907            4.3\n",
       "\n",
       "[3452300 rows x 3 columns]"
      ]
     },
     "execution_count": 14,
     "metadata": {},
     "output_type": "execute_result"
    }
   ],
   "source": [
    "train_df_1.drop('all',axis=1)"
   ]
  },
  {
   "cell_type": "code",
   "execution_count": 15,
   "metadata": {
    "colab": {
     "base_uri": "https://localhost:8080/"
    },
    "id": "wz0ucco3LY9D",
    "outputId": "b3e5488c-f720-4b69-8874-5a78ac834ebd"
   },
   "outputs": [
    {
     "name": "stdout",
     "output_type": "stream",
     "text": [
      "<class 'pandas.core.frame.DataFrame'>\n",
      "Int64Index: 3452300 entries, 0 to 5802399\n",
      "Data columns (total 3 columns):\n",
      " #   Column         Dtype  \n",
      "---  ------         -----  \n",
      " 0   customer_id    int64  \n",
      " 1   id             int64  \n",
      " 2   vendor_rating  float64\n",
      "dtypes: float64(1), int64(2)\n",
      "memory usage: 105.4 MB\n"
     ]
    }
   ],
   "source": [
    "train_df_2 = train_df_1[['customer_id', 'id', 'vendor_rating']]\n",
    "train_df_2.info()"
   ]
  },
  {
   "cell_type": "code",
   "execution_count": 16,
   "metadata": {
    "colab": {
     "base_uri": "https://localhost:8080/"
    },
    "id": "EIPY--kSbOMN",
    "outputId": "70aedb81-170a-4b27-f5b0-0e8db0c81855"
   },
   "outputs": [
    {
     "name": "stdout",
     "output_type": "stream",
     "text": [
      "Collecting pyspark\n",
      "  Downloading pyspark-3.2.0.tar.gz (281.3 MB)\n",
      "\u001b[K     |████████████████████████████████| 281.3 MB 42 kB/s \n",
      "\u001b[?25hCollecting py4j==0.10.9.2\n",
      "  Downloading py4j-0.10.9.2-py2.py3-none-any.whl (198 kB)\n",
      "\u001b[K     |████████████████████████████████| 198 kB 36.4 MB/s \n",
      "\u001b[?25hBuilding wheels for collected packages: pyspark\n",
      "  Building wheel for pyspark (setup.py) ... \u001b[?25l\u001b[?25hdone\n",
      "  Created wheel for pyspark: filename=pyspark-3.2.0-py2.py3-none-any.whl size=281805912 sha256=4c9163077c77e2e82e29d3b7880496b621ece646ae0792b85ac2da6868b9c8ce\n",
      "  Stored in directory: /root/.cache/pip/wheels/0b/de/d2/9be5d59d7331c6c2a7c1b6d1a4f463ce107332b1ecd4e80718\n",
      "Successfully built pyspark\n",
      "Installing collected packages: py4j, pyspark\n",
      "Successfully installed py4j-0.10.9.2 pyspark-3.2.0\n"
     ]
    }
   ],
   "source": [
    "!pip install pyspark"
   ]
  },
  {
   "cell_type": "code",
   "execution_count": 17,
   "metadata": {
    "colab": {
     "base_uri": "https://localhost:8080/"
    },
    "id": "ptf7X-0zHzgJ",
    "outputId": "193f3434-2ff8-457c-c1c9-99aeb73e0cd0"
   },
   "outputs": [
    {
     "name": "stderr",
     "output_type": "stream",
     "text": [
      "/usr/local/lib/python3.7/dist-packages/pyspark/sql/context.py:79: FutureWarning: Deprecated in 3.0.0. Use SparkSession.builder.getOrCreate() instead.\n",
      "  FutureWarning\n"
     ]
    }
   ],
   "source": [
    "#creating spark session\n",
    "from pyspark import SparkContext, SparkConf\n",
    "from pyspark.sql import SQLContext\n",
    "\n",
    "from pyspark.mllib.recommendation import *\n",
    "\n",
    "sc = SparkContext.getOrCreate()\n",
    "sc.stop()\n",
    "sc = SparkContext('local', 'Recommender')\n",
    "sqlContext = SQLContext(sc)"
   ]
  },
  {
   "cell_type": "code",
   "execution_count": 18,
   "metadata": {
    "id": "2qT8ox6qJlhe"
   },
   "outputs": [],
   "source": [
    "#convert pandas dataframe into rdd\n",
    "train_df_rdd = sqlContext.createDataFrame(train_df_2).rdd"
   ]
  },
  {
   "cell_type": "code",
   "execution_count": 19,
   "metadata": {
    "colab": {
     "base_uri": "https://localhost:8080/"
    },
    "id": "pOg-y-soMPqh",
    "outputId": "31c3c752-68e9-4a40-91b2-d5a3c2ae010d"
   },
   "outputs": [
    {
     "data": {
      "text/plain": [
       "[Row(customer_id=28177, id=4, vendor_rating=4.4),\n",
       " Row(customer_id=28177, id=13, vendor_rating=4.7),\n",
       " Row(customer_id=28177, id=20, vendor_rating=4.5),\n",
       " Row(customer_id=28177, id=23, vendor_rating=4.5),\n",
       " Row(customer_id=28177, id=28, vendor_rating=4.4)]"
      ]
     },
     "execution_count": 19,
     "metadata": {},
     "output_type": "execute_result"
    }
   ],
   "source": [
    "train_df_rdd.take(5)"
   ]
  },
  {
   "cell_type": "code",
   "execution_count": 20,
   "metadata": {
    "colab": {
     "base_uri": "https://localhost:8080/"
    },
    "id": "6Ebjtz8PIYwA",
    "outputId": "4520f3af-d38a-4809-b5f7-bd94204c2515"
   },
   "outputs": [
    {
     "name": "stdout",
     "output_type": "stream",
     "text": [
      "Train RDD\n",
      " [Row(customer_id=28177, id=4, vendor_rating=4.4), Row(customer_id=28177, id=13, vendor_rating=4.7), Row(customer_id=28177, id=20, vendor_rating=4.5), Row(customer_id=28177, id=23, vendor_rating=4.5), Row(customer_id=28177, id=28, vendor_rating=4.4)] \n",
      "\n",
      "Validation for prediction RDD\n",
      " [(28177, 33), (28177, 76), (28177, 86), (28177, 92), (28177, 115)] \n",
      "\n",
      "Test for prediction RDD\n",
      " [(28177, 66), (28177, 75), (28177, 81), (28177, 85), (28177, 90)] \n",
      "\n"
     ]
    }
   ],
   "source": [
    "#Splitting data into train, val and test rdds\n",
    "\n",
    "train_rdd, val_rdd, test_rdd = train_df_rdd.randomSplit([6,2,2],42)\n",
    "val_for_pred_rdd = val_rdd.map(lambda x: (x[0], x[1]))\n",
    "test_for_pred_rdd = test_rdd.map(lambda x: (x[0], x[1]))\n",
    "\n",
    "print(\"Train RDD\\n\", train_rdd.take(5),\"\\n\")\n",
    "print(\"Validation for prediction RDD\\n\", val_for_pred_rdd.take(5),\"\\n\")\n",
    "print(\"Test for prediction RDD\\n\", test_for_pred_rdd.take(5),\"\\n\")"
   ]
  },
  {
   "cell_type": "code",
   "execution_count": 21,
   "metadata": {
    "colab": {
     "base_uri": "https://localhost:8080/"
    },
    "id": "kXJHe2sYLKt_",
    "outputId": "e146984a-005a-4dde-fcde-3995c354803f"
   },
   "outputs": [
    {
     "name": "stdout",
     "output_type": "stream",
     "text": [
      "For rank 16 at lambda: 0.001, the RMSE is 0.022544435005567895\n",
      "For rank 32 at lambda: 0.001, the RMSE is 0.006985169903862695\n",
      "For rank 64 at lambda: 0.001, the RMSE is 0.00351967729579193\n",
      "For rank 16 at lambda: 0.01, the RMSE is 0.13079477295186043\n",
      "For rank 32 at lambda: 0.01, the RMSE is 0.0765385283333102\n",
      "For rank 64 at lambda: 0.01, the RMSE is 0.06067927227968845\n",
      "For rank 16 at lambda: 0.1, the RMSE is 0.19778849495417283\n",
      "For rank 32 at lambda: 0.1, the RMSE is 0.206145507893568\n",
      "For rank 64 at lambda: 0.1, the RMSE is 0.19973748644177378\n"
     ]
    }
   ],
   "source": [
    "import math\n",
    "\n",
    "seed = 42\n",
    "iterations = 10\n",
    "lambdas = [0.001, 0.01, 0.1]\n",
    "ranks = [16, 32, 64]\n",
    "errors = [0 for x in range(len(ranks)*len(lambdas))]\n",
    "err_index = 0\n",
    "\n",
    "for lambda_ in lambdas:\n",
    "  for rank in ranks:\n",
    "    model = ALS.train(train_rdd, rank, seed = seed, iterations=iterations, lambda_=lambda_)\n",
    "    predictions = model.predictAll(val_for_pred_rdd).map(lambda r: ((r[0], r[1]), r[2]))\n",
    "    ratings_and_preds = val_rdd.map(lambda r: ((int(r[0]), int(r[1])), float(r[2]))).join(predictions)\n",
    "    error = math.sqrt(ratings_and_preds.map(lambda r: (r[1][0] - r[1][1])**2).mean())\n",
    "    errors[err_index] = error\n",
    "    err_index+=1\n",
    "    print('For rank {0} at lambda: {1}, the RMSE is {2}'.format(rank, lambda_, error))\n",
    "\n",
    "\n",
    "\n"
   ]
  },
  {
   "cell_type": "code",
   "execution_count": 22,
   "metadata": {
    "id": "5wSe0OBwdxeb"
   },
   "outputs": [],
   "source": [
    "from pyspark.ml.evaluation import RegressionEvaluator\n",
    "from pyspark.ml.tuning import ParamGridBuilder, CrossValidator\n",
    "from pyspark.ml.recommendation import ALS"
   ]
  },
  {
   "cell_type": "code",
   "execution_count": 23,
   "metadata": {
    "id": "pAMNGJi8d-MX"
   },
   "outputs": [],
   "source": [
    "als = ALS(userCol='customer_id', itemCol='id', ratingCol='vendor_rating', nonnegative=True, implicitPrefs = False, coldStartStrategy='drop')"
   ]
  },
  {
   "cell_type": "code",
   "execution_count": 24,
   "metadata": {
    "id": "jRYFya23eSRK"
   },
   "outputs": [],
   "source": [
    "from pyspark.sql import SparkSession\n",
    "\n",
    "spark = SparkSession\\\n",
    "    .builder\\\n",
    "    .appName(\"ALSrecommender\")\\\n",
    "    .getOrCreate()"
   ]
  },
  {
   "cell_type": "code",
   "execution_count": 25,
   "metadata": {
    "id": "SdDW9JzI1ZDQ"
   },
   "outputs": [],
   "source": [
    "new_train_rdd = spark.createDataFrame(train_df_2)"
   ]
  },
  {
   "cell_type": "code",
   "execution_count": 26,
   "metadata": {
    "id": "eEZ7FkvG1gCj"
   },
   "outputs": [],
   "source": [
    "(training, val, test) = new_train_rdd.randomSplit([0.6,0.2,0.2],42)"
   ]
  },
  {
   "cell_type": "code",
   "execution_count": 27,
   "metadata": {
    "id": "SX4b-SBz1ikW"
   },
   "outputs": [],
   "source": [
    "best_als_model = ALS(maxIter=10, regParam=0.001, userCol='customer_id', itemCol='id', ratingCol=\"vendor_rating\", coldStartStrategy=\"drop\", rank=64)"
   ]
  },
  {
   "cell_type": "code",
   "execution_count": 28,
   "metadata": {
    "id": "kl5UDid11oB6"
   },
   "outputs": [],
   "source": [
    "final_model = best_als_model.fit(training)"
   ]
  },
  {
   "cell_type": "code",
   "execution_count": 29,
   "metadata": {
    "id": "EokIt7SY1tqR"
   },
   "outputs": [],
   "source": [
    "predictions = final_model.transform(test)"
   ]
  },
  {
   "cell_type": "code",
   "execution_count": 30,
   "metadata": {
    "id": "oruufgigfDlW"
   },
   "outputs": [],
   "source": [
    "evaluator = RegressionEvaluator(metricName=\"rmse\", labelCol=\"vendor_rating\", predictionCol=\"prediction\")\n"
   ]
  },
  {
   "cell_type": "code",
   "execution_count": 31,
   "metadata": {
    "id": "5hrHH9cI18kC"
   },
   "outputs": [],
   "source": [
    "rmse = evaluator.evaluate(predictions)"
   ]
  },
  {
   "cell_type": "code",
   "execution_count": 32,
   "metadata": {
    "colab": {
     "base_uri": "https://localhost:8080/"
    },
    "id": "E7NYHCNMfmJT",
    "outputId": "782aa488-6dd1-4b54-f848-54a335993c2c"
   },
   "outputs": [
    {
     "name": "stdout",
     "output_type": "stream",
     "text": [
      "Root mean squared error = 0.0022238419206284626\n"
     ]
    }
   ],
   "source": [
    "print(\"Root mean squared error = \" + str(rmse))"
   ]
  },
  {
   "cell_type": "code",
   "execution_count": 33,
   "metadata": {
    "colab": {
     "base_uri": "https://localhost:8080/"
    },
    "id": "HgNEMyaI3X27",
    "outputId": "507068df-1280-4aff-f0cb-45566617d379"
   },
   "outputs": [
    {
     "name": "stderr",
     "output_type": "stream",
     "text": [
      "/usr/local/lib/python3.7/dist-packages/pyspark/sql/context.py:127: FutureWarning: Deprecated in 3.0.0. Use SparkSession.builder.getOrCreate() instead.\n",
      "  FutureWarning\n"
     ]
    }
   ],
   "source": [
    "#Generate top 10 vendor recommendations for each customer\n",
    "custRecs = final_model.recommendForAllUsers(10)\n",
    "\n",
    "#Generate top 10 customer recommendations for each vendor\n",
    "vendRecs = final_model.recommendForAllItems(10)"
   ]
  },
  {
   "cell_type": "code",
   "execution_count": 34,
   "metadata": {
    "colab": {
     "base_uri": "https://localhost:8080/"
    },
    "id": "CF7T1msB3slC",
    "outputId": "fe357b26-079a-484c-845e-6a08ee979e82"
   },
   "outputs": [
    {
     "name": "stderr",
     "output_type": "stream",
     "text": [
      "/usr/local/lib/python3.7/dist-packages/pyspark/sql/context.py:127: FutureWarning: Deprecated in 3.0.0. Use SparkSession.builder.getOrCreate() instead.\n",
      "  FutureWarning\n"
     ]
    }
   ],
   "source": [
    "## Generate top 10 vendor recommendations for a specified set of customers\n",
    "\n",
    "customers = new_train_rdd.select(best_als_model.getUserCol()).distinct().limit(3)\n",
    "custSubsetRecs = final_model.recommendForUserSubset(customers, 10)\n",
    "\n",
    "# Generate top 10 customer recommendations for a specified set of vendors\n",
    "\n",
    "vendors = new_train_rdd.select(best_als_model.getItemCol()).distinct().limit(3)\n",
    "vendSubSetRecs = final_model.recommendForItemSubset(vendors, 10)\n"
   ]
  },
  {
   "cell_type": "code",
   "execution_count": 35,
   "metadata": {
    "colab": {
     "base_uri": "https://localhost:8080/"
    },
    "id": "If-VDnul4yLm",
    "outputId": "a02216b0-978a-4c94-cf20-859be1d7556d"
   },
   "outputs": [
    {
     "name": "stdout",
     "output_type": "stream",
     "text": [
      "+-----------+--------------------+\n",
      "|customer_id|     recommendations|\n",
      "+-----------+--------------------+\n",
      "|          0|[{310, 4.797579},...|\n",
      "|          1|[{115, 4.797552},...|\n",
      "|          2|[{115, 4.7975435}...|\n",
      "|          3|[{310, 4.7975245}...|\n",
      "|          4|[{310, 4.7975435}...|\n",
      "|          5|[{310, 4.7975516}...|\n",
      "|          6|[{310, 4.7975287}...|\n",
      "|          7|[{310, 4.797538},...|\n",
      "|          8|[{310, 4.797517},...|\n",
      "|          9|[{310, 4.797567},...|\n",
      "|         10|[{310, 4.797529},...|\n",
      "|         11|[{310, 4.7975726}...|\n",
      "|         12|[{310, 4.7975516}...|\n",
      "|         13|[{115, 4.797581},...|\n",
      "|         14|[{310, 4.79756}, ...|\n",
      "|         15|[{310, 4.7975583}...|\n",
      "|         16|[{310, 4.797527},...|\n",
      "|         17|[{115, 4.797552},...|\n",
      "|         18|[{310, 4.7975225}...|\n",
      "|         19|[{310, 4.7975545}...|\n",
      "+-----------+--------------------+\n",
      "only showing top 20 rows\n",
      "\n"
     ]
    }
   ],
   "source": [
    "custRecs.show()\n"
   ]
  },
  {
   "cell_type": "code",
   "execution_count": 36,
   "metadata": {
    "colab": {
     "base_uri": "https://localhost:8080/"
    },
    "id": "2f6FC19f45Mp",
    "outputId": "8c6eea43-5465-4cfe-91bb-8be3c829e475"
   },
   "outputs": [
    {
     "name": "stdout",
     "output_type": "stream",
     "text": [
      "+---+--------------------+\n",
      "| id|     recommendations|\n",
      "+---+--------------------+\n",
      "|300|[{34246, 4.397847...|\n",
      "| 20|[{34246, 4.497798...|\n",
      "|250|[{34246, 4.497798...|\n",
      "|310|[{34246, 4.797647...|\n",
      "|160|[{34246, 4.297896...|\n",
      "| 90|[{34246, 4.397847...|\n",
      "|110|[{34246, 4.597747...|\n",
      "|180|[{34246, 3.798144...|\n",
      "| 81|[{34246, 3.798144...|\n",
      "|271|[{34246, 4.497798...|\n",
      "|191|[{34246, 4.497798...|\n",
      "|231|[{34246, 4.297896...|\n",
      "|161|[{34246, 4.197945...|\n",
      "|391|[{34246, 4.197945...|\n",
      "|221|[{34246, 4.197945...|\n",
      "|201|[{34246, 3.998045...|\n",
      "|681|[{34246, 4.397847...|\n",
      "|841|[{34246, 3.998045...|\n",
      "|401|[{34246, 4.497798...|\n",
      "|192|[{34246, 4.297896...|\n",
      "+---+--------------------+\n",
      "only showing top 20 rows\n",
      "\n"
     ]
    }
   ],
   "source": [
    "vendRecs.show()"
   ]
  },
  {
   "cell_type": "code",
   "execution_count": 37,
   "metadata": {
    "colab": {
     "base_uri": "https://localhost:8080/"
    },
    "id": "UG_GVn9M4-DY",
    "outputId": "71a2486c-893c-4f85-cbb2-93d2823f2109"
   },
   "outputs": [
    {
     "name": "stdout",
     "output_type": "stream",
     "text": [
      "+-----------+--------------------+\n",
      "|customer_id|     recommendations|\n",
      "+-----------+--------------------+\n",
      "|      19771|[{115, 4.7974863}...|\n",
      "|      18196|[{310, 4.797581},...|\n",
      "|      13638|[{115, 4.797519},...|\n",
      "+-----------+--------------------+\n",
      "\n"
     ]
    }
   ],
   "source": [
    "custSubsetRecs.show()"
   ]
  },
  {
   "cell_type": "code",
   "execution_count": 38,
   "metadata": {
    "colab": {
     "base_uri": "https://localhost:8080/"
    },
    "id": "bOPADJpH5KHJ",
    "outputId": "28907e01-3121-48bf-b20c-e5e33663bfe7"
   },
   "outputs": [
    {
     "name": "stdout",
     "output_type": "stream",
     "text": [
      "+---+--------------------+\n",
      "| id|     recommendations|\n",
      "+---+--------------------+\n",
      "|191|[{34246, 4.497798...|\n",
      "|243|[{34246, 4.397847...|\n",
      "|113|[{34246, 4.697697...|\n",
      "+---+--------------------+\n",
      "\n"
     ]
    }
   ],
   "source": [
    "vendSubSetRecs.show()"
   ]
  },
  {
   "cell_type": "code",
   "execution_count": 38,
   "metadata": {
    "id": "XctCKBbA5OUa"
   },
   "outputs": [],
   "source": []
  }
 ],
 "metadata": {
  "colab": {
   "collapsed_sections": [],
   "name": "PySpark 2.0.ipynb",
   "provenance": []
  },
  "kernelspec": {
   "display_name": "Python 3",
   "language": "python",
   "name": "python3"
  },
  "language_info": {
   "codemirror_mode": {
    "name": "ipython",
    "version": 3
   },
   "file_extension": ".py",
   "mimetype": "text/x-python",
   "name": "python",
   "nbconvert_exporter": "python",
   "pygments_lexer": "ipython3",
   "version": "3.8.8"
  }
 },
 "nbformat": 4,
 "nbformat_minor": 1
}
