{
 "cells": [
  {
   "cell_type": "markdown",
   "metadata": {
    "id": "4U3hajkJY6yO"
   },
   "source": [
    "## Build a seq2seq model for machine translation.\n",
    "\n",
    "### Task: Translate English to Spanish"
   ]
  },
  {
   "cell_type": "markdown",
   "metadata": {
    "id": "pET2AbFHY6yS"
   },
   "source": [
    "## 1. Data preparation\n",
    "\n",
    "1. Download data (e.g., \"deu-eng.zip\") from http://www.manythings.org/anki/\n",
    "2. Unzip the .ZIP file.\n",
    "3. Put the .TXT file (e.g., \"deu.txt\") in the directory \"./Data/\"."
   ]
  },
  {
   "cell_type": "markdown",
   "metadata": {
    "id": "UmGXAfrPY6yS"
   },
   "source": [
    "### 1.1. Load and clean text\n"
   ]
  },
  {
   "cell_type": "code",
   "execution_count": 1,
   "metadata": {
    "id": "oeQ-JAHjY6yS"
   },
   "outputs": [],
   "source": [
    "import re\n",
    "import string\n",
    "from unicodedata import normalize\n",
    "import numpy\n",
    "\n",
    "# load doc into memory\n",
    "def load_doc(filename):\n",
    "    # open the file as read only\n",
    "    file = open(filename, mode='rt', encoding='utf-8')\n",
    "    # read all text\n",
    "    text = file.read()\n",
    "    # close the file\n",
    "    file.close()\n",
    "    return text\n",
    "\n",
    "\n",
    "# split a loaded document into sentences\n",
    "def to_pairs(doc):\n",
    "    lines = doc.strip().split('\\n')\n",
    "    pairs = [line.split('\\t') for line in  lines]\n",
    "    return pairs\n",
    "\n",
    "def clean_data(lines):\n",
    "    cleaned = list()\n",
    "    # prepare regex for char filtering\n",
    "    re_print = re.compile('[^%s]' % re.escape(string.printable))\n",
    "    # prepare translation table for removing punctuation\n",
    "    table = str.maketrans('', '', string.punctuation)\n",
    "    for pair in lines:\n",
    "        clean_pair = list()\n",
    "        for line in pair:\n",
    "            # normalize unicode characters\n",
    "            line = normalize('NFD', line).encode('ascii', 'ignore')\n",
    "            line = line.decode('UTF-8')\n",
    "            # tokenize on white space\n",
    "            line = line.split()\n",
    "            # convert to lowercase\n",
    "            line = [word.lower() for word in line]\n",
    "            # remove punctuation from each token\n",
    "            line = [word.translate(table) for word in line]\n",
    "            # remove non-printable chars form each token\n",
    "            line = [re_print.sub('', w) for w in line]\n",
    "            # remove tokens with numbers in them\n",
    "            line = [word for word in line if word.isalpha()]\n",
    "            # store as string\n",
    "            clean_pair.append(' '.join(line))\n",
    "        cleaned.append(clean_pair)\n",
    "    return numpy.array(cleaned)"
   ]
  },
  {
   "cell_type": "markdown",
   "metadata": {
    "id": "-bClq-WCY6yT"
   },
   "source": [
    "#### Fill the following blanks:"
   ]
  },
  {
   "cell_type": "code",
   "execution_count": 2,
   "metadata": {
    "id": "zijfc38uY6yT"
   },
   "outputs": [],
   "source": [
    "# e.g., filename = 'Data/deu.txt'\n",
    "#Taking the English to Spanish file\n",
    "filename = '/content/spa.txt'\n",
    "\n",
    "# e.g., n_train = 20000\n",
    "#Taking 80% of 128084 sentences available\n",
    "n_train = 102467"
   ]
  },
  {
   "cell_type": "code",
   "execution_count": 3,
   "metadata": {
    "id": "EIUL6TIeY6yT"
   },
   "outputs": [],
   "source": [
    "# load dataset\n",
    "doc = load_doc(filename)\n",
    "\n",
    "# split into Language1-Language2 pairs\n",
    "pairs = to_pairs(doc)\n",
    "\n",
    "# clean sentences\n",
    "clean_pairs = clean_data(pairs)[0:n_train, :]"
   ]
  },
  {
   "cell_type": "code",
   "execution_count": 4,
   "metadata": {
    "colab": {
     "base_uri": "https://localhost:8080/"
    },
    "id": "Q2XJHI1BY6yU",
    "outputId": "857bc98a-cd2e-47b5-dae0-1deb833434c1"
   },
   "outputs": [
    {
     "name": "stdout",
     "output_type": "stream",
     "text": [
      "[no problem] => [ningun problema]\n",
      "[nobody ran] => [no corrio nadie]\n",
      "[nobody ran] => [nadie corrio]\n",
      "[nobody ran] => [nadie corria]\n",
      "[nobody ran] => [no corria nadie]\n",
      "[please sit] => [por favor sientese]\n",
      "[please sit] => [por favor sientate]\n",
      "[please sit] => [por favor sentaos]\n",
      "[quiet down] => [baja la voz]\n",
      "[replace it] => [reemplazadlo]\n"
     ]
    }
   ],
   "source": [
    "for i in range(1500, 1510):\n",
    "    print('[' + clean_pairs[i, 0] + '] => [' + clean_pairs[i, 1] + ']')"
   ]
  },
  {
   "cell_type": "code",
   "execution_count": 5,
   "metadata": {
    "colab": {
     "base_uri": "https://localhost:8080/"
    },
    "id": "dZv38yx1Y6yV",
    "outputId": "2e6450e6-97af-4a41-a187-9987f8275a9a"
   },
   "outputs": [
    {
     "name": "stdout",
     "output_type": "stream",
     "text": [
      "Length of input_texts:  (102467,)\n",
      "Length of target_texts: (102467,)\n"
     ]
    }
   ],
   "source": [
    "input_texts = clean_pairs[:, 0]\n",
    "target_texts = ['\\t' + text + '\\n' for text in clean_pairs[:, 1]]\n",
    "\n",
    "print('Length of input_texts:  ' + str(input_texts.shape))\n",
    "print('Length of target_texts: ' + str(input_texts.shape))"
   ]
  },
  {
   "cell_type": "code",
   "execution_count": 6,
   "metadata": {
    "colab": {
     "base_uri": "https://localhost:8080/"
    },
    "id": "THBRl6OqY6yV",
    "outputId": "6170e7c6-9f8c-4bb4-f715-605409a6b28f"
   },
   "outputs": [
    {
     "name": "stdout",
     "output_type": "stream",
     "text": [
      "max length of input  sentences: 40\n",
      "max length of target sentences: 91\n"
     ]
    }
   ],
   "source": [
    "max_encoder_seq_length = max(len(line) for line in input_texts)\n",
    "max_decoder_seq_length = max(len(line) for line in target_texts)\n",
    "\n",
    "print('max length of input  sentences: %d' % (max_encoder_seq_length))\n",
    "print('max length of target sentences: %d' % (max_decoder_seq_length))"
   ]
  },
  {
   "cell_type": "markdown",
   "metadata": {
    "id": "J0zdM3sOY6yV"
   },
   "source": [
    "**Remark:** To this end, you have two lists of sentences: input_texts and target_texts"
   ]
  },
  {
   "cell_type": "markdown",
   "metadata": {
    "id": "JhliMfSXY6yW"
   },
   "source": [
    "## 2. Text processing\n",
    "\n",
    "### 2.1. Convert texts to sequences\n",
    "\n",
    "- Input: A list of $n$ sentences (with max length $t$).\n",
    "- It is represented by a $n\\times t$ matrix after the tokenization and zero-padding."
   ]
  },
  {
   "cell_type": "code",
   "execution_count": 7,
   "metadata": {
    "colab": {
     "base_uri": "https://localhost:8080/"
    },
    "id": "9w5l7g93Y6yW",
    "outputId": "9f704fb5-dea9-4459-9ec4-4575e9f393e6"
   },
   "outputs": [
    {
     "name": "stdout",
     "output_type": "stream",
     "text": [
      "shape of encoder_input_seq: (102467, 40)\n",
      "shape of input_token_index: 27\n",
      "shape of decoder_input_seq: (102467, 91)\n",
      "shape of target_token_index: 29\n"
     ]
    }
   ],
   "source": [
    "from keras.preprocessing.text import Tokenizer\n",
    "from keras.preprocessing.sequence import pad_sequences\n",
    "\n",
    "# encode and pad sequences\n",
    "def text2sequences(max_len, lines):\n",
    "    tokenizer = Tokenizer(char_level=True, filters='')\n",
    "    tokenizer.fit_on_texts(lines)\n",
    "    seqs = tokenizer.texts_to_sequences(lines)\n",
    "    seqs_pad = pad_sequences(seqs, maxlen=max_len, padding='post')\n",
    "    return seqs_pad, tokenizer.word_index\n",
    "\n",
    "\n",
    "encoder_input_seq, input_token_index = text2sequences(max_encoder_seq_length, \n",
    "                                                      input_texts)\n",
    "decoder_input_seq, target_token_index = text2sequences(max_decoder_seq_length, \n",
    "                                                       target_texts)\n",
    "\n",
    "print('shape of encoder_input_seq: ' + str(encoder_input_seq.shape))\n",
    "print('shape of input_token_index: ' + str(len(input_token_index)))\n",
    "print('shape of decoder_input_seq: ' + str(decoder_input_seq.shape))\n",
    "print('shape of target_token_index: ' + str(len(target_token_index)))"
   ]
  },
  {
   "cell_type": "code",
   "execution_count": 8,
   "metadata": {
    "colab": {
     "base_uri": "https://localhost:8080/"
    },
    "id": "JkPakCRuY6yX",
    "outputId": "62dff360-32f2-4642-aa37-b6ab1a7f0a6a"
   },
   "outputs": [
    {
     "name": "stdout",
     "output_type": "stream",
     "text": [
      "num_encoder_tokens: 28\n",
      "num_decoder_tokens: 30\n"
     ]
    }
   ],
   "source": [
    "num_encoder_tokens = len(input_token_index) + 1\n",
    "num_decoder_tokens = len(target_token_index) + 1\n",
    "\n",
    "print('num_encoder_tokens: ' + str(num_encoder_tokens))\n",
    "print('num_decoder_tokens: ' + str(num_decoder_tokens))"
   ]
  },
  {
   "cell_type": "markdown",
   "metadata": {
    "id": "m4zpNKxUY6yX"
   },
   "source": [
    "**Remark:** To this end, the input language and target language texts are converted to 2 matrices. \n",
    "\n",
    "- Their number of rows are both n_train.\n",
    "- Their number of columns are respective max_encoder_seq_length and max_decoder_seq_length."
   ]
  },
  {
   "cell_type": "markdown",
   "metadata": {
    "id": "mgdiFwWJY6yY"
   },
   "source": [
    "The followings print a sentence and its representation as a sequence."
   ]
  },
  {
   "cell_type": "code",
   "execution_count": 9,
   "metadata": {
    "colab": {
     "base_uri": "https://localhost:8080/",
     "height": 35
    },
    "id": "glXoikpwY6yY",
    "outputId": "85ca1d1e-5622-4b04-c475-93dd66b1dc2d"
   },
   "outputs": [
    {
     "data": {
      "application/vnd.google.colaboratory.intrinsic+json": {
       "type": "string"
      },
      "text/plain": [
       "'\\tencuentrenlo a tomas\\n'"
      ]
     },
     "execution_count": 9,
     "metadata": {
      "tags": []
     },
     "output_type": "execute_result"
    }
   ],
   "source": [
    "target_texts[300]"
   ]
  },
  {
   "cell_type": "code",
   "execution_count": 10,
   "metadata": {
    "colab": {
     "base_uri": "https://localhost:8080/"
    },
    "id": "j18SakimY6yY",
    "outputId": "21fcac88-fe38-4bb2-ed7a-8064c3dc358c"
   },
   "outputs": [
    {
     "data": {
      "text/plain": [
       "array([12,  2,  6, 16, 11,  2,  6,  8,  7,  2,  6, 10,  4,  1,  3,  1,  8,\n",
       "        4, 15,  3,  5, 13,  0,  0,  0,  0,  0,  0,  0,  0,  0,  0,  0,  0,\n",
       "        0,  0,  0,  0,  0,  0,  0,  0,  0,  0,  0,  0,  0,  0,  0,  0,  0,\n",
       "        0,  0,  0,  0,  0,  0,  0,  0,  0,  0,  0,  0,  0,  0,  0,  0,  0,\n",
       "        0,  0,  0,  0,  0,  0,  0,  0,  0,  0,  0,  0,  0,  0,  0,  0,  0,\n",
       "        0,  0,  0,  0,  0,  0], dtype=int32)"
      ]
     },
     "execution_count": 10,
     "metadata": {
      "tags": []
     },
     "output_type": "execute_result"
    }
   ],
   "source": [
    "decoder_input_seq[300, :]"
   ]
  },
  {
   "cell_type": "markdown",
   "metadata": {
    "id": "SlmjlRGGY6yZ"
   },
   "source": [
    "## 2.2. One-hot encode\n",
    "\n",
    "- Input: A list of $n$ sentences (with max length $t$).\n",
    "- It is represented by a $n\\times t$ matrix after the tokenization and zero-padding.\n",
    "- It is represented by a $n\\times t \\times v$ tensor ($t$ is the number of unique chars) after the one-hot encoding."
   ]
  },
  {
   "cell_type": "code",
   "execution_count": 11,
   "metadata": {
    "colab": {
     "base_uri": "https://localhost:8080/"
    },
    "id": "QRs7DzuiY6yZ",
    "outputId": "28b3a1b2-1c6f-4c7a-b33c-58bd2b9ea3c3"
   },
   "outputs": [
    {
     "name": "stdout",
     "output_type": "stream",
     "text": [
      "(102467, 40, 28)\n",
      "(102467, 91, 30)\n"
     ]
    }
   ],
   "source": [
    "from keras.utils import to_categorical\n",
    "\n",
    "# one hot encode target sequence\n",
    "def onehot_encode(sequences, max_len, vocab_size):\n",
    "    n = len(sequences)\n",
    "    data = numpy.zeros((n, max_len, vocab_size))\n",
    "    for i in range(n):\n",
    "        data[i, :, :] = to_categorical(sequences[i], num_classes=vocab_size)\n",
    "    return data\n",
    "\n",
    "encoder_input_data = onehot_encode(encoder_input_seq, max_encoder_seq_length, num_encoder_tokens)\n",
    "decoder_input_data = onehot_encode(decoder_input_seq, max_decoder_seq_length, num_decoder_tokens)\n",
    "\n",
    "decoder_target_seq = numpy.zeros(decoder_input_seq.shape)\n",
    "decoder_target_seq[:, 0:-1] = decoder_input_seq[:, 1:]\n",
    "decoder_target_data = onehot_encode(decoder_target_seq, \n",
    "                                    max_decoder_seq_length, \n",
    "                                    num_decoder_tokens)\n",
    "\n",
    "print(encoder_input_data.shape)\n",
    "print(decoder_input_data.shape)"
   ]
  },
  {
   "cell_type": "markdown",
   "metadata": {
    "id": "jNmFpky7Y6yZ"
   },
   "source": [
    "## 3. Build the networks (for training)\n",
    "\n",
    "- Build encoder, decoder, and connect the two modules to get \"model\". \n",
    "\n",
    "- Fit the model on the bilingual data to train the parameters in the encoder and decoder."
   ]
  },
  {
   "cell_type": "markdown",
   "metadata": {
    "id": "EQMpL2H6Y6yZ"
   },
   "source": [
    "### 3.1. Encoder network\n",
    "\n",
    "- Input:  one-hot encode of the input language\n",
    "\n",
    "- Return: \n",
    "\n",
    "    -- output (all the hidden states   $h_1, \\cdots , h_t$) are always discarded\n",
    "    \n",
    "    -- the final hidden state  $h_t$\n",
    "    \n",
    "    -- the final conveyor belt $c_t$"
   ]
  },
  {
   "cell_type": "code",
   "execution_count": 12,
   "metadata": {
    "id": "KnVyNUNzY6ya"
   },
   "outputs": [],
   "source": [
    "from keras.layers import Input, LSTM\n",
    "from keras.models import Model\n",
    "from keras.layers import Bidirectional, Concatenate\n",
    "\n",
    "latent_dim = 256\n",
    "\n",
    "# inputs of the encoder network\n",
    "encoder_inputs = Input(shape=(None, num_encoder_tokens), \n",
    "                       name='encoder_inputs')\n",
    "\n",
    "\n",
    "# set the LSTM layer\n",
    "#encoder_lstm = LSTM(latent_dim, return_state=True, \n",
    "#                     dropout=0.5, name='encoder_lstm')\n",
    "#_, state_h, state_c = encoder_lstm(encoder_inputs)\n",
    "\n",
    "\n",
    "\n",
    "encoder_bilstm = Bidirectional(LSTM(latent_dim, return_state=True, \n",
    "                                    dropout=0.5, name='encoder_lstm'))\n",
    "_, forward_h, forward_c, backward_h, backward_c = encoder_bilstm(encoder_inputs)\n",
    "\n",
    "state_h = Concatenate()([forward_h, backward_h])\n",
    "state_c = Concatenate()([forward_c, backward_c])\n",
    "\n",
    "\n",
    "# build the encoder network model\n",
    "encoder_model = Model(inputs=encoder_inputs, \n",
    "                      outputs=[state_h, state_c],\n",
    "                      name='encoder')"
   ]
  },
  {
   "cell_type": "markdown",
   "metadata": {
    "id": "nQ7075bGY6ya"
   },
   "source": [
    "Print a summary and save the encoder network structure to \"./encoder.pdf\""
   ]
  },
  {
   "cell_type": "code",
   "execution_count": 13,
   "metadata": {
    "colab": {
     "base_uri": "https://localhost:8080/"
    },
    "id": "NsaMcH3TY6ya",
    "outputId": "95d5a37e-42a3-491f-d804-60bc13cd3c89"
   },
   "outputs": [
    {
     "name": "stdout",
     "output_type": "stream",
     "text": [
      "Model: \"encoder\"\n",
      "__________________________________________________________________________________________________\n",
      "Layer (type)                    Output Shape         Param #     Connected to                     \n",
      "==================================================================================================\n",
      "encoder_inputs (InputLayer)     [(None, None, 28)]   0                                            \n",
      "__________________________________________________________________________________________________\n",
      "bidirectional (Bidirectional)   [(None, 512), (None, 583680      encoder_inputs[0][0]             \n",
      "__________________________________________________________________________________________________\n",
      "concatenate (Concatenate)       (None, 512)          0           bidirectional[0][1]              \n",
      "                                                                 bidirectional[0][3]              \n",
      "__________________________________________________________________________________________________\n",
      "concatenate_1 (Concatenate)     (None, 512)          0           bidirectional[0][2]              \n",
      "                                                                 bidirectional[0][4]              \n",
      "==================================================================================================\n",
      "Total params: 583,680\n",
      "Trainable params: 583,680\n",
      "Non-trainable params: 0\n",
      "__________________________________________________________________________________________________\n"
     ]
    }
   ],
   "source": [
    "from IPython.display import SVG\n",
    "from keras.utils.vis_utils import model_to_dot, plot_model\n",
    "\n",
    "SVG(model_to_dot(encoder_model, show_shapes=False).create(prog='dot', format='svg'))\n",
    "\n",
    "plot_model(\n",
    "    model=encoder_model, show_shapes=False,\n",
    "    to_file='encoder.pdf'\n",
    ")\n",
    "\n",
    "encoder_model.summary()"
   ]
  },
  {
   "cell_type": "markdown",
   "metadata": {
    "id": "MMhM8p90Y6ya"
   },
   "source": [
    "### 3.2. Decoder network\n",
    "\n",
    "- Inputs:  \n",
    "\n",
    "    -- one-hot encode of the target language\n",
    "    \n",
    "    -- The initial hidden state $h_t$ \n",
    "    \n",
    "    -- The initial conveyor belt $c_t$ \n",
    "\n",
    "- Return: \n",
    "\n",
    "    -- output (all the hidden states) $h_1, \\cdots , h_t$\n",
    "\n",
    "    -- the final hidden state  $h_t$ (discarded in the training and used in the prediction)\n",
    "    \n",
    "    -- the final conveyor belt $c_t$ (discarded in the training and used in the prediction)"
   ]
  },
  {
   "cell_type": "code",
   "execution_count": 14,
   "metadata": {
    "id": "o0sT6d7sY6yb"
   },
   "outputs": [],
   "source": [
    "from keras.layers import Input, LSTM, Dense\n",
    "from keras.models import Model\n",
    "\n",
    "# inputs of the decoder network\n",
    "decoder_input_h = Input(shape=(latent_dim * 2,), name='decoder_input_h')\n",
    "decoder_input_c = Input(shape=(latent_dim * 2,), name='decoder_input_c')\n",
    "decoder_input_x = Input(shape=(None, num_decoder_tokens), name='decoder_input_x')\n",
    "\n",
    "# set the LSTM layer\n",
    "decoder_lstm = LSTM(latent_dim * 2, return_sequences=True, \n",
    "                    return_state=True, dropout=0.5, name='decoder_lstm')\n",
    "decoder_lstm_outputs, state_h, state_c = decoder_lstm(decoder_input_x, \n",
    "                                                      initial_state=[decoder_input_h, decoder_input_c])\n",
    "\n",
    "# set the dense layer\n",
    "decoder_dense = Dense(num_decoder_tokens, activation='softmax', name='decoder_dense')\n",
    "decoder_outputs = decoder_dense(decoder_lstm_outputs)\n",
    "\n",
    "# build the decoder network model\n",
    "decoder_model = Model(inputs=[decoder_input_x, decoder_input_h, decoder_input_c],\n",
    "                      outputs=[decoder_outputs, state_h, state_c],\n",
    "                      name='decoder')"
   ]
  },
  {
   "cell_type": "markdown",
   "metadata": {
    "id": "3k9MQ1nfY6yb"
   },
   "source": [
    "Print a summary and save the encoder network structure to \"./decoder.pdf\""
   ]
  },
  {
   "cell_type": "code",
   "execution_count": 15,
   "metadata": {
    "colab": {
     "base_uri": "https://localhost:8080/"
    },
    "id": "BWaPGu4BY6yb",
    "outputId": "749d3784-7752-4245-fa9e-f1244a1aac57"
   },
   "outputs": [
    {
     "name": "stdout",
     "output_type": "stream",
     "text": [
      "Model: \"decoder\"\n",
      "__________________________________________________________________________________________________\n",
      "Layer (type)                    Output Shape         Param #     Connected to                     \n",
      "==================================================================================================\n",
      "decoder_input_x (InputLayer)    [(None, None, 30)]   0                                            \n",
      "__________________________________________________________________________________________________\n",
      "decoder_input_h (InputLayer)    [(None, 512)]        0                                            \n",
      "__________________________________________________________________________________________________\n",
      "decoder_input_c (InputLayer)    [(None, 512)]        0                                            \n",
      "__________________________________________________________________________________________________\n",
      "decoder_lstm (LSTM)             [(None, None, 512),  1112064     decoder_input_x[0][0]            \n",
      "                                                                 decoder_input_h[0][0]            \n",
      "                                                                 decoder_input_c[0][0]            \n",
      "__________________________________________________________________________________________________\n",
      "decoder_dense (Dense)           (None, None, 30)     15390       decoder_lstm[0][0]               \n",
      "==================================================================================================\n",
      "Total params: 1,127,454\n",
      "Trainable params: 1,127,454\n",
      "Non-trainable params: 0\n",
      "__________________________________________________________________________________________________\n"
     ]
    }
   ],
   "source": [
    "from IPython.display import SVG\n",
    "from keras.utils.vis_utils import model_to_dot, plot_model\n",
    "\n",
    "SVG(model_to_dot(decoder_model, show_shapes=False).create(prog='dot', format='svg'))\n",
    "\n",
    "plot_model(\n",
    "    model=decoder_model, show_shapes=False,\n",
    "    to_file='decoder.pdf'\n",
    ")\n",
    "\n",
    "decoder_model.summary()"
   ]
  },
  {
   "cell_type": "markdown",
   "metadata": {
    "id": "xVJ8oy6aY6yc"
   },
   "source": [
    "### 3.3. Connect the encoder and decoder"
   ]
  },
  {
   "cell_type": "code",
   "execution_count": 16,
   "metadata": {
    "id": "_0rWgRPzY6yc"
   },
   "outputs": [],
   "source": [
    "# input layers\n",
    "encoder_input_x = Input(shape=(None, num_encoder_tokens), name='encoder_input_x')\n",
    "decoder_input_x = Input(shape=(None, num_decoder_tokens), name='decoder_input_x')\n",
    "\n",
    "# connect encoder to decoder\n",
    "encoder_final_states = encoder_model([encoder_input_x])\n",
    "decoder_lstm_output, _, _ = decoder_lstm(decoder_input_x, initial_state=encoder_final_states)\n",
    "decoder_pred = decoder_dense(decoder_lstm_output)\n",
    "\n",
    "model = Model(inputs=[encoder_input_x, decoder_input_x], \n",
    "              outputs=decoder_pred, \n",
    "              name='model_training')"
   ]
  },
  {
   "cell_type": "code",
   "execution_count": 17,
   "metadata": {
    "colab": {
     "base_uri": "https://localhost:8080/"
    },
    "id": "nTerWQh6Y6yc",
    "outputId": "303427b0-cddd-49fb-8e0f-fdf0ce923996"
   },
   "outputs": [
    {
     "name": "stdout",
     "output_type": "stream",
     "text": [
      "KerasTensor(type_spec=TensorSpec(shape=(None, 512), dtype=tf.float32, name=None), name='decoder_lstm/PartitionedCall:2', description=\"created by layer 'decoder_lstm'\")\n",
      "KerasTensor(type_spec=TensorSpec(shape=(None, 512), dtype=tf.float32, name='decoder_input_h'), name='decoder_input_h', description=\"created by layer 'decoder_input_h'\")\n"
     ]
    }
   ],
   "source": [
    "print(state_h)\n",
    "print(decoder_input_h)"
   ]
  },
  {
   "cell_type": "code",
   "execution_count": 18,
   "metadata": {
    "colab": {
     "base_uri": "https://localhost:8080/"
    },
    "id": "8U6UCgKdY6yc",
    "outputId": "9a9d499c-8b4b-41d1-9401-d59e697a2a4b"
   },
   "outputs": [
    {
     "name": "stdout",
     "output_type": "stream",
     "text": [
      "Model: \"model_training\"\n",
      "__________________________________________________________________________________________________\n",
      "Layer (type)                    Output Shape         Param #     Connected to                     \n",
      "==================================================================================================\n",
      "encoder_input_x (InputLayer)    [(None, None, 28)]   0                                            \n",
      "__________________________________________________________________________________________________\n",
      "decoder_input_x (InputLayer)    [(None, None, 30)]   0                                            \n",
      "__________________________________________________________________________________________________\n",
      "encoder (Functional)            [(None, 512), (None, 583680      encoder_input_x[0][0]            \n",
      "__________________________________________________________________________________________________\n",
      "decoder_lstm (LSTM)             [(None, None, 512),  1112064     decoder_input_x[0][0]            \n",
      "                                                                 encoder[0][0]                    \n",
      "                                                                 encoder[0][1]                    \n",
      "__________________________________________________________________________________________________\n",
      "decoder_dense (Dense)           (None, None, 30)     15390       decoder_lstm[1][0]               \n",
      "==================================================================================================\n",
      "Total params: 1,711,134\n",
      "Trainable params: 1,711,134\n",
      "Non-trainable params: 0\n",
      "__________________________________________________________________________________________________\n"
     ]
    }
   ],
   "source": [
    "from IPython.display import SVG\n",
    "from keras.utils.vis_utils import model_to_dot, plot_model\n",
    "\n",
    "SVG(model_to_dot(model, show_shapes=False).create(prog='dot', format='svg'))\n",
    "\n",
    "plot_model(\n",
    "    model=model, show_shapes=False,\n",
    "    to_file='model_training.pdf'\n",
    ")\n",
    "\n",
    "model.summary()"
   ]
  },
  {
   "cell_type": "markdown",
   "metadata": {
    "id": "e2jrC5X5Y6yd"
   },
   "source": [
    "### 3.5. Fit the model on the bilingual dataset\n",
    "\n",
    "- encoder_input_data: one-hot encode of the input language\n",
    "\n",
    "- decoder_input_data: one-hot encode of the input language\n",
    "\n",
    "- decoder_target_data: labels (left shift of decoder_input_data)\n",
    "\n",
    "- tune the hyper-parameters\n",
    "\n",
    "- stop when the validation loss stop decreasing."
   ]
  },
  {
   "cell_type": "code",
   "execution_count": 19,
   "metadata": {
    "colab": {
     "base_uri": "https://localhost:8080/"
    },
    "id": "FRKNWNeCY6yd",
    "outputId": "f3286bab-3bff-4941-d3e8-5464ace67083"
   },
   "outputs": [
    {
     "name": "stdout",
     "output_type": "stream",
     "text": [
      "shape of encoder_input_data(102467, 40, 28)\n",
      "shape of decoder_input_data(102467, 91, 30)\n",
      "shape of decoder_target_data(102467, 91, 30)\n"
     ]
    }
   ],
   "source": [
    "print('shape of encoder_input_data' + str(encoder_input_data.shape))\n",
    "print('shape of decoder_input_data' + str(decoder_input_data.shape))\n",
    "print('shape of decoder_target_data' + str(decoder_target_data.shape))"
   ]
  },
  {
   "cell_type": "code",
   "execution_count": 20,
   "metadata": {
    "colab": {
     "base_uri": "https://localhost:8080/"
    },
    "id": "ysS6fA6CY6yd",
    "outputId": "feff508c-e55c-43b6-f825-f709d44be12a"
   },
   "outputs": [
    {
     "name": "stdout",
     "output_type": "stream",
     "text": [
      "Epoch 1/50\n",
      "1281/1281 [==============================] - 57s 31ms/step - loss: 0.8170 - val_loss: 0.7415\n",
      "Epoch 2/50\n",
      "1281/1281 [==============================] - 37s 29ms/step - loss: 0.5761 - val_loss: 0.6497\n",
      "Epoch 3/50\n",
      "1281/1281 [==============================] - 38s 30ms/step - loss: 0.5350 - val_loss: 0.6020\n",
      "Epoch 4/50\n",
      "1281/1281 [==============================] - 39s 30ms/step - loss: 0.5087 - val_loss: 0.5694\n",
      "Epoch 5/50\n",
      "1281/1281 [==============================] - 39s 30ms/step - loss: 0.4909 - val_loss: 0.5480\n",
      "Epoch 6/50\n",
      "1281/1281 [==============================] - 40s 31ms/step - loss: 0.4783 - val_loss: 0.5287\n",
      "Epoch 7/50\n",
      "1281/1281 [==============================] - 40s 31ms/step - loss: 0.4662 - val_loss: 0.5140\n",
      "Epoch 8/50\n",
      "1281/1281 [==============================] - 39s 31ms/step - loss: 0.4580 - val_loss: 0.5091\n",
      "Epoch 9/50\n",
      "1281/1281 [==============================] - 39s 31ms/step - loss: 0.4499 - val_loss: 0.4954\n",
      "Epoch 10/50\n",
      "1281/1281 [==============================] - 39s 31ms/step - loss: 0.4424 - val_loss: 0.4891\n",
      "Epoch 11/50\n",
      "1281/1281 [==============================] - 39s 31ms/step - loss: 0.4361 - val_loss: 0.4803\n",
      "Epoch 12/50\n",
      "1281/1281 [==============================] - 39s 31ms/step - loss: 0.4308 - val_loss: 0.4736\n",
      "Epoch 13/50\n",
      "1281/1281 [==============================] - 39s 31ms/step - loss: 0.4274 - val_loss: 0.4662\n",
      "Epoch 14/50\n",
      "1281/1281 [==============================] - 39s 31ms/step - loss: 0.4230 - val_loss: 0.4604\n",
      "Epoch 15/50\n",
      "1281/1281 [==============================] - 39s 31ms/step - loss: 0.4199 - val_loss: 0.4599\n",
      "Epoch 16/50\n",
      "1281/1281 [==============================] - 39s 31ms/step - loss: 0.4160 - val_loss: 0.4514\n",
      "Epoch 17/50\n",
      "1281/1281 [==============================] - 39s 31ms/step - loss: 0.4128 - val_loss: 0.4505\n",
      "Epoch 18/50\n",
      "1281/1281 [==============================] - 39s 31ms/step - loss: 0.4089 - val_loss: 0.4499\n",
      "Epoch 19/50\n",
      "1281/1281 [==============================] - 39s 31ms/step - loss: 0.4080 - val_loss: 0.4428\n",
      "Epoch 20/50\n",
      "1281/1281 [==============================] - 39s 31ms/step - loss: 0.4045 - val_loss: 0.4400\n",
      "Epoch 21/50\n",
      "1281/1281 [==============================] - 39s 31ms/step - loss: 0.4012 - val_loss: 0.4395\n",
      "Epoch 22/50\n",
      "1281/1281 [==============================] - 39s 31ms/step - loss: 0.4015 - val_loss: 0.4374\n",
      "Epoch 23/50\n",
      "1281/1281 [==============================] - 39s 31ms/step - loss: 0.3973 - val_loss: 0.4362\n",
      "Epoch 24/50\n",
      "1281/1281 [==============================] - 39s 31ms/step - loss: 0.3979 - val_loss: 0.4303\n",
      "Epoch 25/50\n",
      "1281/1281 [==============================] - 39s 31ms/step - loss: 0.3931 - val_loss: 0.4265\n",
      "Epoch 26/50\n",
      "1281/1281 [==============================] - 39s 31ms/step - loss: 0.3931 - val_loss: 0.4255\n",
      "Epoch 27/50\n",
      "1281/1281 [==============================] - 39s 31ms/step - loss: 0.3910 - val_loss: 0.4264\n",
      "Epoch 28/50\n",
      "1281/1281 [==============================] - 39s 31ms/step - loss: 0.3871 - val_loss: 0.4242\n",
      "Epoch 29/50\n",
      "1281/1281 [==============================] - 39s 31ms/step - loss: 0.3872 - val_loss: 0.4204\n",
      "Epoch 30/50\n",
      "1281/1281 [==============================] - 39s 31ms/step - loss: 0.3853 - val_loss: 0.4192\n",
      "Epoch 31/50\n",
      "1281/1281 [==============================] - 39s 31ms/step - loss: 0.3840 - val_loss: 0.4193\n",
      "Epoch 32/50\n",
      "1281/1281 [==============================] - 39s 31ms/step - loss: 0.3834 - val_loss: 0.4178\n",
      "Epoch 33/50\n",
      "1281/1281 [==============================] - 39s 31ms/step - loss: 0.3819 - val_loss: 0.4162\n",
      "Epoch 34/50\n",
      "1281/1281 [==============================] - 39s 31ms/step - loss: 0.3805 - val_loss: 0.4142\n",
      "Epoch 35/50\n",
      "1281/1281 [==============================] - 39s 31ms/step - loss: 0.3791 - val_loss: 0.4116\n",
      "Epoch 36/50\n",
      "1281/1281 [==============================] - 39s 31ms/step - loss: 0.3776 - val_loss: 0.4135\n",
      "Epoch 37/50\n",
      "1281/1281 [==============================] - 39s 31ms/step - loss: 0.3773 - val_loss: 0.4103\n",
      "Epoch 38/50\n",
      "1281/1281 [==============================] - 39s 31ms/step - loss: 0.3764 - val_loss: 0.4105\n",
      "Epoch 39/50\n",
      "1281/1281 [==============================] - 39s 31ms/step - loss: 0.3749 - val_loss: 0.4069\n",
      "Epoch 40/50\n",
      "1281/1281 [==============================] - 39s 31ms/step - loss: 0.3736 - val_loss: 0.4082\n",
      "Epoch 41/50\n",
      "1281/1281 [==============================] - 39s 31ms/step - loss: 0.3722 - val_loss: 0.4064\n",
      "Epoch 42/50\n",
      "1281/1281 [==============================] - 39s 31ms/step - loss: 0.3723 - val_loss: 0.4052\n",
      "Epoch 43/50\n",
      "1281/1281 [==============================] - 39s 31ms/step - loss: 0.3717 - val_loss: 0.4052\n",
      "Epoch 44/50\n",
      "1281/1281 [==============================] - 39s 31ms/step - loss: 0.3718 - val_loss: 0.4030\n",
      "Epoch 45/50\n",
      "1281/1281 [==============================] - 39s 31ms/step - loss: 0.3699 - val_loss: 0.4032\n",
      "Epoch 46/50\n",
      "1281/1281 [==============================] - 39s 31ms/step - loss: 0.3699 - val_loss: 0.4017\n",
      "Epoch 47/50\n",
      "1281/1281 [==============================] - 39s 31ms/step - loss: 0.3677 - val_loss: 0.4013\n",
      "Epoch 48/50\n",
      "1281/1281 [==============================] - 39s 31ms/step - loss: 0.3656 - val_loss: 0.4002\n",
      "Epoch 49/50\n",
      "1281/1281 [==============================] - 39s 31ms/step - loss: 0.3654 - val_loss: 0.3994\n",
      "Epoch 50/50\n",
      "1281/1281 [==============================] - 39s 31ms/step - loss: 0.3658 - val_loss: 0.4003\n"
     ]
    }
   ],
   "source": [
    "model.compile(optimizer='rmsprop', loss='categorical_crossentropy')\n",
    "\n",
    "model.fit([encoder_input_data, decoder_input_data],  # training data\n",
    "          decoder_target_data,                       # labels (left shift of the target sequences)\n",
    "          batch_size=64, epochs=50, validation_split=0.2)\n",
    "\n",
    "model.save('seq2seq.h5')"
   ]
  },
  {
   "cell_type": "markdown",
   "metadata": {
    "id": "RntnWmM6Y6yd"
   },
   "source": [
    "## 4. Make predictions\n",
    "\n",
    "\n",
    "### 4.1. Translate English to XXX\n",
    "\n",
    "1. Encoder read a sentence (source language) and output its final states, $h_t$ and $c_t$.\n",
    "2. Take the [star] sign \"\\t\" and the final state $h_t$ and $c_t$ as input and run the decoder.\n",
    "3. Get the new states and predicted probability distribution.\n",
    "4. sample a char from the predicted probability distribution\n",
    "5. take the sampled char and the new states as input and repeat the process (stop if reach the [stop] sign \"\\n\")."
   ]
  },
  {
   "cell_type": "code",
   "execution_count": 21,
   "metadata": {
    "id": "oGllg-LNY6ye"
   },
   "outputs": [],
   "source": [
    "# Reverse-lookup token index to decode sequences back to something readable.\n",
    "reverse_input_char_index = dict((i, char) for char, i in input_token_index.items())\n",
    "reverse_target_char_index = dict((i, char) for char, i in target_token_index.items())"
   ]
  },
  {
   "cell_type": "code",
   "execution_count": 22,
   "metadata": {
    "id": "ntNcJwFgY6ye"
   },
   "outputs": [],
   "source": [
    "def decode_sequence(input_seq):\n",
    "    states_value = encoder_model.predict(input_seq)\n",
    "\n",
    "    target_seq = numpy.zeros((1, 1, num_decoder_tokens))\n",
    "    target_seq[0, 0, target_token_index['\\t']] = 1.\n",
    "\n",
    "    stop_condition = False\n",
    "    decoded_sentence = ''\n",
    "    while not stop_condition:\n",
    "        output_tokens, h, c = decoder_model.predict([target_seq] + states_value)\n",
    "\n",
    "        # this line of code is greedy selection\n",
    "        # try to use multinomial sampling instead (with temperature)\n",
    "        sampled_token_index = numpy.argmax(output_tokens[0, -1, :])\n",
    "        \n",
    "        sampled_char = reverse_target_char_index[sampled_token_index]\n",
    "        decoded_sentence += sampled_char\n",
    "\n",
    "        if (sampled_char == '\\n' or\n",
    "           len(decoded_sentence) > max_decoder_seq_length):\n",
    "            stop_condition = True\n",
    "\n",
    "        target_seq = numpy.zeros((1, 1, num_decoder_tokens))\n",
    "        target_seq[0, 0, sampled_token_index] = 1.\n",
    "\n",
    "        states_value = [h, c]\n",
    "\n",
    "    return decoded_sentence\n"
   ]
  },
  {
   "cell_type": "code",
   "execution_count": 23,
   "metadata": {
    "colab": {
     "base_uri": "https://localhost:8080/"
    },
    "id": "I_CEP_POY6ye",
    "outputId": "f7080e7d-4fab-43b4-8eec-3418fccf932c"
   },
   "outputs": [
    {
     "name": "stdout",
     "output_type": "stream",
     "text": [
      "-\n",
      "English:        i loved you\n",
      "Spanish (true):  yo te amaba\n",
      "Spanish (pred):  yo le quiero\n",
      "-\n",
      "English:        i loved you\n",
      "Spanish (true):  yo os quise\n",
      "Spanish (pred):  yo le quiero\n",
      "-\n",
      "English:        i loved you\n",
      "Spanish (true):  yo os amaba\n",
      "Spanish (pred):  yo le quiero\n",
      "-\n",
      "English:        i made that\n",
      "Spanish (true):  yo hice eso\n",
      "Spanish (pred):  lo hice eso\n",
      "-\n",
      "English:        i mean that\n",
      "Spanish (true):  a eso me refiero\n",
      "Spanish (pred):  lo hice eso\n",
      "-\n",
      "English:        i missed it\n",
      "Spanish (true):  lo extranaba\n",
      "Spanish (pred):  lo lo entendi\n",
      "-\n",
      "English:        i must hide\n",
      "Spanish (true):  debo esconderme\n",
      "Spanish (pred):  debo de estar enfermo\n",
      "-\n",
      "English:        i need cash\n",
      "Spanish (true):  necesito dinero en efectivo\n",
      "Spanish (pred):  necesito cana\n",
      "-\n",
      "English:        i need cash\n",
      "Spanish (true):  necesito efectivo\n",
      "Spanish (pred):  necesito cana\n",
      "-\n",
      "English:        i need cash\n",
      "Spanish (true):  necesito dinero en metalico\n",
      "Spanish (pred):  necesito cana\n",
      "-\n",
      "English:        i need help\n",
      "Spanish (true):  necesito ayuda\n",
      "Spanish (pred):  necesito ayuda\n",
      "-\n",
      "English:        i need help\n",
      "Spanish (true):  necesito ayuda\n",
      "Spanish (pred):  necesito ayuda\n",
      "-\n",
      "English:        i need help\n",
      "Spanish (true):  necesito ayuda\n",
      "Spanish (pred):  necesito ayuda\n",
      "-\n",
      "English:        i need mine\n",
      "Spanish (true):  necesito el mio\n",
      "Spanish (pred):  necesito mas ciempo\n",
      "-\n",
      "English:        i need mine\n",
      "Spanish (true):  necesito la mia\n",
      "Spanish (pred):  necesito mas ciempo\n",
      "-\n",
      "English:        i need them\n",
      "Spanish (true):  los necesito\n",
      "Spanish (pred):  necesito algo\n",
      "-\n",
      "English:        i need this\n",
      "Spanish (true):  necesito esto\n",
      "Spanish (pred):  necesito esto\n",
      "-\n",
      "English:        i need time\n",
      "Spanish (true):  necesito tiempo\n",
      "Spanish (pred):  necesito mas tiempo\n",
      "-\n",
      "English:        i needed it\n",
      "Spanish (true):  yo lo necesite\n",
      "Spanish (pred):  yo necesito a un minuto\n",
      "-\n",
      "English:        i never cry\n",
      "Spanish (true):  nunca lloro\n",
      "Spanish (pred):  nunca lo he decho\n"
     ]
    }
   ],
   "source": [
    "for seq_index in range(2100, 2120):\n",
    "    # Take one sequence (part of the training set)\n",
    "    # for trying out decoding.\n",
    "    input_seq = encoder_input_data[seq_index: seq_index + 1]\n",
    "    decoded_sentence = decode_sequence(input_seq)\n",
    "    print('-')\n",
    "    print('English:       ', input_texts[seq_index])\n",
    "    print('Spanish (true): ', target_texts[seq_index][1:-1])\n",
    "    print('Spanish (pred): ', decoded_sentence[0:-1])\n"
   ]
  },
  {
   "cell_type": "markdown",
   "metadata": {
    "id": "rYhg_QUiY6ye"
   },
   "source": [
    "### 4.2. Translate an English sentence to the target language\n",
    "\n",
    "1. Tokenization\n",
    "2. One-hot encode\n",
    "3. Translate"
   ]
  },
  {
   "cell_type": "code",
   "execution_count": 33,
   "metadata": {
    "colab": {
     "base_uri": "https://localhost:8080/"
    },
    "id": "r1JNvsffY6ye",
    "outputId": "724b2a22-2ccd-4ef7-d1fe-3ca5838a6bb8"
   },
   "outputs": [
    {
     "name": "stdout",
     "output_type": "stream",
     "text": [
      "source sentence is: I love you\n",
      "translated sentence is: me senti un poco de vierno\n",
      "\n"
     ]
    }
   ],
   "source": [
    "input_sentence = 'I love you'\n",
    "\n",
    "input_sequence = text2sequences(len(input_sentence), [input_sentence])[0]\n",
    "\n",
    "input_x = onehot_encode(input_sequence, len(input_sentence), num_encoder_tokens)\n",
    "\n",
    "translated_sentence = decode_sequence(input_x)\n",
    "\n",
    "print('source sentence is: ' + input_sentence)\n",
    "print('translated sentence is: ' + translated_sentence)"
   ]
  },
  {
   "cell_type": "markdown",
   "metadata": {
    "id": "F72C5gBvY6ye"
   },
   "source": [
    "## 5. Evaluate the translation using BLEU score\n",
    "\n",
    "Reference: \n",
    "- https://machinelearningmastery.com/calculate-bleu-score-for-text-python/\n",
    "- https://en.wikipedia.org/wiki/BLEU\n",
    "\n",
    "\n",
    "**Hint:** \n",
    "\n",
    "- Randomly partition the dataset to training, validation, and test. \n",
    "\n",
    "- Evaluate the BLEU score using the test set. Report the average.\n",
    "\n",
    "- A reasonable BLEU score should be 0.1 ~ 0.5."
   ]
  },
  {
   "cell_type": "code",
   "execution_count": 39,
   "metadata": {
    "id": "T1BGTivfY6yf"
   },
   "outputs": [],
   "source": [
    "cleaned_data = clean_data(pairs)[n_train: n_train + 1000]\n",
    "input_test_texts, target_test_texts = cleaned_data[:, 0], cleaned_data[:, 1]"
   ]
  },
  {
   "cell_type": "code",
   "execution_count": 40,
   "metadata": {
    "colab": {
     "base_uri": "https://localhost:8080/"
    },
    "id": "sKY6tS3VABWd",
    "outputId": "ef55feac-3009-430c-caa6-bbf0d9892f6e"
   },
   "outputs": [
    {
     "name": "stderr",
     "output_type": "stream",
     "text": [
      "/usr/local/lib/python3.7/dist-packages/nltk/translate/bleu_score.py:490: UserWarning: \n",
      "Corpus/Sentence contains 0 counts of 2-gram overlaps.\n",
      "BLEU scores might be undesirable; use SmoothingFunction().\n",
      "  warnings.warn(_msg)\n"
     ]
    },
    {
     "name": "stdout",
     "output_type": "stream",
     "text": [
      "Average BLEU score 0.137\n"
     ]
    }
   ],
   "source": [
    "from nltk.translate.bleu_score import sentence_bleu\n",
    "score = 0\n",
    "for i, input_sentence in enumerate(input_test_texts):\n",
    "  input_sequence,_ = text2sequences(len(input_sentence), [input_sentence])\n",
    "  input_x = onehot_encode(input_sequence, len(input_sentence), num_encoder_tokens)\n",
    "  translated_sentence = decode_sequence(input_x)\n",
    "  reference = translated_sentence.split()\n",
    "  candidate = target_test_texts[i].split()\n",
    "  s = sentence_bleu(reference, candidate)\n",
    "  score += s\n",
    "\n",
    "print(\"Average BLEU score {0:.3f}\".format(score / len(input_test_texts)))"
   ]
  }
 ],
 "metadata": {
  "accelerator": "GPU",
  "colab": {
   "name": "Homework 5.ipynb",
   "provenance": []
  },
  "kernelspec": {
   "display_name": "Python 3",
   "language": "python",
   "name": "python3"
  },
  "language_info": {
   "codemirror_mode": {
    "name": "ipython",
    "version": 3
   },
   "file_extension": ".py",
   "mimetype": "text/x-python",
   "name": "python",
   "nbconvert_exporter": "python",
   "pygments_lexer": "ipython3",
   "version": "3.8.8"
  }
 },
 "nbformat": 4,
 "nbformat_minor": 4
}
