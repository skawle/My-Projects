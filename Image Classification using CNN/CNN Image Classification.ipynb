{
 "cells": [
  {
   "cell_type": "markdown",
   "metadata": {
    "id": "1mY_5jxR888-"
   },
   "source": [
    "## Build a CNN for image recognition.\n"
   ]
  },
  {
   "cell_type": "markdown",
   "metadata": {
    "id": "mXWC9BM5889A"
   },
   "source": [
    "## 1. Data preparation"
   ]
  },
  {
   "cell_type": "markdown",
   "metadata": {
    "id": "QzLzmqa5889A"
   },
   "source": [
    "### 1.1. Load data\n"
   ]
  },
  {
   "cell_type": "code",
   "execution_count": 1,
   "metadata": {
    "colab": {
     "base_uri": "https://localhost:8080/"
    },
    "id": "n4dy2nM4889B",
    "outputId": "a2b44388-71c1-40ac-be0e-98ccc9075890"
   },
   "outputs": [
    {
     "name": "stdout",
     "output_type": "stream",
     "text": [
      "Downloading data from https://www.cs.toronto.edu/~kriz/cifar-10-python.tar.gz\n",
      "170500096/170498071 [==============================] - 2s 0us/step\n",
      "shape of x_train: (50000, 32, 32, 3)\n",
      "shape of y_train: (50000, 1)\n",
      "shape of x_test: (10000, 32, 32, 3)\n",
      "shape of y_test: (10000, 1)\n",
      "number of classes: 10\n"
     ]
    }
   ],
   "source": [
    "from keras.datasets import cifar10\n",
    "import numpy\n",
    "\n",
    "(x_train, y_train), (x_test, y_test) = cifar10.load_data()\n",
    "\n",
    "print('shape of x_train: ' + str(x_train.shape))\n",
    "print('shape of y_train: ' + str(y_train.shape))\n",
    "print('shape of x_test: ' + str(x_test.shape))\n",
    "print('shape of y_test: ' + str(y_test.shape))\n",
    "print('number of classes: ' + str(numpy.max(y_train) - numpy.min(y_train) + 1))"
   ]
  },
  {
   "cell_type": "markdown",
   "metadata": {
    "id": "DP8j-wVx889B"
   },
   "source": [
    "### 1.2. One-hot encode the labels\n",
    "\n",
    "In the input, a label is a scalar in $\\{0, 1, \\cdots , 9\\}$. One-hot encode transform such a scalar to a $10$-dim vector. E.g., a scalar ```y_train[j]=3``` is transformed to the vector ```y_train_vec[j]=[0, 0, 0, 1, 0, 0, 0, 0, 0, 0]```.\n",
    "\n",
    "1. Define a function ```to_one_hot``` that transforms an $n\\times 1$ array to a $n\\times 10$ matrix.\n",
    "\n",
    "2. Apply the function to ```y_train``` and ```y_test```."
   ]
  },
  {
   "cell_type": "code",
   "execution_count": 2,
   "metadata": {
    "colab": {
     "base_uri": "https://localhost:8080/"
    },
    "id": "VztmMjEu889C",
    "outputId": "13aac741-30c7-442e-b047-4257882c1cb1"
   },
   "outputs": [
    {
     "name": "stdout",
     "output_type": "stream",
     "text": [
      "Shape of y_train_vec: (50000, 10)\n",
      "Shape of y_test_vec: (10000, 10)\n",
      "[6]\n",
      "[0. 0. 0. 0. 0. 0. 1. 0. 0. 0.]\n"
     ]
    }
   ],
   "source": [
    "import numpy as np\n",
    "\n",
    "def to_one_hot(y, num_class=10):\n",
    "    results = np.zeros((len(y),num_class))\n",
    "    for i, label in enumerate(y):\n",
    "      results[i,label] = 1.\n",
    "    return results\n",
    "\n",
    "y_train_vec = to_one_hot(y_train)\n",
    "y_test_vec = to_one_hot(y_test)\n",
    "\n",
    "print('Shape of y_train_vec: ' + str(y_train_vec.shape))\n",
    "print('Shape of y_test_vec: ' + str(y_test_vec.shape))\n",
    "\n",
    "print(y_train[0])\n",
    "print(y_train_vec[0])"
   ]
  },
  {
   "cell_type": "markdown",
   "metadata": {
    "id": "ewj3m7P5889C"
   },
   "source": [
    "### 1.3. Randomly partition the training set to training and validation sets\n",
    "\n",
    "Randomly partition the 50K training samples to 2 sets:\n",
    "* a training set containing 40K samples\n",
    "* a validation set containing 10K samples\n"
   ]
  },
  {
   "cell_type": "code",
   "execution_count": 3,
   "metadata": {
    "colab": {
     "base_uri": "https://localhost:8080/"
    },
    "id": "1hqQlsMQ889C",
    "outputId": "1dfa092c-e08b-4956-c243-cbf8e738eab1"
   },
   "outputs": [
    {
     "name": "stdout",
     "output_type": "stream",
     "text": [
      "Shape of x_tr: (40000, 32, 32, 3)\n",
      "Shape of y_tr: (40000, 10)\n",
      "Shape of x_val: (10000, 32, 32, 3)\n",
      "Shape of y_val: (10000, 10)\n"
     ]
    }
   ],
   "source": [
    "rand_indices = numpy.random.permutation(50000)\n",
    "train_indices = rand_indices[0:40000]\n",
    "valid_indices = rand_indices[40000:50000]\n",
    "\n",
    "x_val = x_train[valid_indices, :]\n",
    "y_val = y_train_vec[valid_indices, :]\n",
    "\n",
    "x_tr = x_train[train_indices, :]\n",
    "y_tr = y_train_vec[train_indices, :]\n",
    "\n",
    "print('Shape of x_tr: ' + str(x_tr.shape))\n",
    "print('Shape of y_tr: ' + str(y_tr.shape))\n",
    "print('Shape of x_val: ' + str(x_val.shape))\n",
    "print('Shape of y_val: ' + str(y_val.shape))"
   ]
  },
  {
   "cell_type": "markdown",
   "metadata": {
    "id": "wXoX7poV889D"
   },
   "source": [
    "## 2. Build a CNN and tune its hyper-parameters\n",
    "\n",
    "1. Build a convolutional neural network model\n",
    "2. Use the validation data to tune the hyper-parameters (e.g., network structure, and optimization algorithm)\n",
    "    * Do NOT use test data for hyper-parameter tuning!!!\n",
    "3. Try to achieve a validation accuracy as high as possible."
   ]
  },
  {
   "cell_type": "markdown",
   "metadata": {
    "id": "YcXcI5XI889D"
   },
   "source": [
    "### Remark: \n",
    "\n",
    "The following CNN is just an example. You are supposed to make **substantial improvements** such as:\n",
    "* Add more layers.\n",
    "* Use regularizations, e.g., dropout.\n",
    "* Use batch normalization."
   ]
  },
  {
   "cell_type": "code",
   "execution_count": 4,
   "metadata": {
    "colab": {
     "base_uri": "https://localhost:8080/"
    },
    "id": "NhyI1eaI889D",
    "outputId": "8f75e159-c1f9-438a-9cea-9d328d5f5836"
   },
   "outputs": [
    {
     "name": "stdout",
     "output_type": "stream",
     "text": [
      "Model: \"sequential\"\n",
      "_________________________________________________________________\n",
      "Layer (type)                 Output Shape              Param #   \n",
      "=================================================================\n",
      "conv2d (Conv2D)              (None, 32, 32, 32)        896       \n",
      "_________________________________________________________________\n",
      "batch_normalization (BatchNo (None, 32, 32, 32)        128       \n",
      "_________________________________________________________________\n",
      "activation (Activation)      (None, 32, 32, 32)        0         \n",
      "_________________________________________________________________\n",
      "conv2d_1 (Conv2D)            (None, 32, 32, 32)        9248      \n",
      "_________________________________________________________________\n",
      "batch_normalization_1 (Batch (None, 32, 32, 32)        128       \n",
      "_________________________________________________________________\n",
      "activation_1 (Activation)    (None, 32, 32, 32)        0         \n",
      "_________________________________________________________________\n",
      "max_pooling2d (MaxPooling2D) (None, 16, 16, 32)        0         \n",
      "_________________________________________________________________\n",
      "dropout (Dropout)            (None, 16, 16, 32)        0         \n",
      "_________________________________________________________________\n",
      "conv2d_2 (Conv2D)            (None, 16, 16, 64)        18496     \n",
      "_________________________________________________________________\n",
      "batch_normalization_2 (Batch (None, 16, 16, 64)        256       \n",
      "_________________________________________________________________\n",
      "activation_2 (Activation)    (None, 16, 16, 64)        0         \n",
      "_________________________________________________________________\n",
      "conv2d_3 (Conv2D)            (None, 16, 16, 64)        36928     \n",
      "_________________________________________________________________\n",
      "batch_normalization_3 (Batch (None, 16, 16, 64)        256       \n",
      "_________________________________________________________________\n",
      "activation_3 (Activation)    (None, 16, 16, 64)        0         \n",
      "_________________________________________________________________\n",
      "max_pooling2d_1 (MaxPooling2 (None, 8, 8, 64)          0         \n",
      "_________________________________________________________________\n",
      "dropout_1 (Dropout)          (None, 8, 8, 64)          0         \n",
      "_________________________________________________________________\n",
      "conv2d_4 (Conv2D)            (None, 8, 8, 128)         73856     \n",
      "_________________________________________________________________\n",
      "batch_normalization_4 (Batch (None, 8, 8, 128)         512       \n",
      "_________________________________________________________________\n",
      "activation_4 (Activation)    (None, 8, 8, 128)         0         \n",
      "_________________________________________________________________\n",
      "conv2d_5 (Conv2D)            (None, 8, 8, 128)         147584    \n",
      "_________________________________________________________________\n",
      "batch_normalization_5 (Batch (None, 8, 8, 128)         512       \n",
      "_________________________________________________________________\n",
      "activation_5 (Activation)    (None, 8, 8, 128)         0         \n",
      "_________________________________________________________________\n",
      "max_pooling2d_2 (MaxPooling2 (None, 4, 4, 128)         0         \n",
      "_________________________________________________________________\n",
      "flatten (Flatten)            (None, 2048)              0         \n",
      "_________________________________________________________________\n",
      "dropout_2 (Dropout)          (None, 2048)              0         \n",
      "_________________________________________________________________\n",
      "dense (Dense)                (None, 128)               262272    \n",
      "_________________________________________________________________\n",
      "batch_normalization_6 (Batch (None, 128)               512       \n",
      "_________________________________________________________________\n",
      "activation_6 (Activation)    (None, 128)               0         \n",
      "_________________________________________________________________\n",
      "dense_1 (Dense)              (None, 10)                1290      \n",
      "=================================================================\n",
      "Total params: 552,874\n",
      "Trainable params: 551,722\n",
      "Non-trainable params: 1,152\n",
      "_________________________________________________________________\n"
     ]
    }
   ],
   "source": [
    "from keras.layers import Conv2D, MaxPooling2D, Flatten, Dense, Dropout, BatchNormalization, Activation\n",
    "from keras.models import Sequential\n",
    "\n",
    "model = Sequential()\n",
    "model.add(Conv2D(32, (3, 3), padding='same', input_shape=(32, 32, 3)))\n",
    "model.add(BatchNormalization())\n",
    "model.add(Activation('relu'))\n",
    "model.add(Conv2D(32, (3, 3), padding='same'))\n",
    "model.add(BatchNormalization())\n",
    "model.add(Activation('relu'))\n",
    "model.add(MaxPooling2D((2, 2)))\n",
    "\n",
    "model.add(Dropout(0.3))\n",
    "model.add(Conv2D(64, (3, 3), padding='same'))\n",
    "model.add(BatchNormalization())\n",
    "model.add(Activation('relu'))\n",
    "model.add(Conv2D(64, (3, 3), padding='same'))\n",
    "model.add(BatchNormalization())\n",
    "model.add(Activation('relu'))\n",
    "model.add(MaxPooling2D((2, 2)))\n",
    "\n",
    "model.add(Dropout(0.4))\n",
    "model.add(Conv2D(128, (3, 3), padding='same')) \n",
    "model.add(BatchNormalization())\n",
    "model.add(Activation('relu'))\n",
    "model.add(Conv2D(128, (3, 3), padding='same')) \n",
    "model.add(BatchNormalization())\n",
    "model.add(Activation('relu'))\n",
    "model.add(MaxPooling2D((2, 2)))\n",
    "model.add(Flatten())\n",
    "\n",
    "model.add(Dropout(0.5))\n",
    "model.add(Dense(128))\n",
    "model.add(BatchNormalization())\n",
    "model.add(Activation('relu'))\n",
    "model.add(Dense(10, activation='softmax'))\n",
    "\n",
    "model.summary()"
   ]
  },
  {
   "cell_type": "code",
   "execution_count": 5,
   "metadata": {
    "id": "eiQuBBx2889E"
   },
   "outputs": [],
   "source": [
    "from keras import optimizers\n",
    "#hyper parameters\n",
    "learning_rate = 1E-3 \n",
    "batch_size = 64\n",
    "\n",
    "model.compile(loss='categorical_crossentropy',\n",
    "              optimizer=optimizers.RMSprop(lr=learning_rate),\n",
    "              metrics=['acc'])"
   ]
  },
  {
   "cell_type": "code",
   "execution_count": 6,
   "metadata": {
    "id": "NWT_EwNn9-As"
   },
   "outputs": [],
   "source": [
    "from keras.preprocessing.image import ImageDataGenerator\n",
    "#data augmentation\n",
    "train_datagen = ImageDataGenerator(\n",
    "\t\trotation_range=15,\n",
    "\t\twidth_shift_range=0.1,\n",
    "\t\theight_shift_range=0.1,\n",
    "\t\thorizontal_flip=True,)\n",
    "train_datagen.fit(x_tr)\n",
    "train_generator = train_datagen.flow(x_tr, y_tr, batch_size)"
   ]
  },
  {
   "cell_type": "code",
   "execution_count": 7,
   "metadata": {
    "colab": {
     "base_uri": "https://localhost:8080/"
    },
    "id": "2Hkgp7lH889E",
    "outputId": "93698e98-3d72-409d-e61b-89d33ce39b22"
   },
   "outputs": [
    {
     "name": "stdout",
     "output_type": "stream",
     "text": [
      "Epoch 1/100\n",
      "625/625 [==============================] - 57s 37ms/step - loss: 1.7572 - acc: 0.3558 - val_loss: 1.6941 - val_acc: 0.4257\n",
      "Epoch 2/100\n",
      "625/625 [==============================] - 22s 36ms/step - loss: 1.2276 - acc: 0.5585 - val_loss: 1.3674 - val_acc: 0.5690\n",
      "Epoch 3/100\n",
      "625/625 [==============================] - 22s 36ms/step - loss: 1.0519 - acc: 0.6230 - val_loss: 0.9105 - val_acc: 0.6792\n",
      "Epoch 4/100\n",
      "625/625 [==============================] - 22s 36ms/step - loss: 0.9723 - acc: 0.6544 - val_loss: 0.9758 - val_acc: 0.6671\n",
      "Epoch 5/100\n",
      "625/625 [==============================] - 23s 36ms/step - loss: 0.9011 - acc: 0.6835 - val_loss: 0.9406 - val_acc: 0.6879\n",
      "Epoch 6/100\n",
      "625/625 [==============================] - 22s 36ms/step - loss: 0.8496 - acc: 0.6985 - val_loss: 0.7504 - val_acc: 0.7444\n",
      "Epoch 7/100\n",
      "625/625 [==============================] - 23s 36ms/step - loss: 0.8137 - acc: 0.7178 - val_loss: 0.9229 - val_acc: 0.6999\n",
      "Epoch 8/100\n",
      "625/625 [==============================] - 22s 36ms/step - loss: 0.7931 - acc: 0.7211 - val_loss: 0.8495 - val_acc: 0.7087\n",
      "Epoch 9/100\n",
      "625/625 [==============================] - 22s 36ms/step - loss: 0.7472 - acc: 0.7384 - val_loss: 0.6845 - val_acc: 0.7646\n",
      "Epoch 10/100\n",
      "625/625 [==============================] - 22s 36ms/step - loss: 0.7358 - acc: 0.7419 - val_loss: 0.8045 - val_acc: 0.7281\n",
      "Epoch 11/100\n",
      "625/625 [==============================] - 22s 35ms/step - loss: 0.7229 - acc: 0.7482 - val_loss: 0.8778 - val_acc: 0.7255\n",
      "Epoch 12/100\n",
      "625/625 [==============================] - 22s 35ms/step - loss: 0.7084 - acc: 0.7545 - val_loss: 0.5956 - val_acc: 0.7950\n",
      "Epoch 13/100\n",
      "625/625 [==============================] - 22s 35ms/step - loss: 0.6867 - acc: 0.7616 - val_loss: 0.7905 - val_acc: 0.7445\n",
      "Epoch 14/100\n",
      "625/625 [==============================] - 22s 36ms/step - loss: 0.6769 - acc: 0.7673 - val_loss: 0.7871 - val_acc: 0.7514\n",
      "Epoch 15/100\n",
      "625/625 [==============================] - 22s 35ms/step - loss: 0.6598 - acc: 0.7682 - val_loss: 0.6025 - val_acc: 0.7968\n",
      "Epoch 16/100\n",
      "625/625 [==============================] - 22s 36ms/step - loss: 0.6498 - acc: 0.7744 - val_loss: 0.6397 - val_acc: 0.7822\n",
      "Epoch 17/100\n",
      "625/625 [==============================] - 22s 36ms/step - loss: 0.6420 - acc: 0.7795 - val_loss: 0.5797 - val_acc: 0.8091\n",
      "Epoch 18/100\n",
      "625/625 [==============================] - 22s 36ms/step - loss: 0.6357 - acc: 0.7808 - val_loss: 0.5482 - val_acc: 0.8124\n",
      "Epoch 19/100\n",
      "625/625 [==============================] - 22s 36ms/step - loss: 0.6262 - acc: 0.7859 - val_loss: 0.7337 - val_acc: 0.7702\n",
      "Epoch 20/100\n",
      "625/625 [==============================] - 22s 36ms/step - loss: 0.6109 - acc: 0.7881 - val_loss: 0.7215 - val_acc: 0.7728\n",
      "Epoch 21/100\n",
      "625/625 [==============================] - 22s 36ms/step - loss: 0.5988 - acc: 0.7926 - val_loss: 0.5513 - val_acc: 0.8148\n",
      "Epoch 22/100\n",
      "625/625 [==============================] - 22s 36ms/step - loss: 0.6036 - acc: 0.7933 - val_loss: 0.6478 - val_acc: 0.7976\n",
      "Epoch 23/100\n",
      "625/625 [==============================] - 22s 35ms/step - loss: 0.5878 - acc: 0.7963 - val_loss: 0.6625 - val_acc: 0.7875\n",
      "Epoch 24/100\n",
      "625/625 [==============================] - 22s 36ms/step - loss: 0.5880 - acc: 0.7951 - val_loss: 0.5501 - val_acc: 0.8203\n",
      "Epoch 25/100\n",
      "625/625 [==============================] - 22s 36ms/step - loss: 0.5810 - acc: 0.7982 - val_loss: 0.5297 - val_acc: 0.8201\n",
      "Epoch 26/100\n",
      "625/625 [==============================] - 22s 36ms/step - loss: 0.5781 - acc: 0.7992 - val_loss: 0.5423 - val_acc: 0.8256\n",
      "Epoch 27/100\n",
      "625/625 [==============================] - 22s 36ms/step - loss: 0.5661 - acc: 0.8078 - val_loss: 0.5685 - val_acc: 0.8189\n",
      "Epoch 28/100\n",
      "625/625 [==============================] - 22s 36ms/step - loss: 0.5747 - acc: 0.8035 - val_loss: 0.4631 - val_acc: 0.8481\n",
      "Epoch 29/100\n",
      "625/625 [==============================] - 22s 36ms/step - loss: 0.5702 - acc: 0.8062 - val_loss: 0.7322 - val_acc: 0.7902\n",
      "Epoch 30/100\n",
      "625/625 [==============================] - 22s 36ms/step - loss: 0.5469 - acc: 0.8119 - val_loss: 0.5663 - val_acc: 0.8176\n",
      "Epoch 31/100\n",
      "625/625 [==============================] - 22s 36ms/step - loss: 0.5485 - acc: 0.8093 - val_loss: 0.5647 - val_acc: 0.8150\n",
      "Epoch 32/100\n",
      "625/625 [==============================] - 22s 36ms/step - loss: 0.5581 - acc: 0.8091 - val_loss: 0.4770 - val_acc: 0.8417\n",
      "Epoch 33/100\n",
      "625/625 [==============================] - 22s 36ms/step - loss: 0.5434 - acc: 0.8160 - val_loss: 0.4765 - val_acc: 0.8450\n",
      "Epoch 34/100\n",
      "625/625 [==============================] - 22s 36ms/step - loss: 0.5534 - acc: 0.8119 - val_loss: 0.4862 - val_acc: 0.8342\n",
      "Epoch 35/100\n",
      "625/625 [==============================] - 22s 36ms/step - loss: 0.5359 - acc: 0.8136 - val_loss: 0.6010 - val_acc: 0.8185\n",
      "Epoch 36/100\n",
      "625/625 [==============================] - 22s 36ms/step - loss: 0.5421 - acc: 0.8162 - val_loss: 0.5232 - val_acc: 0.8288\n",
      "Epoch 37/100\n",
      "625/625 [==============================] - 22s 36ms/step - loss: 0.5314 - acc: 0.8136 - val_loss: 0.4705 - val_acc: 0.8444\n",
      "Epoch 38/100\n",
      "625/625 [==============================] - 23s 36ms/step - loss: 0.5364 - acc: 0.8154 - val_loss: 0.5077 - val_acc: 0.8331\n",
      "Epoch 39/100\n",
      "625/625 [==============================] - 23s 37ms/step - loss: 0.5204 - acc: 0.8205 - val_loss: 0.5237 - val_acc: 0.8305\n",
      "Epoch 40/100\n",
      "625/625 [==============================] - 23s 36ms/step - loss: 0.5157 - acc: 0.8228 - val_loss: 0.5067 - val_acc: 0.8363\n",
      "Epoch 41/100\n",
      "625/625 [==============================] - 23s 36ms/step - loss: 0.5191 - acc: 0.8244 - val_loss: 0.5858 - val_acc: 0.8122\n",
      "Epoch 42/100\n",
      "625/625 [==============================] - 23s 37ms/step - loss: 0.5143 - acc: 0.8211 - val_loss: 0.5176 - val_acc: 0.8330\n",
      "Epoch 43/100\n",
      "625/625 [==============================] - 23s 37ms/step - loss: 0.5088 - acc: 0.8242 - val_loss: 0.6537 - val_acc: 0.7940\n",
      "Epoch 44/100\n",
      "625/625 [==============================] - 23s 36ms/step - loss: 0.5123 - acc: 0.8265 - val_loss: 0.4860 - val_acc: 0.8391\n",
      "Epoch 45/100\n",
      "625/625 [==============================] - 23s 36ms/step - loss: 0.5117 - acc: 0.8256 - val_loss: 0.5103 - val_acc: 0.8350\n",
      "Epoch 46/100\n",
      "625/625 [==============================] - 23s 36ms/step - loss: 0.5024 - acc: 0.8270 - val_loss: 0.4716 - val_acc: 0.8447\n",
      "Epoch 47/100\n",
      "625/625 [==============================] - 23s 37ms/step - loss: 0.4955 - acc: 0.8299 - val_loss: 0.4336 - val_acc: 0.8575\n",
      "Epoch 48/100\n",
      "625/625 [==============================] - 23s 36ms/step - loss: 0.4907 - acc: 0.8311 - val_loss: 0.4887 - val_acc: 0.8453\n",
      "Epoch 49/100\n",
      "625/625 [==============================] - 23s 36ms/step - loss: 0.4921 - acc: 0.8298 - val_loss: 0.4590 - val_acc: 0.8535\n",
      "Epoch 50/100\n",
      "625/625 [==============================] - 23s 37ms/step - loss: 0.4998 - acc: 0.8281 - val_loss: 0.5790 - val_acc: 0.8250\n",
      "Epoch 51/100\n",
      "625/625 [==============================] - 23s 36ms/step - loss: 0.4999 - acc: 0.8305 - val_loss: 0.5796 - val_acc: 0.8173\n",
      "Epoch 52/100\n",
      "625/625 [==============================] - 23s 36ms/step - loss: 0.4982 - acc: 0.8282 - val_loss: 0.4614 - val_acc: 0.8486\n",
      "Epoch 53/100\n",
      "625/625 [==============================] - 23s 37ms/step - loss: 0.4823 - acc: 0.8370 - val_loss: 0.4235 - val_acc: 0.8663\n",
      "Epoch 54/100\n",
      "625/625 [==============================] - 23s 36ms/step - loss: 0.4869 - acc: 0.8303 - val_loss: 0.5162 - val_acc: 0.8353\n",
      "Epoch 55/100\n",
      "625/625 [==============================] - 23s 36ms/step - loss: 0.4790 - acc: 0.8329 - val_loss: 0.5813 - val_acc: 0.8176\n",
      "Epoch 56/100\n",
      "625/625 [==============================] - 23s 36ms/step - loss: 0.4793 - acc: 0.8357 - val_loss: 0.5329 - val_acc: 0.8349\n",
      "Epoch 57/100\n",
      "625/625 [==============================] - 23s 37ms/step - loss: 0.4727 - acc: 0.8358 - val_loss: 0.4567 - val_acc: 0.8531\n",
      "Epoch 58/100\n",
      "625/625 [==============================] - 23s 36ms/step - loss: 0.4848 - acc: 0.8288 - val_loss: 0.4801 - val_acc: 0.8478\n",
      "Epoch 59/100\n",
      "625/625 [==============================] - 23s 36ms/step - loss: 0.4802 - acc: 0.8339 - val_loss: 0.5333 - val_acc: 0.8367\n",
      "Epoch 60/100\n",
      "625/625 [==============================] - 23s 37ms/step - loss: 0.4699 - acc: 0.8391 - val_loss: 0.4869 - val_acc: 0.8463\n",
      "Epoch 61/100\n",
      "625/625 [==============================] - 23s 37ms/step - loss: 0.4696 - acc: 0.8367 - val_loss: 0.4840 - val_acc: 0.8466\n",
      "Epoch 62/100\n",
      "625/625 [==============================] - 23s 37ms/step - loss: 0.4694 - acc: 0.8390 - val_loss: 0.4589 - val_acc: 0.8519\n",
      "Epoch 63/100\n",
      "625/625 [==============================] - 23s 37ms/step - loss: 0.4673 - acc: 0.8376 - val_loss: 0.5774 - val_acc: 0.8196\n",
      "Epoch 64/100\n",
      "625/625 [==============================] - 23s 37ms/step - loss: 0.4681 - acc: 0.8399 - val_loss: 0.4741 - val_acc: 0.8471\n",
      "Epoch 65/100\n",
      "625/625 [==============================] - 23s 37ms/step - loss: 0.4572 - acc: 0.8447 - val_loss: 0.5268 - val_acc: 0.8401\n",
      "Epoch 66/100\n",
      "625/625 [==============================] - 23s 37ms/step - loss: 0.4709 - acc: 0.8402 - val_loss: 0.6356 - val_acc: 0.8079\n",
      "Epoch 67/100\n",
      "625/625 [==============================] - 23s 37ms/step - loss: 0.4493 - acc: 0.8477 - val_loss: 0.4821 - val_acc: 0.8452\n",
      "Epoch 68/100\n",
      "625/625 [==============================] - 23s 37ms/step - loss: 0.4577 - acc: 0.8420 - val_loss: 0.4362 - val_acc: 0.8543\n",
      "Epoch 69/100\n",
      "625/625 [==============================] - 23s 36ms/step - loss: 0.4609 - acc: 0.8405 - val_loss: 0.4832 - val_acc: 0.8462\n",
      "Epoch 70/100\n",
      "625/625 [==============================] - 23s 37ms/step - loss: 0.4615 - acc: 0.8414 - val_loss: 0.4891 - val_acc: 0.8464\n",
      "Epoch 71/100\n",
      "625/625 [==============================] - 23s 37ms/step - loss: 0.4732 - acc: 0.8381 - val_loss: 0.4506 - val_acc: 0.8512\n",
      "Epoch 72/100\n",
      "625/625 [==============================] - 23s 37ms/step - loss: 0.4553 - acc: 0.8433 - val_loss: 0.5075 - val_acc: 0.8462\n",
      "Epoch 73/100\n",
      "625/625 [==============================] - 23s 37ms/step - loss: 0.4534 - acc: 0.8444 - val_loss: 0.4412 - val_acc: 0.8581\n",
      "Epoch 74/100\n",
      "625/625 [==============================] - 23s 37ms/step - loss: 0.4689 - acc: 0.8375 - val_loss: 0.4887 - val_acc: 0.8430\n",
      "Epoch 75/100\n",
      "625/625 [==============================] - 23s 37ms/step - loss: 0.4536 - acc: 0.8468 - val_loss: 0.3840 - val_acc: 0.8735\n",
      "Epoch 76/100\n",
      "625/625 [==============================] - 23s 37ms/step - loss: 0.4591 - acc: 0.8427 - val_loss: 0.4403 - val_acc: 0.8526\n",
      "Epoch 77/100\n",
      "625/625 [==============================] - 23s 37ms/step - loss: 0.4527 - acc: 0.8429 - val_loss: 0.4238 - val_acc: 0.8623\n",
      "Epoch 78/100\n",
      "625/625 [==============================] - 23s 37ms/step - loss: 0.4522 - acc: 0.8455 - val_loss: 0.4399 - val_acc: 0.8573\n",
      "Epoch 79/100\n",
      "625/625 [==============================] - 23s 36ms/step - loss: 0.4501 - acc: 0.8454 - val_loss: 0.5597 - val_acc: 0.8369\n",
      "Epoch 80/100\n",
      "625/625 [==============================] - 22s 36ms/step - loss: 0.4480 - acc: 0.8452 - val_loss: 0.4128 - val_acc: 0.8680\n",
      "Epoch 81/100\n",
      "625/625 [==============================] - 23s 36ms/step - loss: 0.4457 - acc: 0.8498 - val_loss: 0.4226 - val_acc: 0.8628\n",
      "Epoch 82/100\n",
      "625/625 [==============================] - 23s 37ms/step - loss: 0.4554 - acc: 0.8449 - val_loss: 0.4963 - val_acc: 0.8491\n",
      "Epoch 83/100\n",
      "625/625 [==============================] - 23s 36ms/step - loss: 0.4317 - acc: 0.8491 - val_loss: 0.4488 - val_acc: 0.8555\n",
      "Epoch 84/100\n",
      "625/625 [==============================] - 23s 36ms/step - loss: 0.4406 - acc: 0.8462 - val_loss: 0.6360 - val_acc: 0.8201\n",
      "Epoch 85/100\n",
      "625/625 [==============================] - 23s 36ms/step - loss: 0.4414 - acc: 0.8471 - val_loss: 0.4816 - val_acc: 0.8473\n",
      "Epoch 86/100\n",
      "625/625 [==============================] - 23s 36ms/step - loss: 0.4368 - acc: 0.8483 - val_loss: 0.4480 - val_acc: 0.8535\n",
      "Epoch 87/100\n",
      "625/625 [==============================] - 23s 36ms/step - loss: 0.4362 - acc: 0.8506 - val_loss: 0.4707 - val_acc: 0.8485\n",
      "Epoch 88/100\n",
      "625/625 [==============================] - 23s 37ms/step - loss: 0.4368 - acc: 0.8491 - val_loss: 0.3794 - val_acc: 0.8778\n",
      "Epoch 89/100\n",
      "625/625 [==============================] - 23s 37ms/step - loss: 0.4331 - acc: 0.8525 - val_loss: 0.4259 - val_acc: 0.8635\n",
      "Epoch 90/100\n",
      "625/625 [==============================] - 23s 37ms/step - loss: 0.4413 - acc: 0.8459 - val_loss: 0.4205 - val_acc: 0.8597\n",
      "Epoch 91/100\n",
      "625/625 [==============================] - 23s 37ms/step - loss: 0.4392 - acc: 0.8468 - val_loss: 0.3867 - val_acc: 0.8709\n",
      "Epoch 92/100\n",
      "625/625 [==============================] - 23s 37ms/step - loss: 0.4288 - acc: 0.8529 - val_loss: 0.5012 - val_acc: 0.8491\n",
      "Epoch 93/100\n",
      "625/625 [==============================] - 23s 37ms/step - loss: 0.4410 - acc: 0.8464 - val_loss: 0.5176 - val_acc: 0.8478\n",
      "Epoch 94/100\n",
      "625/625 [==============================] - 23s 37ms/step - loss: 0.4340 - acc: 0.8496 - val_loss: 0.4238 - val_acc: 0.8655\n",
      "Epoch 95/100\n",
      "625/625 [==============================] - 23s 37ms/step - loss: 0.4254 - acc: 0.8501 - val_loss: 0.4502 - val_acc: 0.8577\n",
      "Epoch 96/100\n",
      "625/625 [==============================] - 23s 37ms/step - loss: 0.4163 - acc: 0.8564 - val_loss: 0.4558 - val_acc: 0.8518\n",
      "Epoch 97/100\n",
      "625/625 [==============================] - 23s 37ms/step - loss: 0.4279 - acc: 0.8533 - val_loss: 0.4342 - val_acc: 0.8609\n",
      "Epoch 98/100\n",
      "625/625 [==============================] - 23s 37ms/step - loss: 0.4233 - acc: 0.8569 - val_loss: 0.4561 - val_acc: 0.8594\n",
      "Epoch 99/100\n",
      "625/625 [==============================] - 23s 37ms/step - loss: 0.4227 - acc: 0.8536 - val_loss: 0.4106 - val_acc: 0.8670\n",
      "Epoch 100/100\n",
      "625/625 [==============================] - 23s 37ms/step - loss: 0.4287 - acc: 0.8495 - val_loss: 0.5341 - val_acc: 0.8379\n"
     ]
    }
   ],
   "source": [
    "steps= int(x_tr.shape[0] / batch_size)\n",
    "history = model.fit(train_generator, steps_per_epoch = steps, epochs = 100, validation_data=(x_val, y_val))"
   ]
  },
  {
   "cell_type": "code",
   "execution_count": 8,
   "metadata": {
    "colab": {
     "base_uri": "https://localhost:8080/",
     "height": 573
    },
    "id": "kSO3usQk889E",
    "outputId": "9ad75137-2b76-4efd-e76b-ad7dcc0df6be"
   },
   "outputs": [
    {
     "data": {
      "image/png": "[encoded data removed]",
      "text/plain": [
       "<Figure size 432x288 with 1 Axes>"
      ]
     },
     "metadata": {
      "needs_background": "light",
      "tags": []
     },
     "output_type": "display_data"
    },
    {
     "data": {
      "image/png": "[encoded data removed]",
      "text/plain": [
       "<Figure size 432x288 with 1 Axes>"
      ]
     },
     "metadata": {
      "needs_background": "light",
      "tags": []
     },
     "output_type": "display_data"
    }
   ],
   "source": [
    "import matplotlib.pyplot as plt\n",
    "%matplotlib inline\n",
    "\n",
    "acc = history.history['acc']\n",
    "val_acc = history.history['val_acc']\n",
    "\n",
    "loss = history.history['loss']\n",
    "val_loss= history.history['val_loss']\n",
    "\n",
    "epochs = range(len(acc))\n",
    "\n",
    "plt.title('Accuracy')\n",
    "plt.plot(epochs, acc, 'bo', label='Training acc')\n",
    "plt.plot(epochs, val_acc, 'r', label='Validation acc')\n",
    "plt.xlabel('Epochs')\n",
    "plt.ylabel('Accuracy')\n",
    "plt.legend()\n",
    "plt.show()\n",
    "\n",
    "\n",
    "plt.title('Cross Entropy Loss')\n",
    "plt.plot(epochs, loss, 'bo', label='Training loss')\n",
    "plt.plot(epochs, val_loss, 'r', label='Validation loss')\n",
    "plt.xlabel('Epochs')\n",
    "plt.ylabel('Loss')\n",
    "plt.legend()\n",
    "plt.show()"
   ]
  },
  {
   "cell_type": "markdown",
   "metadata": {
    "id": "rFc36e8X889E"
   },
   "source": [
    "## 3. Train (again) and evaluate the model\n",
    "\n",
    "- To this end, you have found the \"best\" hyper-parameters. \n",
    "- Now, fix the hyper-parameters and train the network on the entire training set (all the 50K training samples)\n",
    "- Evaluate your model on the test set."
   ]
  },
  {
   "cell_type": "markdown",
   "metadata": {
    "id": "3lvuK3Gw889F"
   },
   "source": [
    "### 3.1. Train the model on the entire training set"
   ]
  },
  {
   "cell_type": "code",
   "execution_count": 9,
   "metadata": {
    "id": "E26UEQk2889F"
   },
   "outputs": [],
   "source": [
    "#<Compile your model again (using the same hyper-parameters)>\n",
    "#hyper parameters\n",
    "learning_rate = 1E-3 \n",
    "batch_size = 64\n",
    "model.compile(loss='categorical_crossentropy',\n",
    "              optimizer=optimizers.RMSprop(lr=learning_rate),\n",
    "              metrics=['acc'])"
   ]
  },
  {
   "cell_type": "code",
   "execution_count": 10,
   "metadata": {
    "colab": {
     "base_uri": "https://localhost:8080/"
    },
    "id": "FI07vQJB889F",
    "outputId": "2ae9ee9b-eeae-4ea2-e45e-8e100f1f8b84"
   },
   "outputs": [
    {
     "name": "stdout",
     "output_type": "stream",
     "text": [
      "Epoch 1/100\n",
      "781/781 [==============================] - 28s 34ms/step - loss: 0.4531 - acc: 0.8457\n",
      "Epoch 2/100\n",
      "781/781 [==============================] - 27s 35ms/step - loss: 0.4488 - acc: 0.8457\n",
      "Epoch 3/100\n",
      "781/781 [==============================] - 27s 35ms/step - loss: 0.4388 - acc: 0.8509\n",
      "Epoch 4/100\n",
      "781/781 [==============================] - 27s 35ms/step - loss: 0.4439 - acc: 0.8483\n",
      "Epoch 5/100\n",
      "781/781 [==============================] - 27s 35ms/step - loss: 0.4484 - acc: 0.8462\n",
      "Epoch 6/100\n",
      "781/781 [==============================] - 27s 35ms/step - loss: 0.4430 - acc: 0.8476\n",
      "Epoch 7/100\n",
      "781/781 [==============================] - 27s 35ms/step - loss: 0.4369 - acc: 0.8488\n",
      "Epoch 8/100\n",
      "781/781 [==============================] - 27s 35ms/step - loss: 0.4452 - acc: 0.8459\n",
      "Epoch 9/100\n",
      "781/781 [==============================] - 27s 35ms/step - loss: 0.4382 - acc: 0.8484\n",
      "Epoch 10/100\n",
      "781/781 [==============================] - 27s 35ms/step - loss: 0.4278 - acc: 0.8517\n",
      "Epoch 11/100\n",
      "781/781 [==============================] - 28s 35ms/step - loss: 0.4362 - acc: 0.8521\n",
      "Epoch 12/100\n",
      "781/781 [==============================] - 27s 35ms/step - loss: 0.4209 - acc: 0.8519\n",
      "Epoch 13/100\n",
      "781/781 [==============================] - 27s 35ms/step - loss: 0.4374 - acc: 0.8506\n",
      "Epoch 14/100\n",
      "781/781 [==============================] - 27s 35ms/step - loss: 0.4304 - acc: 0.8535\n",
      "Epoch 15/100\n",
      "781/781 [==============================] - 28s 35ms/step - loss: 0.4278 - acc: 0.8540\n",
      "Epoch 16/100\n",
      "781/781 [==============================] - 27s 35ms/step - loss: 0.4313 - acc: 0.8534\n",
      "Epoch 17/100\n",
      "781/781 [==============================] - 27s 35ms/step - loss: 0.4278 - acc: 0.8519\n",
      "Epoch 18/100\n",
      "781/781 [==============================] - 27s 35ms/step - loss: 0.4255 - acc: 0.8551\n",
      "Epoch 19/100\n",
      "781/781 [==============================] - 28s 35ms/step - loss: 0.4335 - acc: 0.8501\n",
      "Epoch 20/100\n",
      "781/781 [==============================] - 28s 35ms/step - loss: 0.4291 - acc: 0.8546\n",
      "Epoch 21/100\n",
      "781/781 [==============================] - 27s 35ms/step - loss: 0.4265 - acc: 0.8551\n",
      "Epoch 22/100\n",
      "781/781 [==============================] - 27s 35ms/step - loss: 0.4215 - acc: 0.8537\n",
      "Epoch 23/100\n",
      "781/781 [==============================] - 27s 35ms/step - loss: 0.4207 - acc: 0.8566\n",
      "Epoch 24/100\n",
      "781/781 [==============================] - 27s 35ms/step - loss: 0.4235 - acc: 0.8517\n",
      "Epoch 25/100\n",
      "781/781 [==============================] - 27s 35ms/step - loss: 0.4227 - acc: 0.8552\n",
      "Epoch 26/100\n",
      "781/781 [==============================] - 27s 35ms/step - loss: 0.4094 - acc: 0.8588\n",
      "Epoch 27/100\n",
      "781/781 [==============================] - 27s 35ms/step - loss: 0.4051 - acc: 0.8588\n",
      "Epoch 28/100\n",
      "781/781 [==============================] - 27s 35ms/step - loss: 0.4182 - acc: 0.8574\n",
      "Epoch 29/100\n",
      "781/781 [==============================] - 27s 35ms/step - loss: 0.4209 - acc: 0.8546\n",
      "Epoch 30/100\n",
      "781/781 [==============================] - 27s 35ms/step - loss: 0.4124 - acc: 0.8578\n",
      "Epoch 31/100\n",
      "781/781 [==============================] - 27s 35ms/step - loss: 0.4115 - acc: 0.8594\n",
      "Epoch 32/100\n",
      "781/781 [==============================] - 27s 35ms/step - loss: 0.4097 - acc: 0.8587\n",
      "Epoch 33/100\n",
      "781/781 [==============================] - 27s 35ms/step - loss: 0.4185 - acc: 0.8580\n",
      "Epoch 34/100\n",
      "781/781 [==============================] - 27s 35ms/step - loss: 0.4097 - acc: 0.8575\n",
      "Epoch 35/100\n",
      "781/781 [==============================] - 28s 35ms/step - loss: 0.4129 - acc: 0.8582\n",
      "Epoch 36/100\n",
      "781/781 [==============================] - 27s 35ms/step - loss: 0.4070 - acc: 0.8613\n",
      "Epoch 37/100\n",
      "781/781 [==============================] - 27s 35ms/step - loss: 0.4146 - acc: 0.8548\n",
      "Epoch 38/100\n",
      "781/781 [==============================] - 28s 35ms/step - loss: 0.4106 - acc: 0.8595\n",
      "Epoch 39/100\n",
      "781/781 [==============================] - 27s 35ms/step - loss: 0.4061 - acc: 0.8598\n",
      "Epoch 40/100\n",
      "781/781 [==============================] - 27s 35ms/step - loss: 0.4108 - acc: 0.8586\n",
      "Epoch 41/100\n",
      "781/781 [==============================] - 28s 36ms/step - loss: 0.4076 - acc: 0.8574\n",
      "Epoch 42/100\n",
      "781/781 [==============================] - 28s 35ms/step - loss: 0.4039 - acc: 0.8618\n",
      "Epoch 43/100\n",
      "781/781 [==============================] - 27s 35ms/step - loss: 0.4102 - acc: 0.8574\n",
      "Epoch 44/100\n",
      "781/781 [==============================] - 28s 36ms/step - loss: 0.4085 - acc: 0.8594\n",
      "Epoch 45/100\n",
      "781/781 [==============================] - 28s 35ms/step - loss: 0.4042 - acc: 0.8586\n",
      "Epoch 46/100\n",
      "781/781 [==============================] - 28s 36ms/step - loss: 0.4056 - acc: 0.8583\n",
      "Epoch 47/100\n",
      "781/781 [==============================] - 28s 36ms/step - loss: 0.3982 - acc: 0.8617\n",
      "Epoch 48/100\n",
      "781/781 [==============================] - 28s 36ms/step - loss: 0.4059 - acc: 0.8596\n",
      "Epoch 49/100\n",
      "781/781 [==============================] - 28s 36ms/step - loss: 0.4105 - acc: 0.8569\n",
      "Epoch 50/100\n",
      "781/781 [==============================] - 28s 36ms/step - loss: 0.3987 - acc: 0.8615\n",
      "Epoch 51/100\n",
      "781/781 [==============================] - 28s 36ms/step - loss: 0.4035 - acc: 0.8597\n",
      "Epoch 52/100\n",
      "781/781 [==============================] - 28s 36ms/step - loss: 0.4029 - acc: 0.8602\n",
      "Epoch 53/100\n",
      "781/781 [==============================] - 28s 36ms/step - loss: 0.4016 - acc: 0.8619\n",
      "Epoch 54/100\n",
      "781/781 [==============================] - 28s 36ms/step - loss: 0.4013 - acc: 0.8604\n",
      "Epoch 55/100\n",
      "781/781 [==============================] - 28s 36ms/step - loss: 0.4045 - acc: 0.8605\n",
      "Epoch 56/100\n",
      "781/781 [==============================] - 28s 36ms/step - loss: 0.3991 - acc: 0.8622\n",
      "Epoch 57/100\n",
      "781/781 [==============================] - 28s 36ms/step - loss: 0.3985 - acc: 0.8607\n",
      "Epoch 58/100\n",
      "781/781 [==============================] - 28s 35ms/step - loss: 0.3987 - acc: 0.8632\n",
      "Epoch 59/100\n",
      "781/781 [==============================] - 27s 35ms/step - loss: 0.4035 - acc: 0.8619\n",
      "Epoch 60/100\n",
      "781/781 [==============================] - 27s 34ms/step - loss: 0.3898 - acc: 0.8672\n",
      "Epoch 61/100\n",
      "781/781 [==============================] - 27s 35ms/step - loss: 0.3980 - acc: 0.8613\n",
      "Epoch 62/100\n",
      "781/781 [==============================] - 27s 35ms/step - loss: 0.3912 - acc: 0.8651\n",
      "Epoch 63/100\n",
      "781/781 [==============================] - 27s 35ms/step - loss: 0.3982 - acc: 0.8636\n",
      "Epoch 64/100\n",
      "781/781 [==============================] - 27s 35ms/step - loss: 0.3888 - acc: 0.8650\n",
      "Epoch 65/100\n",
      "781/781 [==============================] - 27s 35ms/step - loss: 0.4025 - acc: 0.8621\n",
      "Epoch 66/100\n",
      "781/781 [==============================] - 27s 35ms/step - loss: 0.3942 - acc: 0.8645\n",
      "Epoch 67/100\n",
      "781/781 [==============================] - 28s 36ms/step - loss: 0.3898 - acc: 0.8630\n",
      "Epoch 68/100\n",
      "781/781 [==============================] - 28s 36ms/step - loss: 0.3913 - acc: 0.8651\n",
      "Epoch 69/100\n",
      "781/781 [==============================] - 28s 36ms/step - loss: 0.3899 - acc: 0.8648\n",
      "Epoch 70/100\n",
      "781/781 [==============================] - 28s 36ms/step - loss: 0.3950 - acc: 0.8642\n",
      "Epoch 71/100\n",
      "781/781 [==============================] - 28s 36ms/step - loss: 0.3899 - acc: 0.8633\n",
      "Epoch 72/100\n",
      "781/781 [==============================] - 28s 36ms/step - loss: 0.3873 - acc: 0.8687\n",
      "Epoch 73/100\n",
      "781/781 [==============================] - 28s 36ms/step - loss: 0.3983 - acc: 0.8638\n",
      "Epoch 74/100\n",
      "781/781 [==============================] - 28s 36ms/step - loss: 0.3926 - acc: 0.8640\n",
      "Epoch 75/100\n",
      "781/781 [==============================] - 28s 36ms/step - loss: 0.3954 - acc: 0.8642\n",
      "Epoch 76/100\n",
      "781/781 [==============================] - 28s 36ms/step - loss: 0.3969 - acc: 0.8629\n",
      "Epoch 77/100\n",
      "781/781 [==============================] - 28s 36ms/step - loss: 0.3921 - acc: 0.8657\n",
      "Epoch 78/100\n",
      "781/781 [==============================] - 28s 36ms/step - loss: 0.3899 - acc: 0.8668\n",
      "Epoch 79/100\n",
      "781/781 [==============================] - 28s 36ms/step - loss: 0.3879 - acc: 0.8663\n",
      "Epoch 80/100\n",
      "781/781 [==============================] - 28s 36ms/step - loss: 0.3789 - acc: 0.8686\n",
      "Epoch 81/100\n",
      "781/781 [==============================] - 28s 36ms/step - loss: 0.3893 - acc: 0.8648\n",
      "Epoch 82/100\n",
      "781/781 [==============================] - 28s 36ms/step - loss: 0.3883 - acc: 0.8683\n",
      "Epoch 83/100\n",
      "781/781 [==============================] - 28s 36ms/step - loss: 0.3812 - acc: 0.8684\n",
      "Epoch 84/100\n",
      "781/781 [==============================] - 28s 36ms/step - loss: 0.3834 - acc: 0.8688\n",
      "Epoch 85/100\n",
      "781/781 [==============================] - 28s 36ms/step - loss: 0.3855 - acc: 0.8673\n",
      "Epoch 86/100\n",
      "781/781 [==============================] - 28s 36ms/step - loss: 0.3763 - acc: 0.8731\n",
      "Epoch 87/100\n",
      "781/781 [==============================] - 28s 36ms/step - loss: 0.3863 - acc: 0.8671\n",
      "Epoch 88/100\n",
      "781/781 [==============================] - 28s 36ms/step - loss: 0.3859 - acc: 0.8652\n",
      "Epoch 89/100\n",
      "781/781 [==============================] - 28s 36ms/step - loss: 0.3776 - acc: 0.8700\n",
      "Epoch 90/100\n",
      "781/781 [==============================] - 28s 36ms/step - loss: 0.3790 - acc: 0.8691\n",
      "Epoch 91/100\n",
      "781/781 [==============================] - 28s 36ms/step - loss: 0.3848 - acc: 0.8677\n",
      "Epoch 92/100\n",
      "781/781 [==============================] - 28s 36ms/step - loss: 0.3781 - acc: 0.8706\n",
      "Epoch 93/100\n",
      "781/781 [==============================] - 28s 35ms/step - loss: 0.3853 - acc: 0.8669\n",
      "Epoch 94/100\n",
      "781/781 [==============================] - 28s 36ms/step - loss: 0.3847 - acc: 0.8671\n",
      "Epoch 95/100\n",
      "781/781 [==============================] - 28s 36ms/step - loss: 0.3815 - acc: 0.8676\n",
      "Epoch 96/100\n",
      "781/781 [==============================] - 28s 36ms/step - loss: 0.3810 - acc: 0.8673\n",
      "Epoch 97/100\n",
      "781/781 [==============================] - 28s 36ms/step - loss: 0.3809 - acc: 0.8684\n",
      "Epoch 98/100\n",
      "781/781 [==============================] - 28s 36ms/step - loss: 0.3829 - acc: 0.8682\n",
      "Epoch 99/100\n",
      "781/781 [==============================] - 28s 36ms/step - loss: 0.3821 - acc: 0.8682\n",
      "Epoch 100/100\n",
      "781/781 [==============================] - 28s 36ms/step - loss: 0.3745 - acc: 0.8714\n"
     ]
    }
   ],
   "source": [
    "#<Train your model on the entire training set (50K samples)>\n",
    "#<Use (x_train, y_train_vec) instead of (x_tr, y_tr)>\n",
    "#<Do NOT use the validation_data option (because now you do not have validation data)>\n",
    "train_datagen.fit(x_train)\n",
    "train_generator = train_datagen.flow(x_train, y_train_vec, batch_size)\n",
    "steps= int(x_train.shape[0] / batch_size)\n",
    "history = model.fit(train_generator, steps_per_epoch = steps, epochs = 100)"
   ]
  },
  {
   "cell_type": "markdown",
   "metadata": {
    "id": "gX9WozfD889G"
   },
   "source": [
    "### 3.2. Evaluate the model on the test set\n",
    "\n",
    "Do NOT used the test set until now. Make sure that your model parameters and hyper-parameters are independent of the test set."
   ]
  },
  {
   "cell_type": "code",
   "execution_count": 11,
   "metadata": {
    "colab": {
     "base_uri": "https://localhost:8080/"
    },
    "id": "YfyoHAQr889G",
    "outputId": "4db87d2d-1d09-4efb-b1aa-0d23c77dc69a"
   },
   "outputs": [
    {
     "name": "stdout",
     "output_type": "stream",
     "text": [
      "313/313 [==============================] - 1s 4ms/step - loss: 0.3988 - acc: 0.8697\n",
      "loss = 0.3987782597541809\n",
      "accuracy = 0.869700014591217\n"
     ]
    }
   ],
   "source": [
    "loss_and_acc = model.evaluate(x_test, y_test_vec)\n",
    "print('loss = ' + str(loss_and_acc[0]))\n",
    "print('accuracy = ' + str(loss_and_acc[1]))"
   ]
  },
  {
   "cell_type": "code",
   "execution_count": null,
   "metadata": {
    "id": "G6y1NHy1889G"
   },
   "outputs": [],
   "source": []
  }
 ],
 "metadata": {
  "accelerator": "GPU",
  "colab": {
   "collapsed_sections": [],
   "name": "Homework4.ipynb",
   "provenance": []
  },
  "kernelspec": {
   "display_name": "Python 3",
   "language": "python",
   "name": "python3"
  },
  "language_info": {
   "codemirror_mode": {
    "name": "ipython",
    "version": 3
   },
   "file_extension": ".py",
   "mimetype": "text/x-python",
   "name": "python",
   "nbconvert_exporter": "python",
   "pygments_lexer": "ipython3",
   "version": "3.8.8"
  }
 },
 "nbformat": 4,
 "nbformat_minor": 1
}
